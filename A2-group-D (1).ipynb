{
 "cells": [
  {
   "cell_type": "markdown",
   "metadata": {},
   "source": [
    "Electronic Health Records\n",
    "=========================\n",
    "\n"
   ]
  },
  {
   "cell_type": "markdown",
   "metadata": {},
   "source": [
    "## Introduction\n",
    "\n"
   ]
  },
  {
   "cell_type": "markdown",
   "metadata": {},
   "source": [
    "In this second activity, you will work on all the concepts that we have been **practicing over the last weeks**. You will practice:\n",
    "\n",
    "1.  SQL (5 points)\n",
    "2.  Regular expressions (2 points)\n",
    "3.  Bringing everything together (3 points)\n",
    "\n",
    "Some of the exercises on each of the blocks have **a common factor**, the study of [**heart failure**](https://www.cdc.gov/heartdisease/heart_failure.htm), a disease that affects the efficiency of the heart pumping blood and oxygen to other organs. This disease has a large prevalence in the US and it&rsquo;s associated with a 13% of the deaths across the country.\n",
    "\n",
    "Some notes:\n",
    "\n",
    "-   The **deadline** is set for Friday, **January 6th at 23:59 CET**. No extensions will be allowed. Any **late submission** will be evaluated with a cap on the **maximum grade of 6**.\n",
    "-   As you know, there are many ways to do a task. Here, **besides correctness, we will also evaluate efficiency**; if your query takes more than a minute, consider that there is something that you need to change.\n",
    "-   You need to work on **teams of two**. The team may be different to the one for the first assignment, you need to create it again.\n",
    "-   In the **Software** section in Moodle you will find the details to create a Docker container that includes the drivers to connect to MIMIC-III database. You should run and fill this notebook within that container.\n",
    "-   You can find the information regarding the database structure on the [**MIMIC-III webpage**](https://mimic.mit.edu/docs/iii/).\n",
    "-   Just **one member of the team needs to submit the notebook** to the Moodle task. **The format of the delivery is `A2-assignment-groupID`**, using the group id assigned on Moodle.\n",
    "-   You can use **any function available for [MariaDB](https://mariadb.com/kb/en/built-in-functions/)** to perform any of the requested queries. It is your job, using the available documentation, to find the one that better fits the job to do.\n",
    "-   The R packages that you will need to use are defined at the beginning of the document. **YOU CANNOT ALTER OR USE ADDITIONAL PACKAGES NOT LISTED THERE**.\n",
    "-   For complex codes (more than a few lines), you must use **comments to explain your design decisions**.\n",
    "-   **Variable naming is an important part of programming**. Use meaningful names in order to increase readability.\n",
    "-   **Do not get stuck** on a given exercise. Most of the exercises are not incremental, just do the easy ones first.\n",
    "\n"
   ]
  },
  {
   "cell_type": "markdown",
   "metadata": {},
   "source": [
    "### Group information\n",
    "\n"
   ]
  },
  {
   "cell_type": "markdown",
   "metadata": {},
   "source": [
    "Use this markdown cell to introduce the group data.\n",
    "\n"
   ]
  },
  {
   "cell_type": "raw",
   "metadata": {},
   "source": [
    "- GroupA2 ID: D\n",
    "- Student 1 Name: Bet Baradají\n",
    "- Student 2 Name: Jens Lagemann"
   ]
  },
  {
   "cell_type": "markdown",
   "metadata": {},
   "source": [
    "### Configuration\n",
    "\n"
   ]
  },
  {
   "cell_type": "markdown",
   "metadata": {},
   "source": [
    "In this section, you will define some **parameters needed to properly execute this notebook**. Remember that if you stop either the kernel or the container you will need to run these cells again.\n",
    "\n"
   ]
  },
  {
   "cell_type": "markdown",
   "metadata": {},
   "source": [
    "#### Loading libraries\n",
    "\n"
   ]
  },
  {
   "cell_type": "markdown",
   "metadata": {},
   "source": [
    "Those are the libraries that you can use for the realization of this activity. **You can use any of the functions available on them** (unless specified otherwise). **You cannot modify** this cell or load any other library during the completion of this assignment.\n",
    "\n"
   ]
  },
  {
   "cell_type": "code",
   "execution_count": 9,
   "metadata": {
    "vscode": {
     "languageId": "r"
    }
   },
   "outputs": [],
   "source": [
    "library(dplyr)\n",
    "library(tidyr)\n",
    "library(tibble)\n",
    "library(lubridate)\n",
    "library(readr)\n",
    "library(stringr)\n",
    "library(ggplot2)\n",
    "library(data.table)\n",
    "library(odbc)\n",
    "library(RMariaDB)"
   ]
  },
  {
   "cell_type": "markdown",
   "metadata": {},
   "source": [
    "#### Connecting to the database\n",
    "\n"
   ]
  },
  {
   "cell_type": "markdown",
   "metadata": {},
   "source": [
    "As you know, to connect to the database, we must specify an object with the specific details of the connection. In this exercise, you will use the following object, `con`, to connect. **Place your username and password on the designed locations**.\n",
    "\n"
   ]
  },
  {
   "cell_type": "code",
   "execution_count": 30,
   "metadata": {
    "vscode": {
     "languageId": "r"
    }
   },
   "outputs": [
    {
     "ename": "ERROR",
     "evalue": "Error: Failed to connect: Lost connection to server at 'handshake: reading initial communication packet', system error: 110\n",
     "output_type": "error",
     "traceback": [
      "Error: Failed to connect: Lost connection to server at 'handshake: reading initial communication packet', system error: 110\nTraceback:\n",
      "1. dbConnect(drv = RMariaDB::MariaDB(), username = \"jensalexander.lagemann\", \n .     password = \"w7mA\", host = \"10.112.11.116\", dbname = \"mimiciiiv14\", \n .     port = 3306)",
      "2. dbConnect(drv = RMariaDB::MariaDB(), username = \"jensalexander.lagemann\", \n .     password = \"w7mA\", host = \"10.112.11.116\", dbname = \"mimiciiiv14\", \n .     port = 3306)",
      "3. .local(drv, ...)",
      "4. connection_create(host, username, password, dbname, as.integer(port), \n .     unix.socket, as.integer(client.flag), groups, default.file, \n .     ssl.key, ssl.cert, ssl.ca, ssl.capath, ssl.cipher, timeout, \n .     reconnect)"
     ]
    }
   ],
   "source": [
    "con <- dbConnect(\n",
    "  drv = RMariaDB::MariaDB(),\n",
    "  username = \"jensalexander.lagemann\",\n",
    "  password = \"w7mA\",\n",
    "  host = \"10.112.11.116\",\n",
    "  dbname = \"mimiciiiv14\",\n",
    "  port = 3306\n",
    ")"
   ]
  },
  {
   "cell_type": "markdown",
   "metadata": {},
   "source": [
    "Remember that **you must first be connected to the VPN** in order to do so. Also, remember that the VPN connection is rebooted every 24h, that means that you may need to run this cell again.\n",
    "\n",
    "The following cell can be used to check if the connection works properly. The output should be the list of tables in the database.\n",
    "\n"
   ]
  },
  {
   "cell_type": "code",
   "execution_count": 2,
   "metadata": {
    "vscode": {
     "languageId": "r"
    }
   },
   "outputs": [
    {
     "ename": "ERROR",
     "evalue": "Error in h(simpleError(msg, call)): error in evaluating the argument 'conn' in selecting a method for function 'dbListTables': object 'con' not found\n",
     "output_type": "error",
     "traceback": [
      "Error in h(simpleError(msg, call)): error in evaluating the argument 'conn' in selecting a method for function 'dbListTables': object 'con' not found\nTraceback:\n",
      "1. dbListTables(con)",
      "2. .handleSimpleError(function (cond) \n . .Internal(C_tryCatchHelper(addr, 1L, cond)), \"object 'con' not found\", \n .     base::quote(dbListTables(con)))",
      "3. h(simpleError(msg, call))"
     ]
    }
   ],
   "source": [
    "dbListTables(con)"
   ]
  },
  {
   "cell_type": "markdown",
   "metadata": {},
   "source": [
    "## SQL (5 Points)\n",
    "\n"
   ]
  },
  {
   "cell_type": "markdown",
   "metadata": {},
   "source": [
    "In this first activity, you will review some of the techniques that you have learned about **the use of SQL**. In all the exercises, you need to input the SQL query in a predefined location, and then execute the next given cell to print the output.\n",
    "\n",
    "**We strongly recommend you to start working on the queries using DBeaver**. Once you get the desired output, just copy it into the specified place.\n",
    "\n"
   ]
  },
  {
   "cell_type": "markdown",
   "metadata": {},
   "source": [
    "### Number of admissions (0.25 points)\n",
    "\n"
   ]
  },
  {
   "cell_type": "markdown",
   "metadata": {},
   "source": [
    "In this first activity, you must create a table containing the **number of times that each patient has been admitted on the ICU**. The structure of the table has to be:\n",
    "\n",
    "-   `SUBJECT_ID`\n",
    "-   `N_ADM`: number of admissions\n",
    "\n",
    "The table must be ordered in **descending order according to the number of admissions**.\n",
    "\n"
   ]
  },
  {
   "cell_type": "code",
   "execution_count": 4,
   "metadata": {
    "vscode": {
     "languageId": "r"
    }
   },
   "outputs": [],
   "source": [
    "sql <- \"\n",
    "SELECT a.SUBJECT_ID, COUNT(DISTINCT a.HADM_ID) AS N_ADM\n",
    "FROM ADMISSIONS a \n",
    "GROUP BY a.SUBJECT_ID \n",
    "ORDER BY N_ADM DESC \n",
    "\""
   ]
  },
  {
   "cell_type": "code",
   "execution_count": 5,
   "metadata": {
    "vscode": {
     "languageId": "r"
    }
   },
   "outputs": [
    {
     "data": {
      "text/html": [
       "<table class=\"dataframe\">\n",
       "<caption>A data.frame: 10 × 2</caption>\n",
       "<thead>\n",
       "\t<tr><th></th><th scope=col>SUBJECT_ID</th><th scope=col>N_ADM</th></tr>\n",
       "\t<tr><th></th><th scope=col>&lt;int&gt;</th><th scope=col>&lt;int64&gt;</th></tr>\n",
       "</thead>\n",
       "<tbody>\n",
       "\t<tr><th scope=row>1</th><td>13033</td><td>42</td></tr>\n",
       "\t<tr><th scope=row>2</th><td>11861</td><td>34</td></tr>\n",
       "\t<tr><th scope=row>3</th><td>  109</td><td>34</td></tr>\n",
       "\t<tr><th scope=row>4</th><td> 5060</td><td>31</td></tr>\n",
       "\t<tr><th scope=row>5</th><td>20643</td><td>24</td></tr>\n",
       "\t<tr><th scope=row>6</th><td>19213</td><td>23</td></tr>\n",
       "\t<tr><th scope=row>7</th><td> 7809</td><td>22</td></tr>\n",
       "\t<tr><th scope=row>8</th><td> 5727</td><td>21</td></tr>\n",
       "\t<tr><th scope=row>9</th><td>23657</td><td>20</td></tr>\n",
       "\t<tr><th scope=row>10</th><td>11318</td><td>19</td></tr>\n",
       "</tbody>\n",
       "</table>\n"
      ],
      "text/latex": [
       "A data.frame: 10 × 2\n",
       "\\begin{tabular}{r|ll}\n",
       "  & SUBJECT\\_ID & N\\_ADM\\\\\n",
       "  & <int> & <int64>\\\\\n",
       "\\hline\n",
       "\t1 & 13033 & 42\\\\\n",
       "\t2 & 11861 & 34\\\\\n",
       "\t3 &   109 & 34\\\\\n",
       "\t4 &  5060 & 31\\\\\n",
       "\t5 & 20643 & 24\\\\\n",
       "\t6 & 19213 & 23\\\\\n",
       "\t7 &  7809 & 22\\\\\n",
       "\t8 &  5727 & 21\\\\\n",
       "\t9 & 23657 & 20\\\\\n",
       "\t10 & 11318 & 19\\\\\n",
       "\\end{tabular}\n"
      ],
      "text/markdown": [
       "\n",
       "A data.frame: 10 × 2\n",
       "\n",
       "| <!--/--> | SUBJECT_ID &lt;int&gt; | N_ADM &lt;int64&gt; |\n",
       "|---|---|---|\n",
       "| 1 | 13033 | 42 |\n",
       "| 2 | 11861 | 34 |\n",
       "| 3 |   109 | 34 |\n",
       "| 4 |  5060 | 31 |\n",
       "| 5 | 20643 | 24 |\n",
       "| 6 | 19213 | 23 |\n",
       "| 7 |  7809 | 22 |\n",
       "| 8 |  5727 | 21 |\n",
       "| 9 | 23657 | 20 |\n",
       "| 10 | 11318 | 19 |\n",
       "\n"
      ],
      "text/plain": [
       "   SUBJECT_ID N_ADM\n",
       "1  13033      42   \n",
       "2  11861      34   \n",
       "3    109      34   \n",
       "4   5060      31   \n",
       "5  20643      24   \n",
       "6  19213      23   \n",
       "7   7809      22   \n",
       "8   5727      21   \n",
       "9  23657      20   \n",
       "10 11318      19   "
      ]
     },
     "metadata": {},
     "output_type": "display_data"
    }
   ],
   "source": [
    "# DO NOT MODIFY THIS CELL\n",
    "dbGetQuery(con, sql) %>% head(10)"
   ]
  },
  {
   "cell_type": "markdown",
   "metadata": {
    "tags": []
   },
   "source": [
    "### Length of stay (0.75 points)"
   ]
  },
  {
   "cell_type": "markdown",
   "metadata": {},
   "source": [
    "One of the most important things that we need to take into account when we analyze the evolution of patients admitted at the ICU, it is how long patients stayed there. In this exercise, and **only using the table `ADMISIONS`**, you need to provide **how long each patient has been admitted at the ICU and the standard deviation of that average**. The table must have the following structure.\n",
    "\n",
    "-   `SUBJECT_ID`\n",
    "-   `N_ADM`: number of admissions\n",
    "-   `MEAN_LOS`: Average length of stay in number of days\n",
    "-   `SD_LOS`: Standard deviation of the length of stay in number of days\n",
    "\n",
    "Results must be ordered by **`MEAN_LOS` in descending order**.\n",
    "\n"
   ]
  },
  {
   "cell_type": "code",
   "execution_count": 6,
   "metadata": {
    "vscode": {
     "languageId": "r"
    }
   },
   "outputs": [],
   "source": [
    "sql <- \"\n",
    "SELECT a.SUBJECT_ID,\n",
    "    COUNT(SUBJECT_ID) AS N_ADM,\n",
    "    AVG(DATEDIFF(a.DISCHTIME , a.ADMITTIME)) AS MEAN_LOS,\n",
    "    STD(DATEDIFF(a.DISCHTIME , a.ADMITTIME)) AS SD_LOS\n",
    "FROM ADMISSIONS a\n",
    "GROUP BY a.SUBJECT_ID\n",
    "ORDER BY MEAN_LOS DESC\n",
    "\""
   ]
  },
  {
   "cell_type": "code",
   "execution_count": 7,
   "metadata": {
    "vscode": {
     "languageId": "r"
    }
   },
   "outputs": [
    {
     "data": {
      "text/html": [
       "<table class=\"dataframe\">\n",
       "<caption>A data.frame: 10 × 4</caption>\n",
       "<thead>\n",
       "\t<tr><th></th><th scope=col>SUBJECT_ID</th><th scope=col>N_ADM</th><th scope=col>MEAN_LOS</th><th scope=col>SD_LOS</th></tr>\n",
       "\t<tr><th></th><th scope=col>&lt;int&gt;</th><th scope=col>&lt;int64&gt;</th><th scope=col>&lt;dbl&gt;</th><th scope=col>&lt;dbl&gt;</th></tr>\n",
       "</thead>\n",
       "<tbody>\n",
       "\t<tr><th scope=row>1</th><td>93321</td><td>1</td><td>207</td><td>0</td></tr>\n",
       "\t<tr><th scope=row>2</th><td> 9025</td><td>1</td><td>202</td><td>0</td></tr>\n",
       "\t<tr><th scope=row>3</th><td> 9837</td><td>1</td><td>182</td><td>0</td></tr>\n",
       "\t<tr><th scope=row>4</th><td>15204</td><td>1</td><td>172</td><td>0</td></tr>\n",
       "\t<tr><th scope=row>5</th><td>18944</td><td>1</td><td>171</td><td>0</td></tr>\n",
       "\t<tr><th scope=row>6</th><td>29899</td><td>1</td><td>169</td><td>0</td></tr>\n",
       "\t<tr><th scope=row>7</th><td>17081</td><td>1</td><td>167</td><td>0</td></tr>\n",
       "\t<tr><th scope=row>8</th><td>16244</td><td>1</td><td>167</td><td>0</td></tr>\n",
       "\t<tr><th scope=row>9</th><td>16533</td><td>1</td><td>164</td><td>0</td></tr>\n",
       "\t<tr><th scope=row>10</th><td>22806</td><td>1</td><td>163</td><td>0</td></tr>\n",
       "</tbody>\n",
       "</table>\n"
      ],
      "text/latex": [
       "A data.frame: 10 × 4\n",
       "\\begin{tabular}{r|llll}\n",
       "  & SUBJECT\\_ID & N\\_ADM & MEAN\\_LOS & SD\\_LOS\\\\\n",
       "  & <int> & <int64> & <dbl> & <dbl>\\\\\n",
       "\\hline\n",
       "\t1 & 93321 & 1 & 207 & 0\\\\\n",
       "\t2 &  9025 & 1 & 202 & 0\\\\\n",
       "\t3 &  9837 & 1 & 182 & 0\\\\\n",
       "\t4 & 15204 & 1 & 172 & 0\\\\\n",
       "\t5 & 18944 & 1 & 171 & 0\\\\\n",
       "\t6 & 29899 & 1 & 169 & 0\\\\\n",
       "\t7 & 17081 & 1 & 167 & 0\\\\\n",
       "\t8 & 16244 & 1 & 167 & 0\\\\\n",
       "\t9 & 16533 & 1 & 164 & 0\\\\\n",
       "\t10 & 22806 & 1 & 163 & 0\\\\\n",
       "\\end{tabular}\n"
      ],
      "text/markdown": [
       "\n",
       "A data.frame: 10 × 4\n",
       "\n",
       "| <!--/--> | SUBJECT_ID &lt;int&gt; | N_ADM &lt;int64&gt; | MEAN_LOS &lt;dbl&gt; | SD_LOS &lt;dbl&gt; |\n",
       "|---|---|---|---|---|\n",
       "| 1 | 93321 | 1 | 207 | 0 |\n",
       "| 2 |  9025 | 1 | 202 | 0 |\n",
       "| 3 |  9837 | 1 | 182 | 0 |\n",
       "| 4 | 15204 | 1 | 172 | 0 |\n",
       "| 5 | 18944 | 1 | 171 | 0 |\n",
       "| 6 | 29899 | 1 | 169 | 0 |\n",
       "| 7 | 17081 | 1 | 167 | 0 |\n",
       "| 8 | 16244 | 1 | 167 | 0 |\n",
       "| 9 | 16533 | 1 | 164 | 0 |\n",
       "| 10 | 22806 | 1 | 163 | 0 |\n",
       "\n"
      ],
      "text/plain": [
       "   SUBJECT_ID N_ADM MEAN_LOS SD_LOS\n",
       "1  93321      1     207      0     \n",
       "2   9025      1     202      0     \n",
       "3   9837      1     182      0     \n",
       "4  15204      1     172      0     \n",
       "5  18944      1     171      0     \n",
       "6  29899      1     169      0     \n",
       "7  17081      1     167      0     \n",
       "8  16244      1     167      0     \n",
       "9  16533      1     164      0     \n",
       "10 22806      1     163      0     "
      ]
     },
     "metadata": {},
     "output_type": "display_data"
    }
   ],
   "source": [
    "# DO NOT MODIFY THIS CELL\n",
    "dbGetQuery(con, sql) %>% head(10)"
   ]
  },
  {
   "cell_type": "markdown",
   "metadata": {},
   "source": [
    "### Microbiology (2 points)\n",
    "\n"
   ]
  },
  {
   "cell_type": "markdown",
   "metadata": {},
   "source": [
    "Microbiological studies are very common in the clinical practice to assess the interference of a given microorganism on the health of the patients. These studies are performed using samples cultures that after a period are analyzed to check the composition of the microorganism population.\n",
    "\n",
    "In this exercise, you will practice some of the concepts learned on epidemiology. The objective is to **study the relation of the exposure to a microorganism to the diagnosis of a disease**. You must provide a table with the following information:\n",
    "\n",
    "-   `LONG_TITLE`: Name of the primary (`SEQ_NUM = 1`) diagnosis in long format\n",
    "-   `ORG_NAME`: Name of the organism\n",
    "-   `N_DIAG`: Number of admissions with the same primary diagnosis\n",
    "-   `N_TESTED`: Number of admissions with the specified primary diagnosis with a microbiological study (either positive or negative)\n",
    "-   `PERCENT_TESTED`: Percentage of admissions diagnosed with the same primary diagnosis tested for microorganism\n",
    "-   `N_POS`: Number of admissions with at least one positive test for the presence of the specified microorganism\n",
    "-   `N_NEG`: Number of admissions without any positive microbiological test for that given disease\n",
    "-   `PERCENT_POS`: Percentage of tested admissions with at least a positive test for the given disease and microorganism\n",
    "-   `ODDS_RATIO`: The odds ratio of the exposure on the disease following the same formulation used previously in class\n",
    "\n",
    "The results have to be **limited** to the ones that have at least 200 positive tests on different admissions considering all the diagnoses, and the ones that have at least 50 positive tests on different admissions for the given disease. The results need to be sorted in **descending order by `N_DIAG`** and ascending order according to the odds ratio.\n",
    "\n",
    "There are several assumptions that you need to make:\n",
    "\n",
    "-   For simplicity, you only need to take into account the **primary diagnosis** (`SEQ_NUM = 1`) ignoring any possible comorbidity\n",
    "-   You also need to assume that the test applied for detecting a microorganism is **the same for all the existing types**; meaning that if you find a negative test this will indicate the no presence of any microorganism\n",
    "-   You must assume that there is just one **unique microbiological test per admission**, considering all the different studies as part of the same\n",
    "-   As a simplification, you may consider **all the admissions independent of the patient**\n",
    "-   Remember that **the order of the JOINS matter** and their match should be unique if you wanna avoid multiple matches for the same pair of keys\n",
    "\n"
   ]
  },
  {
   "cell_type": "code",
   "execution_count": 8,
   "metadata": {
    "vscode": {
     "languageId": "r"
    }
   },
   "outputs": [],
   "source": [
    "sql <- \"\n",
    "SELECT di.ICD9_CODE, did.LONG_TITLE, COUNT(di.HADM_ID) AS N_DIAG, n.N_TESTED\n",
    "FROM DIAGNOSES_ICD di \n",
    "JOIN\n",
    "\t(SELECT di.ICD9_CODE, COUNT(di.HADM_ID) AS N_TESTED\n",
    "\tFROM DIAGNOSES_ICD di\n",
    "\tWHERE di.SEQ_NUM = 1 AND di.HADM_ID in (SELECT m.HADM_ID FROM MICROBIOLOGYEVENTS m)\n",
    "\tGROUP BY di.ICD9_CODE) n\n",
    "ON di.ICD9_CODE = n.ICD9_CODE\n",
    "JOIN\n",
    "\t(SELECT did.ICD9_CODE, did.LONG_TITLE \n",
    "\tFROM D_ICD_DIAGNOSES did) did\n",
    "ON di.ICD9_CODE = did.ICD9_CODE\n",
    "WHERE di.SEQ_NUM = 1\n",
    "GROUP BY di.ICD9_CODE\n",
    "ORDER BY N_DIAG DESC;\n",
    "\""
   ]
  },
  {
   "cell_type": "code",
   "execution_count": 9,
   "metadata": {
    "vscode": {
     "languageId": "r"
    }
   },
   "outputs": [
    {
     "ename": "ERROR",
     "evalue": "Error: You have an error in your SQL syntax; check the manual that corresponds to your MariaDB server version for the right syntax to use near 'YOUR SQL QUERY GOES HERE!' at line 1 [1064]\n",
     "output_type": "error",
     "traceback": [
      "Error: You have an error in your SQL syntax; check the manual that corresponds to your MariaDB server version for the right syntax to use near 'YOUR SQL QUERY GOES HERE!' at line 1 [1064]\nTraceback:\n",
      "1. dbGetQuery(con, sql) %>% head(70)",
      "2. head(., 70)",
      "3. dbGetQuery(con, sql)",
      "4. dbGetQuery(con, sql)",
      "5. .local(conn, statement, ...)",
      "6. dbSendQuery(conn, statement, ...)",
      "7. dbSendQuery(conn, statement, ...)",
      "8. .local(conn, statement, ...)",
      "9. dbSend(conn, statement, params, is_statement = FALSE)",
      "10. new(\"MariaDBResult\", sql = statement, ptr = result_create(conn@ptr, \n  .     statement, is_statement), bigint = conn@bigint, conn = conn)",
      "11. initialize(value, ...)",
      "12. initialize(value, ...)",
      "13. result_create(conn@ptr, statement, is_statement)"
     ]
    }
   ],
   "source": [
    "# DO NOT MODIFY THIS CELL\n",
    "dbGetQuery(con, sql) %>% head(70)"
   ]
  },
  {
   "cell_type": "markdown",
   "metadata": {},
   "source": [
    "#### Questions:\n",
    "\n"
   ]
  },
  {
   "cell_type": "markdown",
   "metadata": {},
   "source": [
    "Which kind of epidemiological this study belongs to? (Explain why)\n",
    "\n"
   ]
  },
  {
   "cell_type": "raw",
   "metadata": {},
   "source": [
    "This is an observational study, since we have no intervention, but only look at already collected data. Also we are looking at the presence of microorganisms and their conenction to the primary diagnoses of the admission they were found in. Therefore it is an ecological study, investigating the correlation of microorganisms and disease."
   ]
  },
  {
   "cell_type": "markdown",
   "metadata": {},
   "source": [
    "Comment the results observed on the final table. At what conclusions do you arrive?\n",
    "\n"
   ]
  },
  {
   "cell_type": "raw",
   "metadata": {},
   "source": [
    "# YOUR ANSWER GOES HERE"
   ]
  },
  {
   "cell_type": "markdown",
   "metadata": {},
   "source": [
    "### Heart Failure: Comorbidities (1 point)\n",
    "\n"
   ]
  },
  {
   "cell_type": "markdown",
   "metadata": {},
   "source": [
    "In the practice of medicine one of the factors that you need to always consider is the presence of comorbidities, **diseases that are co-ocurring at the same time than a primary condition**. In this exercise you will explore this concept studying a specific disease, heart failure. As we told you on the introduction of the assignment, this disease has a large prevalence in the U.S. and it&rsquo;s present in the corner&rsquo;s reports of almost 13% of the deaths. Here, you must provide a table with the following information:\n",
    "\n",
    "-   `ICD9_CODE`: The ICD of the disease\n",
    "-   `LONG_TITLE`: Long description of the codified disease\n",
    "-   `N`: Number of patients with that disease associated. You must consider only those diseases that are present on admissions where the primary condition is heart failure (ICD9 starting with 429)\n",
    "-   `Prevalence`: Prevalence of that disease on the heart failure population (in percentage)\n",
    "\n",
    "You must order the results by **`Prevalence` in descending order**\n",
    "\n"
   ]
  },
  {
   "cell_type": "code",
   "execution_count": 10,
   "metadata": {
    "vscode": {
     "languageId": "r"
    }
   },
   "outputs": [],
   "source": [
    "sql <- \"\n",
    "SELECT di.ICD9_CODE, \n",
    "\tdid.LONG_TITLE, \n",
    "\tCOUNT(di.SUBJECT_ID) AS N, \n",
    "\tCOUNT(di.SUBJECT_ID) / (SELECT COUNT(DISTINCT di.SUBJECT_ID)\n",
    "\t\tFROM DIAGNOSES_ICD di \n",
    "\t\tWHERE di.ICD9_CODE LIKE \\\"428%\\\" AND di.SEQ_NUM = 1) AS Prevalence   \n",
    "FROM DIAGNOSES_ICD di \n",
    "LEFT JOIN (SELECT did.ICD9_CODE, did.LONG_TITLE \n",
    "\tFROM D_ICD_DIAGNOSES did) AS did\n",
    "ON di.ICD9_CODE = did.ICD9_CODE\n",
    "WHERE di.HADM_ID IN (SELECT di2.HADM_ID\n",
    "\tFROM DIAGNOSES_ICD di2\n",
    "\tWHERE di2.ICD9_CODE LIKE \\\"428%\\\" AND di2.SEQ_NUM = 1) AND SEQ_NUM <> 1\n",
    "GROUP BY di.ICD9_CODE\n",
    "ORDER BY Prevalence DESC;\n",
    "\""
   ]
  },
  {
   "cell_type": "code",
   "execution_count": 11,
   "metadata": {
    "vscode": {
     "languageId": "r"
    }
   },
   "outputs": [
    {
     "data": {
      "text/html": [
       "<table class=\"dataframe\">\n",
       "<caption>A data.frame: 30 × 4</caption>\n",
       "<thead>\n",
       "\t<tr><th></th><th scope=col>ICD9_CODE</th><th scope=col>LONG_TITLE</th><th scope=col>N</th><th scope=col>Prevalence</th></tr>\n",
       "\t<tr><th></th><th scope=col>&lt;chr&gt;</th><th scope=col>&lt;chr&gt;</th><th scope=col>&lt;int64&gt;</th><th scope=col>&lt;dbl&gt;</th></tr>\n",
       "</thead>\n",
       "<tbody>\n",
       "\t<tr><th scope=row>1</th><td>4280 </td><td>Congestive heart failure, unspecified                                                                                 </td><td>843</td><td>0.6648</td></tr>\n",
       "\t<tr><th scope=row>2</th><td>42731</td><td>Atrial fibrillation                                                                                                   </td><td>767</td><td>0.6049</td></tr>\n",
       "\t<tr><th scope=row>3</th><td>5849 </td><td>Acute kidney failure, unspecified                                                                                     </td><td>574</td><td>0.4527</td></tr>\n",
       "\t<tr><th scope=row>4</th><td>41401</td><td>Coronary atherosclerosis of native coronary artery                                                                    </td><td>502</td><td>0.3959</td></tr>\n",
       "\t<tr><th scope=row>5</th><td>4019 </td><td>Unspecified essential hypertension                                                                                    </td><td>439</td><td>0.3462</td></tr>\n",
       "\t<tr><th scope=row>6</th><td>25000</td><td>Diabetes mellitus without mention of complication, type II or unspecified type, not stated as uncontrolled            </td><td>415</td><td>0.3273</td></tr>\n",
       "\t<tr><th scope=row>7</th><td>2724 </td><td>Other and unspecified hyperlipidemia                                                                                  </td><td>341</td><td>0.2689</td></tr>\n",
       "\t<tr><th scope=row>8</th><td>4240 </td><td>Mitral valve disorders                                                                                                </td><td>294</td><td>0.2319</td></tr>\n",
       "\t<tr><th scope=row>9</th><td>40390</td><td>Hypertensive chronic kidney disease, unspecified, with chronic kidney disease stage I through stage IV, or unspecified</td><td>283</td><td>0.2232</td></tr>\n",
       "\t<tr><th scope=row>10</th><td>51881</td><td>Acute respiratory failure                                                                                             </td><td>282</td><td>0.2224</td></tr>\n",
       "\t<tr><th scope=row>11</th><td>5859 </td><td>Chronic kidney disease, unspecified                                                                                   </td><td>281</td><td>0.2216</td></tr>\n",
       "\t<tr><th scope=row>12</th><td>4168 </td><td>Other chronic pulmonary heart diseases                                                                                </td><td>264</td><td>0.2082</td></tr>\n",
       "\t<tr><th scope=row>13</th><td>4254 </td><td>Other primary cardiomyopathies                                                                                        </td><td>261</td><td>0.2058</td></tr>\n",
       "\t<tr><th scope=row>14</th><td>V4581</td><td>Aortocoronary bypass status                                                                                           </td><td>250</td><td>0.1972</td></tr>\n",
       "\t<tr><th scope=row>15</th><td>5990 </td><td>Urinary tract infection, site not specified                                                                           </td><td>249</td><td>0.1964</td></tr>\n",
       "\t<tr><th scope=row>16</th><td>V5861</td><td>Long-term (current) use of anticoagulants                                                                             </td><td>243</td><td>0.1916</td></tr>\n",
       "\t<tr><th scope=row>17</th><td>486  </td><td>Pneumonia, organism unspecified                                                                                       </td><td>233</td><td>0.1838</td></tr>\n",
       "\t<tr><th scope=row>18</th><td>496  </td><td>Chronic airway obstruction, not elsewhere classified                                                                  </td><td>224</td><td>0.1767</td></tr>\n",
       "\t<tr><th scope=row>19</th><td>2449 </td><td>Unspecified acquired hypothyroidism                                                                                   </td><td>220</td><td>0.1735</td></tr>\n",
       "\t<tr><th scope=row>20</th><td>412  </td><td>Old myocardial infarction                                                                                             </td><td>196</td><td>0.1546</td></tr>\n",
       "\t<tr><th scope=row>21</th><td>40391</td><td>Hypertensive chronic kidney disease, unspecified, with chronic kidney disease stage V or end stage renal disease      </td><td>191</td><td>0.1506</td></tr>\n",
       "\t<tr><th scope=row>22</th><td>V4582</td><td>Percutaneous transluminal coronary angioplasty status                                                                 </td><td>179</td><td>0.1412</td></tr>\n",
       "\t<tr><th scope=row>23</th><td>2859 </td><td>Anemia, unspecified                                                                                                   </td><td>175</td><td>0.1380</td></tr>\n",
       "\t<tr><th scope=row>24</th><td>2720 </td><td>Pure hypercholesterolemia                                                                                             </td><td>175</td><td>0.1380</td></tr>\n",
       "\t<tr><th scope=row>25</th><td>53081</td><td>Esophageal reflux                                                                                                     </td><td>172</td><td>0.1356</td></tr>\n",
       "\t<tr><th scope=row>26</th><td>4241 </td><td>Aortic valve disorders                                                                                                </td><td>153</td><td>0.1207</td></tr>\n",
       "\t<tr><th scope=row>27</th><td>4148 </td><td>Other specified forms of chronic ischemic heart disease                                                               </td><td>152</td><td>0.1199</td></tr>\n",
       "\t<tr><th scope=row>28</th><td>V5867</td><td>Long-term (current) use of insulin                                                                                    </td><td>146</td><td>0.1151</td></tr>\n",
       "\t<tr><th scope=row>29</th><td>2749 </td><td>Gout, unspecified                                                                                                     </td><td>133</td><td>0.1049</td></tr>\n",
       "\t<tr><th scope=row>30</th><td>32723</td><td>Obstructive sleep apnea (adult)(pediatric)                                                                            </td><td>132</td><td>0.1041</td></tr>\n",
       "</tbody>\n",
       "</table>\n"
      ],
      "text/latex": [
       "A data.frame: 30 × 4\n",
       "\\begin{tabular}{r|llll}\n",
       "  & ICD9\\_CODE & LONG\\_TITLE & N & Prevalence\\\\\n",
       "  & <chr> & <chr> & <int64> & <dbl>\\\\\n",
       "\\hline\n",
       "\t1 & 4280  & Congestive heart failure, unspecified                                                                                  & 843 & 0.6648\\\\\n",
       "\t2 & 42731 & Atrial fibrillation                                                                                                    & 767 & 0.6049\\\\\n",
       "\t3 & 5849  & Acute kidney failure, unspecified                                                                                      & 574 & 0.4527\\\\\n",
       "\t4 & 41401 & Coronary atherosclerosis of native coronary artery                                                                     & 502 & 0.3959\\\\\n",
       "\t5 & 4019  & Unspecified essential hypertension                                                                                     & 439 & 0.3462\\\\\n",
       "\t6 & 25000 & Diabetes mellitus without mention of complication, type II or unspecified type, not stated as uncontrolled             & 415 & 0.3273\\\\\n",
       "\t7 & 2724  & Other and unspecified hyperlipidemia                                                                                   & 341 & 0.2689\\\\\n",
       "\t8 & 4240  & Mitral valve disorders                                                                                                 & 294 & 0.2319\\\\\n",
       "\t9 & 40390 & Hypertensive chronic kidney disease, unspecified, with chronic kidney disease stage I through stage IV, or unspecified & 283 & 0.2232\\\\\n",
       "\t10 & 51881 & Acute respiratory failure                                                                                              & 282 & 0.2224\\\\\n",
       "\t11 & 5859  & Chronic kidney disease, unspecified                                                                                    & 281 & 0.2216\\\\\n",
       "\t12 & 4168  & Other chronic pulmonary heart diseases                                                                                 & 264 & 0.2082\\\\\n",
       "\t13 & 4254  & Other primary cardiomyopathies                                                                                         & 261 & 0.2058\\\\\n",
       "\t14 & V4581 & Aortocoronary bypass status                                                                                            & 250 & 0.1972\\\\\n",
       "\t15 & 5990  & Urinary tract infection, site not specified                                                                            & 249 & 0.1964\\\\\n",
       "\t16 & V5861 & Long-term (current) use of anticoagulants                                                                              & 243 & 0.1916\\\\\n",
       "\t17 & 486   & Pneumonia, organism unspecified                                                                                        & 233 & 0.1838\\\\\n",
       "\t18 & 496   & Chronic airway obstruction, not elsewhere classified                                                                   & 224 & 0.1767\\\\\n",
       "\t19 & 2449  & Unspecified acquired hypothyroidism                                                                                    & 220 & 0.1735\\\\\n",
       "\t20 & 412   & Old myocardial infarction                                                                                              & 196 & 0.1546\\\\\n",
       "\t21 & 40391 & Hypertensive chronic kidney disease, unspecified, with chronic kidney disease stage V or end stage renal disease       & 191 & 0.1506\\\\\n",
       "\t22 & V4582 & Percutaneous transluminal coronary angioplasty status                                                                  & 179 & 0.1412\\\\\n",
       "\t23 & 2859  & Anemia, unspecified                                                                                                    & 175 & 0.1380\\\\\n",
       "\t24 & 2720  & Pure hypercholesterolemia                                                                                              & 175 & 0.1380\\\\\n",
       "\t25 & 53081 & Esophageal reflux                                                                                                      & 172 & 0.1356\\\\\n",
       "\t26 & 4241  & Aortic valve disorders                                                                                                 & 153 & 0.1207\\\\\n",
       "\t27 & 4148  & Other specified forms of chronic ischemic heart disease                                                                & 152 & 0.1199\\\\\n",
       "\t28 & V5867 & Long-term (current) use of insulin                                                                                     & 146 & 0.1151\\\\\n",
       "\t29 & 2749  & Gout, unspecified                                                                                                      & 133 & 0.1049\\\\\n",
       "\t30 & 32723 & Obstructive sleep apnea (adult)(pediatric)                                                                             & 132 & 0.1041\\\\\n",
       "\\end{tabular}\n"
      ],
      "text/markdown": [
       "\n",
       "A data.frame: 30 × 4\n",
       "\n",
       "| <!--/--> | ICD9_CODE &lt;chr&gt; | LONG_TITLE &lt;chr&gt; | N &lt;int64&gt; | Prevalence &lt;dbl&gt; |\n",
       "|---|---|---|---|---|\n",
       "| 1 | 4280  | Congestive heart failure, unspecified                                                                                  | 843 | 0.6648 |\n",
       "| 2 | 42731 | Atrial fibrillation                                                                                                    | 767 | 0.6049 |\n",
       "| 3 | 5849  | Acute kidney failure, unspecified                                                                                      | 574 | 0.4527 |\n",
       "| 4 | 41401 | Coronary atherosclerosis of native coronary artery                                                                     | 502 | 0.3959 |\n",
       "| 5 | 4019  | Unspecified essential hypertension                                                                                     | 439 | 0.3462 |\n",
       "| 6 | 25000 | Diabetes mellitus without mention of complication, type II or unspecified type, not stated as uncontrolled             | 415 | 0.3273 |\n",
       "| 7 | 2724  | Other and unspecified hyperlipidemia                                                                                   | 341 | 0.2689 |\n",
       "| 8 | 4240  | Mitral valve disorders                                                                                                 | 294 | 0.2319 |\n",
       "| 9 | 40390 | Hypertensive chronic kidney disease, unspecified, with chronic kidney disease stage I through stage IV, or unspecified | 283 | 0.2232 |\n",
       "| 10 | 51881 | Acute respiratory failure                                                                                              | 282 | 0.2224 |\n",
       "| 11 | 5859  | Chronic kidney disease, unspecified                                                                                    | 281 | 0.2216 |\n",
       "| 12 | 4168  | Other chronic pulmonary heart diseases                                                                                 | 264 | 0.2082 |\n",
       "| 13 | 4254  | Other primary cardiomyopathies                                                                                         | 261 | 0.2058 |\n",
       "| 14 | V4581 | Aortocoronary bypass status                                                                                            | 250 | 0.1972 |\n",
       "| 15 | 5990  | Urinary tract infection, site not specified                                                                            | 249 | 0.1964 |\n",
       "| 16 | V5861 | Long-term (current) use of anticoagulants                                                                              | 243 | 0.1916 |\n",
       "| 17 | 486   | Pneumonia, organism unspecified                                                                                        | 233 | 0.1838 |\n",
       "| 18 | 496   | Chronic airway obstruction, not elsewhere classified                                                                   | 224 | 0.1767 |\n",
       "| 19 | 2449  | Unspecified acquired hypothyroidism                                                                                    | 220 | 0.1735 |\n",
       "| 20 | 412   | Old myocardial infarction                                                                                              | 196 | 0.1546 |\n",
       "| 21 | 40391 | Hypertensive chronic kidney disease, unspecified, with chronic kidney disease stage V or end stage renal disease       | 191 | 0.1506 |\n",
       "| 22 | V4582 | Percutaneous transluminal coronary angioplasty status                                                                  | 179 | 0.1412 |\n",
       "| 23 | 2859  | Anemia, unspecified                                                                                                    | 175 | 0.1380 |\n",
       "| 24 | 2720  | Pure hypercholesterolemia                                                                                              | 175 | 0.1380 |\n",
       "| 25 | 53081 | Esophageal reflux                                                                                                      | 172 | 0.1356 |\n",
       "| 26 | 4241  | Aortic valve disorders                                                                                                 | 153 | 0.1207 |\n",
       "| 27 | 4148  | Other specified forms of chronic ischemic heart disease                                                                | 152 | 0.1199 |\n",
       "| 28 | V5867 | Long-term (current) use of insulin                                                                                     | 146 | 0.1151 |\n",
       "| 29 | 2749  | Gout, unspecified                                                                                                      | 133 | 0.1049 |\n",
       "| 30 | 32723 | Obstructive sleep apnea (adult)(pediatric)                                                                             | 132 | 0.1041 |\n",
       "\n"
      ],
      "text/plain": [
       "   ICD9_CODE\n",
       "1  4280     \n",
       "2  42731    \n",
       "3  5849     \n",
       "4  41401    \n",
       "5  4019     \n",
       "6  25000    \n",
       "7  2724     \n",
       "8  4240     \n",
       "9  40390    \n",
       "10 51881    \n",
       "11 5859     \n",
       "12 4168     \n",
       "13 4254     \n",
       "14 V4581    \n",
       "15 5990     \n",
       "16 V5861    \n",
       "17 486      \n",
       "18 496      \n",
       "19 2449     \n",
       "20 412      \n",
       "21 40391    \n",
       "22 V4582    \n",
       "23 2859     \n",
       "24 2720     \n",
       "25 53081    \n",
       "26 4241     \n",
       "27 4148     \n",
       "28 V5867    \n",
       "29 2749     \n",
       "30 32723    \n",
       "   LONG_TITLE                                                                                                            \n",
       "1  Congestive heart failure, unspecified                                                                                 \n",
       "2  Atrial fibrillation                                                                                                   \n",
       "3  Acute kidney failure, unspecified                                                                                     \n",
       "4  Coronary atherosclerosis of native coronary artery                                                                    \n",
       "5  Unspecified essential hypertension                                                                                    \n",
       "6  Diabetes mellitus without mention of complication, type II or unspecified type, not stated as uncontrolled            \n",
       "7  Other and unspecified hyperlipidemia                                                                                  \n",
       "8  Mitral valve disorders                                                                                                \n",
       "9  Hypertensive chronic kidney disease, unspecified, with chronic kidney disease stage I through stage IV, or unspecified\n",
       "10 Acute respiratory failure                                                                                             \n",
       "11 Chronic kidney disease, unspecified                                                                                   \n",
       "12 Other chronic pulmonary heart diseases                                                                                \n",
       "13 Other primary cardiomyopathies                                                                                        \n",
       "14 Aortocoronary bypass status                                                                                           \n",
       "15 Urinary tract infection, site not specified                                                                           \n",
       "16 Long-term (current) use of anticoagulants                                                                             \n",
       "17 Pneumonia, organism unspecified                                                                                       \n",
       "18 Chronic airway obstruction, not elsewhere classified                                                                  \n",
       "19 Unspecified acquired hypothyroidism                                                                                   \n",
       "20 Old myocardial infarction                                                                                             \n",
       "21 Hypertensive chronic kidney disease, unspecified, with chronic kidney disease stage V or end stage renal disease      \n",
       "22 Percutaneous transluminal coronary angioplasty status                                                                 \n",
       "23 Anemia, unspecified                                                                                                   \n",
       "24 Pure hypercholesterolemia                                                                                             \n",
       "25 Esophageal reflux                                                                                                     \n",
       "26 Aortic valve disorders                                                                                                \n",
       "27 Other specified forms of chronic ischemic heart disease                                                               \n",
       "28 Long-term (current) use of insulin                                                                                    \n",
       "29 Gout, unspecified                                                                                                     \n",
       "30 Obstructive sleep apnea (adult)(pediatric)                                                                            \n",
       "   N   Prevalence\n",
       "1  843 0.6648    \n",
       "2  767 0.6049    \n",
       "3  574 0.4527    \n",
       "4  502 0.3959    \n",
       "5  439 0.3462    \n",
       "6  415 0.3273    \n",
       "7  341 0.2689    \n",
       "8  294 0.2319    \n",
       "9  283 0.2232    \n",
       "10 282 0.2224    \n",
       "11 281 0.2216    \n",
       "12 264 0.2082    \n",
       "13 261 0.2058    \n",
       "14 250 0.1972    \n",
       "15 249 0.1964    \n",
       "16 243 0.1916    \n",
       "17 233 0.1838    \n",
       "18 224 0.1767    \n",
       "19 220 0.1735    \n",
       "20 196 0.1546    \n",
       "21 191 0.1506    \n",
       "22 179 0.1412    \n",
       "23 175 0.1380    \n",
       "24 175 0.1380    \n",
       "25 172 0.1356    \n",
       "26 153 0.1207    \n",
       "27 152 0.1199    \n",
       "28 146 0.1151    \n",
       "29 133 0.1049    \n",
       "30 132 0.1041    "
      ]
     },
     "metadata": {},
     "output_type": "display_data"
    }
   ],
   "source": [
    "# DO NOT MODIFY THIS CELL\n",
    "dbGetQuery(con, sql) %>% head(30)"
   ]
  },
  {
   "cell_type": "markdown",
   "metadata": {},
   "source": [
    "#### Questions:\n",
    "\n"
   ]
  },
  {
   "cell_type": "markdown",
   "metadata": {},
   "source": [
    "Compare the results that you are obtaining with the [description of the CDC](https://www.cdc.gov/heartdisease/heart_failure.htm):\n",
    "\n"
   ]
  },
  {
   "cell_type": "raw",
   "metadata": {},
   "source": [
    "Overall our study has a lot of overlap with the CDC findings, though we do not find a very high prevalence of diabetes, which might just be due to it not being very present in the observed population."
   ]
  },
  {
   "cell_type": "markdown",
   "metadata": {},
   "source": [
    "What you did is an oversimplification of the process of calculating comorbidities. Which pitfalls do you think this approach has and how can we overcome them?\n",
    "\n"
   ]
  },
  {
   "cell_type": "raw",
   "metadata": {},
   "source": [
    "Firstly we are limited by the quality of the data that we have, familiarizing ourselves better with the datasetes could better inform the analyses. We have high prevalences of \"unspecificed essential hypertension\", which can group many conditions together without properly distinguishing."
   ]
  },
  {
   "cell_type": "markdown",
   "metadata": {},
   "source": [
    "### Heart Failure: Building a cohort (1 point)"
   ]
  },
  {
   "cell_type": "markdown",
   "metadata": {},
   "source": [
    "In the next step, you will build a **cohort of patients diagnosed with a HF as primary condition**. From each patient, you must obtain some important clinical and demographic features. The resulting table must contain:\n",
    "\n",
    "-   `SUBJECT_ID`\n",
    "-   `GENDER`\n",
    "-   `AGE_FIRST`: age at the first diagnosis of heart failure\n",
    "-   `AGE_LAST`: age at the first diagnosis of heart failure\n",
    "-   `ETHNICITY`\n",
    "-   `DECEASED`: 1 if the patient has died 0 otherwise\n",
    "-   `AVG_LOS`: Average length-of-stay\n",
    "-   `DM2`: 1 if the patient has been diagnosed with diabetes mellitus type II, 0 otherwise\n",
    "-   `CAD`: 1 if the patient has been diagnosed with coronary artery disease, 0 otherwise\n",
    "-   `CKD`: 1 if the patient has been diagnosed with cronic kidney disease, 0 otherwise\n",
    "-   `HYPERTENSION`: 1 if the patient has been diagnosed with hypertension, 0 otherwise\n",
    "    \n",
    "    The results must be ordered by age **at the last admision in descending order**.\n",
    "\n"
   ]
  },
  {
   "cell_type": "code",
   "execution_count": 23,
   "metadata": {
    "vscode": {
     "languageId": "r"
    }
   },
   "outputs": [],
   "source": [
    "sql <- \"SELECT di.SUBJECT_ID, \n",
    "\tp.GENDER, \n",
    "\tDATEDIFF(MIN(a.ADMITTIME), p.DOB)/365 AS AGE_FIRST, \n",
    "\tDATEDIFF(MAX(a.ADMITTIME), p.DOB)/365 AS AGE_LAST,\n",
    "\ta.ETHNICITY,\n",
    "\tcase when max(a.DEATHTIME) is null then 0 else 1 end as DECEASED,\n",
    "\tavg(DATEDIFF(a.DISCHTIME, a.ADMITTIME)) as AVG_LOS,\n",
    "\tcase when di.SUBJECT_ID in (select subject_id from DIAGNOSES_ICD di join (select ICD9_code, LONG_title from D_ICD_DIAGNOSES ) did on did.ICD9_CODE =di.ICD9_CODE where di.ICD9_CODE LIKE '250%' AND did.LONG_TITLE LIKE '%type II%') then 1 else 0 end as DM2,\n",
    "\tcase when di.SUBJECT_ID in (select SUBJECT_ID  from DIAGNOSES_ICD where SEQ_NUM =1 and ICD9_CODE like '4140%') then 1 else 0 end as CAD,\n",
    "\tcase when di.SUBJECT_ID in (select SUBJECT_ID  from DIAGNOSES_ICD where SEQ_NUM =1 and ICD9_CODE like '585%') then 1 else 0 end as CKD,\n",
    "\tcase when di.SUBJECT_ID in (select SUBJECT_ID  from DIAGNOSES_ICD where SEQ_NUM =1 and ICD9_CODE like '402%') then 1 else 0 end as HYPERTENSION\n",
    "FROM\n",
    "\t(SELECT di.SUBJECT_ID \n",
    "\tFROM DIAGNOSES_ICD di \n",
    "\tWHERE SEQ_NUM = 1 AND di.ICD9_CODE LIKE '428%') di\n",
    "INNER JOIN\n",
    "\t(SELECT \n",
    "\t\tp2.SUBJECT_ID, \n",
    "\t\tp2.GENDER, \n",
    "\t\tp2.DOB\n",
    "\tFROM PATIENTS p2) p\n",
    "ON di.SUBJECT_ID = p.SUBJECT_ID\n",
    "INNER JOIN\n",
    "\t(SELECT a.SUBJECT_ID, a.ADMITTIME, a.DISCHTIME, a.DEATHTIME, a.ETHNICITY \n",
    "\tFROM ADMISSIONS a \n",
    "\tINNER JOIN DIAGNOSES_ICD di\n",
    "\tON a.HADM_ID = di.HADM_ID \n",
    "\tWHERE di.SEQ_NUM = 1 AND di.ICD9_CODE LIKE '428%'\n",
    "\tGROUP BY a.SUBJECT_ID) a\n",
    "ON di.SUBJECT_ID = a.SUBJECT_ID\n",
    "GROUP BY di.SUBJECT_ID\n",
    "ORDER BY AGE_LAST DESC;\""
   ]
  },
  {
   "cell_type": "code",
   "execution_count": 24,
   "metadata": {
    "vscode": {
     "languageId": "r"
    }
   },
   "outputs": [
    {
     "data": {
      "text/html": [
       "<table class=\"dataframe\">\n",
       "<caption>A data.frame: 30 × 11</caption>\n",
       "<thead>\n",
       "\t<tr><th></th><th scope=col>SUBJECT_ID</th><th scope=col>GENDER</th><th scope=col>AGE_FIRST</th><th scope=col>AGE_LAST</th><th scope=col>ETHNICITY</th><th scope=col>DECEASED</th><th scope=col>AVG_LOS</th><th scope=col>DM2</th><th scope=col>CAD</th><th scope=col>CKD</th><th scope=col>HYPERTENSION</th></tr>\n",
       "\t<tr><th></th><th scope=col>&lt;int&gt;</th><th scope=col>&lt;chr&gt;</th><th scope=col>&lt;dbl&gt;</th><th scope=col>&lt;dbl&gt;</th><th scope=col>&lt;chr&gt;</th><th scope=col>&lt;int&gt;</th><th scope=col>&lt;dbl&gt;</th><th scope=col>&lt;int&gt;</th><th scope=col>&lt;int&gt;</th><th scope=col>&lt;int&gt;</th><th scope=col>&lt;int&gt;</th></tr>\n",
       "</thead>\n",
       "<tbody>\n",
       "\t<tr><th scope=row>1</th><td> 6697</td><td>F</td><td>310.3425</td><td>310.3425</td><td>WHITE</td><td>0</td><td> 5</td><td>1</td><td>0</td><td>0</td><td>0</td></tr>\n",
       "\t<tr><th scope=row>2</th><td>11442</td><td>M</td><td>309.0466</td><td>309.0466</td><td>WHITE</td><td>0</td><td> 9</td><td>1</td><td>0</td><td>0</td><td>0</td></tr>\n",
       "\t<tr><th scope=row>3</th><td> 7936</td><td>M</td><td>308.5370</td><td>308.5370</td><td>WHITE</td><td>0</td><td>11</td><td>1</td><td>1</td><td>0</td><td>0</td></tr>\n",
       "\t<tr><th scope=row>4</th><td> 5196</td><td>M</td><td>307.6055</td><td>307.6055</td><td>ASIAN</td><td>0</td><td>12</td><td>1</td><td>0</td><td>0</td><td>0</td></tr>\n",
       "\t<tr><th scope=row>5</th><td>10820</td><td>M</td><td>307.5178</td><td>307.5178</td><td>WHITE</td><td>0</td><td>12</td><td>1</td><td>0</td><td>0</td><td>0</td></tr>\n",
       "\t<tr><th scope=row>6</th><td>10502</td><td>F</td><td>306.9671</td><td>306.9671</td><td>WHITE</td><td>0</td><td>16</td><td>1</td><td>0</td><td>0</td><td>0</td></tr>\n",
       "\t<tr><th scope=row>7</th><td> 6279</td><td>F</td><td>304.3644</td><td>304.3644</td><td>WHITE</td><td>0</td><td>14</td><td>0</td><td>0</td><td>0</td><td>0</td></tr>\n",
       "\t<tr><th scope=row>8</th><td>21139</td><td>F</td><td>303.7589</td><td>303.7589</td><td>WHITE</td><td>0</td><td>11</td><td>0</td><td>0</td><td>0</td><td>0</td></tr>\n",
       "\t<tr><th scope=row>9</th><td>25526</td><td>M</td><td>303.4301</td><td>303.4301</td><td>WHITE</td><td>0</td><td> 4</td><td>0</td><td>0</td><td>0</td><td>0</td></tr>\n",
       "\t<tr><th scope=row>10</th><td>22520</td><td>F</td><td>303.3260</td><td>303.3260</td><td>WHITE</td><td>0</td><td> 2</td><td>0</td><td>0</td><td>0</td><td>0</td></tr>\n",
       "\t<tr><th scope=row>11</th><td>14269</td><td>F</td><td>303.2027</td><td>303.2027</td><td>WHITE</td><td>0</td><td> 8</td><td>0</td><td>0</td><td>0</td><td>0</td></tr>\n",
       "\t<tr><th scope=row>12</th><td>24571</td><td>F</td><td>303.1397</td><td>303.1397</td><td>WHITE</td><td>0</td><td> 3</td><td>1</td><td>0</td><td>0</td><td>0</td></tr>\n",
       "\t<tr><th scope=row>13</th><td>86722</td><td>M</td><td>303.0356</td><td>303.0356</td><td>WHITE</td><td>0</td><td> 1</td><td>1</td><td>0</td><td>0</td><td>0</td></tr>\n",
       "\t<tr><th scope=row>14</th><td>20804</td><td>M</td><td>302.9836</td><td>302.9836</td><td>WHITE</td><td>0</td><td> 5</td><td>0</td><td>0</td><td>0</td><td>0</td></tr>\n",
       "\t<tr><th scope=row>15</th><td>28578</td><td>F</td><td>302.3425</td><td>302.3425</td><td>WHITE</td><td>0</td><td> 3</td><td>1</td><td>0</td><td>0</td><td>0</td></tr>\n",
       "\t<tr><th scope=row>16</th><td>29620</td><td>M</td><td>302.3096</td><td>302.3096</td><td>WHITE</td><td>0</td><td> 7</td><td>0</td><td>0</td><td>0</td><td>0</td></tr>\n",
       "\t<tr><th scope=row>17</th><td>16373</td><td>F</td><td>302.2000</td><td>302.2000</td><td>WHITE</td><td>0</td><td> 7</td><td>1</td><td>0</td><td>0</td><td>0</td></tr>\n",
       "\t<tr><th scope=row>18</th><td>93602</td><td>M</td><td>301.8685</td><td>301.8685</td><td>WHITE</td><td>0</td><td> 2</td><td>0</td><td>0</td><td>0</td><td>0</td></tr>\n",
       "\t<tr><th scope=row>19</th><td>27504</td><td>M</td><td>301.6986</td><td>301.6986</td><td>WHITE</td><td>0</td><td> 3</td><td>1</td><td>0</td><td>0</td><td>0</td></tr>\n",
       "\t<tr><th scope=row>20</th><td>83653</td><td>M</td><td>301.6521</td><td>301.6521</td><td>WHITE</td><td>0</td><td> 6</td><td>0</td><td>0</td><td>0</td><td>0</td></tr>\n",
       "\t<tr><th scope=row>21</th><td> 6901</td><td>M</td><td>301.6055</td><td>301.6055</td><td>WHITE</td><td>0</td><td> 9</td><td>0</td><td>0</td><td>0</td><td>0</td></tr>\n",
       "\t<tr><th scope=row>22</th><td>53677</td><td>F</td><td>301.4219</td><td>301.4219</td><td>WHITE</td><td>0</td><td> 9</td><td>0</td><td>0</td><td>0</td><td>0</td></tr>\n",
       "\t<tr><th scope=row>23</th><td>19842</td><td>F</td><td>301.4192</td><td>301.4192</td><td>WHITE</td><td>0</td><td> 3</td><td>0</td><td>0</td><td>0</td><td>0</td></tr>\n",
       "\t<tr><th scope=row>24</th><td>26384</td><td>F</td><td>301.3781</td><td>301.3781</td><td>WHITE</td><td>0</td><td> 9</td><td>0</td><td>0</td><td>0</td><td>0</td></tr>\n",
       "\t<tr><th scope=row>25</th><td>30911</td><td>M</td><td>301.0000</td><td>301.0000</td><td>WHITE</td><td>0</td><td> 3</td><td>0</td><td>0</td><td>0</td><td>0</td></tr>\n",
       "\t<tr><th scope=row>26</th><td>31973</td><td>F</td><td>300.9068</td><td>300.9068</td><td>WHITE</td><td>0</td><td> 4</td><td>0</td><td>0</td><td>0</td><td>0</td></tr>\n",
       "\t<tr><th scope=row>27</th><td>29274</td><td>F</td><td>300.7644</td><td>300.7644</td><td>WHITE</td><td>0</td><td> 3</td><td>1</td><td>0</td><td>0</td><td>0</td></tr>\n",
       "\t<tr><th scope=row>28</th><td>23592</td><td>M</td><td>300.7233</td><td>300.7233</td><td>WHITE</td><td>0</td><td> 4</td><td>0</td><td>0</td><td>0</td><td>0</td></tr>\n",
       "\t<tr><th scope=row>29</th><td>97206</td><td>M</td><td>300.7096</td><td>300.7096</td><td>WHITE</td><td>0</td><td>15</td><td>1</td><td>1</td><td>0</td><td>0</td></tr>\n",
       "\t<tr><th scope=row>30</th><td>59628</td><td>F</td><td>300.7068</td><td>300.7068</td><td>WHITE</td><td>0</td><td>13</td><td>0</td><td>0</td><td>0</td><td>0</td></tr>\n",
       "</tbody>\n",
       "</table>\n"
      ],
      "text/latex": [
       "A data.frame: 30 × 11\n",
       "\\begin{tabular}{r|lllllllllll}\n",
       "  & SUBJECT\\_ID & GENDER & AGE\\_FIRST & AGE\\_LAST & ETHNICITY & DECEASED & AVG\\_LOS & DM2 & CAD & CKD & HYPERTENSION\\\\\n",
       "  & <int> & <chr> & <dbl> & <dbl> & <chr> & <int> & <dbl> & <int> & <int> & <int> & <int>\\\\\n",
       "\\hline\n",
       "\t1 &  6697 & F & 310.3425 & 310.3425 & WHITE & 0 &  5 & 1 & 0 & 0 & 0\\\\\n",
       "\t2 & 11442 & M & 309.0466 & 309.0466 & WHITE & 0 &  9 & 1 & 0 & 0 & 0\\\\\n",
       "\t3 &  7936 & M & 308.5370 & 308.5370 & WHITE & 0 & 11 & 1 & 1 & 0 & 0\\\\\n",
       "\t4 &  5196 & M & 307.6055 & 307.6055 & ASIAN & 0 & 12 & 1 & 0 & 0 & 0\\\\\n",
       "\t5 & 10820 & M & 307.5178 & 307.5178 & WHITE & 0 & 12 & 1 & 0 & 0 & 0\\\\\n",
       "\t6 & 10502 & F & 306.9671 & 306.9671 & WHITE & 0 & 16 & 1 & 0 & 0 & 0\\\\\n",
       "\t7 &  6279 & F & 304.3644 & 304.3644 & WHITE & 0 & 14 & 0 & 0 & 0 & 0\\\\\n",
       "\t8 & 21139 & F & 303.7589 & 303.7589 & WHITE & 0 & 11 & 0 & 0 & 0 & 0\\\\\n",
       "\t9 & 25526 & M & 303.4301 & 303.4301 & WHITE & 0 &  4 & 0 & 0 & 0 & 0\\\\\n",
       "\t10 & 22520 & F & 303.3260 & 303.3260 & WHITE & 0 &  2 & 0 & 0 & 0 & 0\\\\\n",
       "\t11 & 14269 & F & 303.2027 & 303.2027 & WHITE & 0 &  8 & 0 & 0 & 0 & 0\\\\\n",
       "\t12 & 24571 & F & 303.1397 & 303.1397 & WHITE & 0 &  3 & 1 & 0 & 0 & 0\\\\\n",
       "\t13 & 86722 & M & 303.0356 & 303.0356 & WHITE & 0 &  1 & 1 & 0 & 0 & 0\\\\\n",
       "\t14 & 20804 & M & 302.9836 & 302.9836 & WHITE & 0 &  5 & 0 & 0 & 0 & 0\\\\\n",
       "\t15 & 28578 & F & 302.3425 & 302.3425 & WHITE & 0 &  3 & 1 & 0 & 0 & 0\\\\\n",
       "\t16 & 29620 & M & 302.3096 & 302.3096 & WHITE & 0 &  7 & 0 & 0 & 0 & 0\\\\\n",
       "\t17 & 16373 & F & 302.2000 & 302.2000 & WHITE & 0 &  7 & 1 & 0 & 0 & 0\\\\\n",
       "\t18 & 93602 & M & 301.8685 & 301.8685 & WHITE & 0 &  2 & 0 & 0 & 0 & 0\\\\\n",
       "\t19 & 27504 & M & 301.6986 & 301.6986 & WHITE & 0 &  3 & 1 & 0 & 0 & 0\\\\\n",
       "\t20 & 83653 & M & 301.6521 & 301.6521 & WHITE & 0 &  6 & 0 & 0 & 0 & 0\\\\\n",
       "\t21 &  6901 & M & 301.6055 & 301.6055 & WHITE & 0 &  9 & 0 & 0 & 0 & 0\\\\\n",
       "\t22 & 53677 & F & 301.4219 & 301.4219 & WHITE & 0 &  9 & 0 & 0 & 0 & 0\\\\\n",
       "\t23 & 19842 & F & 301.4192 & 301.4192 & WHITE & 0 &  3 & 0 & 0 & 0 & 0\\\\\n",
       "\t24 & 26384 & F & 301.3781 & 301.3781 & WHITE & 0 &  9 & 0 & 0 & 0 & 0\\\\\n",
       "\t25 & 30911 & M & 301.0000 & 301.0000 & WHITE & 0 &  3 & 0 & 0 & 0 & 0\\\\\n",
       "\t26 & 31973 & F & 300.9068 & 300.9068 & WHITE & 0 &  4 & 0 & 0 & 0 & 0\\\\\n",
       "\t27 & 29274 & F & 300.7644 & 300.7644 & WHITE & 0 &  3 & 1 & 0 & 0 & 0\\\\\n",
       "\t28 & 23592 & M & 300.7233 & 300.7233 & WHITE & 0 &  4 & 0 & 0 & 0 & 0\\\\\n",
       "\t29 & 97206 & M & 300.7096 & 300.7096 & WHITE & 0 & 15 & 1 & 1 & 0 & 0\\\\\n",
       "\t30 & 59628 & F & 300.7068 & 300.7068 & WHITE & 0 & 13 & 0 & 0 & 0 & 0\\\\\n",
       "\\end{tabular}\n"
      ],
      "text/markdown": [
       "\n",
       "A data.frame: 30 × 11\n",
       "\n",
       "| <!--/--> | SUBJECT_ID &lt;int&gt; | GENDER &lt;chr&gt; | AGE_FIRST &lt;dbl&gt; | AGE_LAST &lt;dbl&gt; | ETHNICITY &lt;chr&gt; | DECEASED &lt;int&gt; | AVG_LOS &lt;dbl&gt; | DM2 &lt;int&gt; | CAD &lt;int&gt; | CKD &lt;int&gt; | HYPERTENSION &lt;int&gt; |\n",
       "|---|---|---|---|---|---|---|---|---|---|---|---|\n",
       "| 1 |  6697 | F | 310.3425 | 310.3425 | WHITE | 0 |  5 | 1 | 0 | 0 | 0 |\n",
       "| 2 | 11442 | M | 309.0466 | 309.0466 | WHITE | 0 |  9 | 1 | 0 | 0 | 0 |\n",
       "| 3 |  7936 | M | 308.5370 | 308.5370 | WHITE | 0 | 11 | 1 | 1 | 0 | 0 |\n",
       "| 4 |  5196 | M | 307.6055 | 307.6055 | ASIAN | 0 | 12 | 1 | 0 | 0 | 0 |\n",
       "| 5 | 10820 | M | 307.5178 | 307.5178 | WHITE | 0 | 12 | 1 | 0 | 0 | 0 |\n",
       "| 6 | 10502 | F | 306.9671 | 306.9671 | WHITE | 0 | 16 | 1 | 0 | 0 | 0 |\n",
       "| 7 |  6279 | F | 304.3644 | 304.3644 | WHITE | 0 | 14 | 0 | 0 | 0 | 0 |\n",
       "| 8 | 21139 | F | 303.7589 | 303.7589 | WHITE | 0 | 11 | 0 | 0 | 0 | 0 |\n",
       "| 9 | 25526 | M | 303.4301 | 303.4301 | WHITE | 0 |  4 | 0 | 0 | 0 | 0 |\n",
       "| 10 | 22520 | F | 303.3260 | 303.3260 | WHITE | 0 |  2 | 0 | 0 | 0 | 0 |\n",
       "| 11 | 14269 | F | 303.2027 | 303.2027 | WHITE | 0 |  8 | 0 | 0 | 0 | 0 |\n",
       "| 12 | 24571 | F | 303.1397 | 303.1397 | WHITE | 0 |  3 | 1 | 0 | 0 | 0 |\n",
       "| 13 | 86722 | M | 303.0356 | 303.0356 | WHITE | 0 |  1 | 1 | 0 | 0 | 0 |\n",
       "| 14 | 20804 | M | 302.9836 | 302.9836 | WHITE | 0 |  5 | 0 | 0 | 0 | 0 |\n",
       "| 15 | 28578 | F | 302.3425 | 302.3425 | WHITE | 0 |  3 | 1 | 0 | 0 | 0 |\n",
       "| 16 | 29620 | M | 302.3096 | 302.3096 | WHITE | 0 |  7 | 0 | 0 | 0 | 0 |\n",
       "| 17 | 16373 | F | 302.2000 | 302.2000 | WHITE | 0 |  7 | 1 | 0 | 0 | 0 |\n",
       "| 18 | 93602 | M | 301.8685 | 301.8685 | WHITE | 0 |  2 | 0 | 0 | 0 | 0 |\n",
       "| 19 | 27504 | M | 301.6986 | 301.6986 | WHITE | 0 |  3 | 1 | 0 | 0 | 0 |\n",
       "| 20 | 83653 | M | 301.6521 | 301.6521 | WHITE | 0 |  6 | 0 | 0 | 0 | 0 |\n",
       "| 21 |  6901 | M | 301.6055 | 301.6055 | WHITE | 0 |  9 | 0 | 0 | 0 | 0 |\n",
       "| 22 | 53677 | F | 301.4219 | 301.4219 | WHITE | 0 |  9 | 0 | 0 | 0 | 0 |\n",
       "| 23 | 19842 | F | 301.4192 | 301.4192 | WHITE | 0 |  3 | 0 | 0 | 0 | 0 |\n",
       "| 24 | 26384 | F | 301.3781 | 301.3781 | WHITE | 0 |  9 | 0 | 0 | 0 | 0 |\n",
       "| 25 | 30911 | M | 301.0000 | 301.0000 | WHITE | 0 |  3 | 0 | 0 | 0 | 0 |\n",
       "| 26 | 31973 | F | 300.9068 | 300.9068 | WHITE | 0 |  4 | 0 | 0 | 0 | 0 |\n",
       "| 27 | 29274 | F | 300.7644 | 300.7644 | WHITE | 0 |  3 | 1 | 0 | 0 | 0 |\n",
       "| 28 | 23592 | M | 300.7233 | 300.7233 | WHITE | 0 |  4 | 0 | 0 | 0 | 0 |\n",
       "| 29 | 97206 | M | 300.7096 | 300.7096 | WHITE | 0 | 15 | 1 | 1 | 0 | 0 |\n",
       "| 30 | 59628 | F | 300.7068 | 300.7068 | WHITE | 0 | 13 | 0 | 0 | 0 | 0 |\n",
       "\n"
      ],
      "text/plain": [
       "   SUBJECT_ID GENDER AGE_FIRST AGE_LAST ETHNICITY DECEASED AVG_LOS DM2 CAD CKD\n",
       "1   6697      F      310.3425  310.3425 WHITE     0         5      1   0   0  \n",
       "2  11442      M      309.0466  309.0466 WHITE     0         9      1   0   0  \n",
       "3   7936      M      308.5370  308.5370 WHITE     0        11      1   1   0  \n",
       "4   5196      M      307.6055  307.6055 ASIAN     0        12      1   0   0  \n",
       "5  10820      M      307.5178  307.5178 WHITE     0        12      1   0   0  \n",
       "6  10502      F      306.9671  306.9671 WHITE     0        16      1   0   0  \n",
       "7   6279      F      304.3644  304.3644 WHITE     0        14      0   0   0  \n",
       "8  21139      F      303.7589  303.7589 WHITE     0        11      0   0   0  \n",
       "9  25526      M      303.4301  303.4301 WHITE     0         4      0   0   0  \n",
       "10 22520      F      303.3260  303.3260 WHITE     0         2      0   0   0  \n",
       "11 14269      F      303.2027  303.2027 WHITE     0         8      0   0   0  \n",
       "12 24571      F      303.1397  303.1397 WHITE     0         3      1   0   0  \n",
       "13 86722      M      303.0356  303.0356 WHITE     0         1      1   0   0  \n",
       "14 20804      M      302.9836  302.9836 WHITE     0         5      0   0   0  \n",
       "15 28578      F      302.3425  302.3425 WHITE     0         3      1   0   0  \n",
       "16 29620      M      302.3096  302.3096 WHITE     0         7      0   0   0  \n",
       "17 16373      F      302.2000  302.2000 WHITE     0         7      1   0   0  \n",
       "18 93602      M      301.8685  301.8685 WHITE     0         2      0   0   0  \n",
       "19 27504      M      301.6986  301.6986 WHITE     0         3      1   0   0  \n",
       "20 83653      M      301.6521  301.6521 WHITE     0         6      0   0   0  \n",
       "21  6901      M      301.6055  301.6055 WHITE     0         9      0   0   0  \n",
       "22 53677      F      301.4219  301.4219 WHITE     0         9      0   0   0  \n",
       "23 19842      F      301.4192  301.4192 WHITE     0         3      0   0   0  \n",
       "24 26384      F      301.3781  301.3781 WHITE     0         9      0   0   0  \n",
       "25 30911      M      301.0000  301.0000 WHITE     0         3      0   0   0  \n",
       "26 31973      F      300.9068  300.9068 WHITE     0         4      0   0   0  \n",
       "27 29274      F      300.7644  300.7644 WHITE     0         3      1   0   0  \n",
       "28 23592      M      300.7233  300.7233 WHITE     0         4      0   0   0  \n",
       "29 97206      M      300.7096  300.7096 WHITE     0        15      1   1   0  \n",
       "30 59628      F      300.7068  300.7068 WHITE     0        13      0   0   0  \n",
       "   HYPERTENSION\n",
       "1  0           \n",
       "2  0           \n",
       "3  0           \n",
       "4  0           \n",
       "5  0           \n",
       "6  0           \n",
       "7  0           \n",
       "8  0           \n",
       "9  0           \n",
       "10 0           \n",
       "11 0           \n",
       "12 0           \n",
       "13 0           \n",
       "14 0           \n",
       "15 0           \n",
       "16 0           \n",
       "17 0           \n",
       "18 0           \n",
       "19 0           \n",
       "20 0           \n",
       "21 0           \n",
       "22 0           \n",
       "23 0           \n",
       "24 0           \n",
       "25 0           \n",
       "26 0           \n",
       "27 0           \n",
       "28 0           \n",
       "29 0           \n",
       "30 0           "
      ]
     },
     "metadata": {},
     "output_type": "display_data"
    }
   ],
   "source": [
    "# DO NOT MODIFY THIS CELL\n",
    "dbGetQuery(con, sql) %>% head(30)\n",
    "hf_cohort <- dbGetQuery(con, sql)"
   ]
  },
  {
   "cell_type": "markdown",
   "metadata": {},
   "source": [
    "## Regular expressions (2 points)"
   ]
  },
  {
   "cell_type": "markdown",
   "metadata": {},
   "source": [
    "### Getting the text (0.25 points)"
   ]
  },
  {
   "cell_type": "markdown",
   "metadata": {},
   "source": [
    "In this section, you will work with **regular expressions**. The first exercises will be conducted over a single medical report. In this first exercise, **you will get the report from the data base**. First, connect to MIMIC-III and extract the TEXT field from the NOTEEVENTS table corresponding to the only register with `SUBJECT_ID` equal to `13702`, `CATEGORY` equal to &rsquo;Discharge summary&rsquo;, and `CHARTDATE` equal to &rsquo;2118-06-14&rsquo;. Store it in a string variable called `text`.\n",
    "\n"
   ]
  },
  {
   "cell_type": "code",
   "execution_count": 15,
   "metadata": {
    "vscode": {
     "languageId": "r"
    }
   },
   "outputs": [],
   "source": [
    "sql_diagnosis_all <- \"\n",
    "SELECT n.SUBJECT_ID, n.`TEXT`  \n",
    "FROM NOTEEVENTS n \n",
    "WHERE n.SUBJECT_ID = 13702 AND n.CATEGORY = 'Discharge summary'  AND CHARTDATE = '2118-06-14'\n",
    "\"\n",
    "\n",
    "diagnosis_all <- dbGetQuery(con, sql_diagnosis_all)\n",
    "text <- diagnosis_all$TEXT[1]"
   ]
  },
  {
   "cell_type": "code",
   "execution_count": 16,
   "metadata": {
    "vscode": {
     "languageId": "r"
    }
   },
   "outputs": [
    {
     "name": "stdout",
     "output_type": "stream",
     "text": [
      "<Admission Date:  [**2118-6-2**]       Discharge Date:  [**2118-6-14**]\n",
      "\n",
      "Date of Birth:                    Sex:  F\n",
      "\n",
      "Service:  MICU and then to [**Doctor Last Name **] Medicine\n",
      "\n",
      "HISTORY OF PRESENT ILLNESS:  This is an 81-year-old female\n",
      "with a history of emphysema (not on home O2), who presents\n",
      "with three days of shortness of breath thought by her primary\n",
      "care doctor to be a COPD flare.  Two days prior to admission,\n",
      "she was started on a prednisone taper and one day prior to\n",
      "admission she required oxygen at home in order to maintain\n",
      "oxygen saturation greater than 90%.  She has also been on\n",
      "levofloxacin and nebulizers, and was not getting better, and\n",
      "presented to the [**Hospital1 18**] Emergency Room.\n",
      "\n",
      "In the [**Hospital3 **] Emergency Room, her oxygen saturation was\n",
      "100% on CPAP.  She was not able to be weaned off of this\n",
      "despite nebulizer treatment and Solu-Medrol 125 mg IV x2.\n",
      "\n",
      "Review of systems is negative for the following:  Fevers,\n",
      "chills, nausea, vomiting, night sweats, change in weight,\n",
      "gastrointestinal complaints, neurologic changes, rashes,\n",
      "palpitations, orthopnea.  Is positive for the following:\n",
      "Chest pressure occasionally with shortness of breath with\n",
      "exertion, some shortness of breath that is positionally\n",
      "related, but is improved with nebulizer treatment.\n",
      "\n",
      "PAST MEDICAL HISTORY:\n",
      "1. COPD.  Last pulmonary function tests in [**2117-11-3**]\n",
      "demonstrated a FVC of 52% of predicted, a FEV1 of 54% of\n",
      "predicted, a MMF of 23% of predicted, and a FEV1:FVC ratio of\n",
      "67% of predicted, that does not improve with bronchodilator\n",
      "treatment.  The FVC, however, does significantly improve with\n",
      "bronchodilator treatment consistent with her known reversible\n",
      "air flow obstruction in addition to an underlying restrictive\n",
      "ventilatory defect.  The patient has never been on home\n",
      "oxygen prior to this recent episode.  She has never been on\n",
      "steroid taper or been intubated in the past.\n",
      "2. Lacunar CVA.  MRI of the head in [**2114-11-4**]\n",
      "demonstrates \"mild degree of multiple small foci of high T2\n",
      "signal within the white matter of both cerebral hemispheres\n",
      "as well as the pons, in the latter region predominantly to\n",
      "the right of midline.  The abnormalities, while nonspecific\n",
      "in etiology, are most likely secondary to chronic\n",
      "microvascular infarction.  There is no mass, lesion, shift of\n",
      "the normal midline strictures or hydrocephalus.  The major\n",
      "vascular flow patterns are preserved.  There is moderate\n",
      "right maxillary, moderate bilateral ethmoid, mild left\n",
      "maxillary, minimal right sphenoid, and frontal sinus mucosal\n",
      "thickening.  These abnormalities could represent an allergic\n",
      "or some other type of inflammatory process.  Additionally\n",
      "noted is a moderately enlarged subtotally empty sella\n",
      "turcica\".\n",
      "3. Angina:  Most recent stress test was in [**2118-1-3**]\n",
      "going for four minutes with a rate pressure product of\n",
      "10,000, 64% of maximum predicted heart rate without evidence\n",
      "of ischemic EKG changes or symptoms.  The imaging portion of\n",
      "the study demonstrated no evidence of myocardial ischemia and\n",
      "a calculated ejection fraction of 84%.  The patient denies\n",
      "angina at rest and gets angina with walking a few blocks.\n",
      "Are alleviated by sublingual nitroglycerin.\n",
      "4. Hypothyroidism on Synthroid.\n",
      "5. Depression on Lexapro.\n",
      "6. Motor vehicle accident with head injury approximately 10\n",
      "years ago.\n",
      "\n",
      "MEDICATIONS ON ADMISSION:\n",
      "1. Hydrochlorothiazide 25 q.d.\n",
      "2. Prednisone 60 mg, 50 mg, 40 mg, 20 mg.\n",
      "3. Levofloxacin 500 mg q.d.\n",
      "4. Imdur 60 mg q.d.\n",
      "5. Synthroid 75 mcg q.d.\n",
      "6. Pulmicort nebulizer b.i.d.\n",
      "7. Albuterol nebulizer q.4. prn.\n",
      "8. Lexapro 10 mg q.d.\n",
      "9. Protonix 40 mg q.d.\n",
      "10. Aspirin 81 mg q.d.\n",
      "\n",
      "ALLERGIES:  Norvasc leads to lightheadedness and headache.\n",
      "\n",
      "FAMILY HISTORY:  Noncontributory.\n",
      "\n",
      "SOCIAL HISTORY:  Lives with her husband, Dr. [**Known lastname 1809**] an\n",
      "eminent Pediatric Neurologist at [**Hospital3 1810**].  The\n",
      "patient is a prior smoker, but has not smoked in over 10\n",
      "years.  She has no known alcohol use and she is a full code.\n",
      "\n",
      "PHYSICAL EXAM AT TIME OF ADMISSION:  Blood pressure 142/76,\n",
      "heart rate 100 and regular, respirations at 17-21, and 97%\n",
      "axillary temperature.  She was saturating at 100% on CPAP\n",
      "with dry mucous membranes.  An elderly female in no apparent\n",
      "distress.  Pupils are equal, round, and reactive to light and\n",
      "accommodation.  Extraocular movements are intact.  Oropharynx\n",
      "difficult to assess due to CPAP machine.  No evidence of\n",
      "jugular venous pressure, however, the strap from the CPAP\n",
      "machine obscures the neck exam.  Cranial nerves II through\n",
      "XII are grossly intact.  Neck is supple without\n",
      "lymphadenopathy.  Heart exam:  Tachycardic, regular, obscured\n",
      "by loud bilateral wheezing with increase in the expiratory\n",
      "phase as well as profuse scattered rhonchi throughout the\n",
      "lung fields.  Positive bowel sounds, soft, nontender,\n",
      "nondistended, obese, no masses.  Mild edema of the lower\n",
      "extremities without clubbing or cyanosis, no rashes.  There\n",
      "is a right hand hematoma.  Strength is assessed as [**5-9**] in the\n",
      "lower extremities, [**5-9**] in the upper extremities with a normal\n",
      "mental status and cognition.\n",
      "\n",
      "LABORATORY STUDIES:  White count 19, hematocrit 41, platelets\n",
      "300.  Chem-7:  127, 3.6, 88, 29, 17, 0.6, 143.  Troponin was\n",
      "negative.  CKs were negative times three.  Initial blood gas\n",
      "showed a pH of 7.4, pO2 of 66, pCO2 of 54.\n",
      "\n",
      "Chest x-ray demonstrates a moderate sized hiatal hernia,\n",
      "segmental atelectasis, left lower lobe infiltrate versus\n",
      "segmental atelectasis.\n",
      "\n",
      "EKG shows normal sinus rhythm at 113 beats per minute, normal\n",
      "axis, no evidence of ST-T wave changes.\n",
      "\n",
      "BRIEF SUMMARY OF HOSPITAL COURSE:\n",
      "1. COPD/dyspnea/pneumonia:  The patient was initially placed\n",
      "on an aggressive steroid taper and admitted to the Medical\n",
      "Intensive Care Unit due to her difficulty with oxygenation\n",
      "despite CPAP machine.  She was also given nebulizer\n",
      "treatments q.4h. as well as chest PT.  The nebulizers were\n",
      "increased to q.1h. due to the fact that she continued to have\n",
      "labored breathing.\n",
      "\n",
      "Due to persistent respiratory failure and labored breathing,\n",
      "the patient was intubated on [**2118-6-7**] in order to improve\n",
      "oxygenation, ventilation, and ability to suction.  A\n",
      "bronchoscopy was performed on [**2118-6-7**], which demonstrated\n",
      "marked narrowing of the airways with expiration consistent\n",
      "with tracheomalacia.\n",
      "\n",
      "On [**2118-6-9**], two silicone stents were placed, one in the left\n",
      "main stem (12 x 25 and one in the trachea 16 x 40) by Dr.\n",
      "[**First Name (STitle) **] [**Name (STitle) **] under rigid bronchoscopy with general anesthesia.\n",
      "\n",
      "On [**2118-6-11**], the patient was extubated to a cool mist shovel\n",
      "mask and her oxygen was titrated down to 2 liters nasal\n",
      "cannula at which time she was transferred to the medical\n",
      "floor.  On the medical floor, the steroids were weaned to off\n",
      "on [**2118-6-14**], and the patient was saturating at 97% on 2\n",
      "liters, 92% on room air.\n",
      "\n",
      "On [**2118-6-14**], the patient was seen again by the Interventional\n",
      "Pulmonology service, who agreed that she looked much improved\n",
      "and recommended that she go to pulmonary rehabilitation with\n",
      "followup within six weeks' time status post placement of\n",
      "stents in respiratory failure.\n",
      "\n",
      "2. Cardiovascular:  The patient was ruled out for a MI.  She\n",
      "did have another episode on the medical floor of chest pain,\n",
      "which showed no evidence of EKG changes and negative\n",
      "troponin, negative CKs x3.  She was continued on aspirin,\n",
      "Imdur, and diltiazem for rate control per her outpatient\n",
      "regimen.\n",
      "\n",
      "3. Hypertension:  She was maintained on diltiazem and\n",
      "hydrochlorothiazide with adequate blood pressure control and\n",
      "normalization of electrolytes.\n",
      "\n",
      "4. Hematuria:  The patient had intermittent hematuria likely\n",
      "secondary to Foley placement.  The Foley catheter was\n",
      "discontinued on [**2118-6-14**].  She had serial urinalyses, which\n",
      "were all negative for signs of infection.\n",
      "\n",
      "5. Hyperglycemia:  Patient was placed on insulin-sliding\n",
      "scale due to hyperglycemia, which was steroid induced.  This\n",
      "worked quite well and her glucose came back to normal levels\n",
      "once the steroids were tapered to off.\n",
      "\n",
      "6. Leukocytosis:  Patient did have a profound leukocytosis of\n",
      "20 to 22 during much of her hospital course.  As the steroids\n",
      "were tapered to off, her white blood cell count on [**2118-6-14**]\n",
      "was 15,000.  It was felt that the leukocytosis was secondary\n",
      "to both steroids as well as question of a left lower lobe\n",
      "pneumonia.\n",
      "\n",
      "7. For the left lower lobe pneumonia, the patient had\n",
      "initially received a course of levofloxacin 500 p.o. q.d.\n",
      "from [**2118-6-4**] to [**2118-6-10**].  This was restarted on [**2118-6-12**]\n",
      "for an additional seven day course given the fact that she\n",
      "still had the leukocytosis and still had marked rales at the\n",
      "left lower lobe.\n",
      "\n",
      "8. Hypothyroidism:  The patient was continued on outpatient\n",
      "medical regimen.\n",
      "\n",
      "9. Depression:  The patient was continued on Lexapro per\n",
      "outpatient regimen.  It is recommended that she follow up\n",
      "with a therapist as an outpatient due to the fact that she\n",
      "did have a blunted affect throughout much of the hospital\n",
      "course, and did appear clinically to be depressed.\n",
      "\n",
      "10. Prophylaxis:  She was maintained on proton-pump inhibitor\n",
      "with subQ Heparin.\n",
      "\n",
      "11. Sore throat:  The patient did have a sore throat for much\n",
      "of the hospital course post extubation.  This was treated\n",
      "with Cepacol lozenges as well as KBL liquid (a solution\n",
      "containing Kaopectate, Bismuth, and lidocaine) at bedtime.\n",
      "\n",
      "12. Communication/code status:  The patient was full code\n",
      "throughout her hospital course, and communication was\n",
      "maintained with the patient and her husband.\n",
      "\n",
      "13. Muscle weakness:  The patient did have profound muscle\n",
      "weakness and was evaluated by Physical Therapy, and was found\n",
      "to have impaired functional mobility, impaired\n",
      "musculoskeletal performance, impaired gas exchange, impaired\n",
      "endurance, impaired ventilation, and needed help with supine\n",
      "to sit.  However, she was able to tolerate sitting in a chair\n",
      "for approximately one hour.\n",
      "\n",
      "On motor exam, her flexors and extensors of the lower\n",
      "extremities were [**4-8**] at the knee, [**4-8**] at the ankle, [**4-8**] at\n",
      "the elbows, and [**4-8**] hips.  It was felt that this weakness was\n",
      "most likely due to a combination of steroid myopathy as well\n",
      "as muscle atrophy secondary to deconditioning after a\n",
      "prolonged hospital course.\n",
      "\n",
      "14. Speech/swallow:  The patient had a Speech and Swallow\n",
      "evaluation showing no evidence of dysphagia, no evidence of\n",
      "vocal cord damage status post tracheal stent placement.\n",
      "\n",
      "DISCHARGE CONDITION:  The patient was able to oxygenate on\n",
      "room air at 93% at the time of discharge.  She was profoundly\n",
      "weak, but was no longer tachycardic and had a normal blood\n",
      "pressure.  Her respirations were much improved albeit with\n",
      "transmitted upper airway sounds.\n",
      "\n",
      "DISCHARGE STATUS:  The patient will be discharged to [**Hospital1 **]\n",
      "for both pulmonary and physical rehabilitation.\n",
      "\n",
      "DISCHARGE MEDICATIONS:\n",
      "1. Levothyroxine 75 mcg p.o. q.d.\n",
      "2. Citalopram 10 mg p.o. q.d.\n",
      "3. Aspirin 81 mg p.o. q.d.\n",
      "4. Fluticasone 110 mcg two puffs inhaled b.i.d.\n",
      "5. Salmeterol Diskus one inhalation b.i.d.\n",
      "6. Acetaminophen 325-650 mg p.o. q.4-6h. prn.\n",
      "7. Ipratropium bromide MDI two puffs inhaled q.2h. prn.\n",
      "8. Albuterol 1-2 puffs inhaled q.2h. prn.\n",
      "9. Zolpidem tartrate 5 mg p.o. q.h.s. prn.\n",
      "10. Isosorbide dinitrate 10 mg p.o. t.i.d.\n",
      "11. Diltiazem 60 mg p.o. q.i.d.\n",
      "12. Pantoprazole 40 mg p.o. q.24h.\n",
      "13. Trazodone 25 mg p.o. q.h.s. prn.\n",
      "14. SubQ Heparin 5000 units subcutaneous b.i.d. until such\n",
      "time that the patient is able to get out of bed twice a day.\n",
      "15. Cepacol lozenges q.2h. prn.\n",
      "16. Levofloxacin 500 mg p.o. q.d. for a seven day course to\n",
      "be completed on [**2118-6-21**].\n",
      "17. Kaopectate/Benadryl/lidocaine 5 mL p.o. b.i.d. prn, not\n",
      "to be given around mealtimes for concern of dysphagia induced\n",
      "by lidocaine.\n",
      "18. Lorazepam 0.5-2 mg IV q.6h. prn.\n",
      "\n",
      "FOLLOW-UP PLANS:  The patient is recommended to followup with\n",
      "Dr. [**First Name4 (NamePattern1) **] [**Last Name (NamePattern1) 1407**], [**Telephone/Fax (1) 1408**] within two weeks of leaving\n",
      "of the hospital.  She is also recommended to followup with\n",
      "the Interventional Pulmonary service for followup status post\n",
      "stent placement.  She is also recommended to followup with a\n",
      "neurologist if her muscle weakness does not improve within\n",
      "one week on physical therapy with concern for steroid-induced\n",
      "myopathy.\n",
      "\n",
      "FINAL DIAGNOSES:\n",
      "1. Tracheomalacia status post tracheal and left main stem\n",
      "bronchial stent placement.\n",
      "2. Hypertension.\n",
      "3. Hypothyroidism.\n",
      "4. Restrictive lung defect.\n",
      "5. Depression.\n",
      "\n",
      "\n",
      "                     DR.[**Last Name (STitle) **],[**First Name3 (LF) **] 12-207\n",
      "\n",
      "\n",
      "Dictated By:[**Last Name (NamePattern1) 1811**]\n",
      "MEDQUIST36\n",
      "\n",
      "D:  [**2118-6-14**]  11:30\n",
      "T:  [**2118-6-14**]  11:33\n",
      "JOB#:  [**Job Number 1812**]\n",
      ">\n"
     ]
    }
   ],
   "source": [
    "# DO NOT MODIFY THIS CELL\n",
    "writeLines(str_c('<', text ,'>'))"
   ]
  },
  {
   "cell_type": "markdown",
   "metadata": {},
   "source": [
    "### Medications (0.75 points)"
   ]
  },
  {
   "cell_type": "markdown",
   "metadata": {},
   "source": [
    "In `text`, there is a paragraph with the **list of medications** on admission. Using `stringr` functions, **extract it to a list of strings called `medications_admission`**. Remove the enumeration in front of each medication. Each string in the list **must be composed by the name of the medication and its dosage** just as it appears in the report.\n",
    "\n"
   ]
  },
  {
   "cell_type": "code",
   "execution_count": 17,
   "metadata": {
    "vscode": {
     "languageId": "r"
    }
   },
   "outputs": [
    {
     "name": "stdout",
     "output_type": "stream",
     "text": [
      "[[1]]\n",
      " [1] \"1. Hydrochlorothiazide 25 q.d.\"           \n",
      " [2] \"2. Prednisone 60 mg, 50 mg, 40 mg, 20 mg.\"\n",
      " [3] \"3. Levofloxacin 500 mg q.d.\"              \n",
      " [4] \"4. Imdur 60 mg q.d.\"                      \n",
      " [5] \"5. Synthroid 75 mcg q.d.\"                 \n",
      " [6] \"6. Pulmicort nebulizer b.i.d.\"            \n",
      " [7] \"7. Albuterol nebulizer q.4. prn.\"         \n",
      " [8] \"8. Lexapro 10 mg q.d.\"                    \n",
      " [9] \"9. Protonix 40 mg q.d.\"                   \n",
      "[10] \"10. Aspirin 81 mg q.d.\"                   \n",
      "\n"
     ]
    }
   ],
   "source": [
    "adm_med_raw <- str_extract(text, pattern = \"MEDICATIONS ON ADMISSION:(\\\\n\\\\d*\\\\..*)*\")\n",
    "adm_med_raw <- str_sub(adm_med_raw, start = 27)\n",
    "adm_med_list <- str_split(adm_med_raw, pattern=\"\\\\n\")\n",
    "print(adm_med_list[1])\n",
    "medications_admission <- c()\n",
    "for (i in adm_med_list[1]){\n",
    "    matches <- str_locate(i, pattern=\"^([0-9]+\\\\.\\\\s)\")\n",
    "    clean_string <- str_sub(i, start=matches[,2]+1)\n",
    "    medications_admission <- append(medications_admission, clean_string)\n",
    "    }"
   ]
  },
  {
   "cell_type": "code",
   "execution_count": 55,
   "metadata": {
    "vscode": {
     "languageId": "r"
    }
   },
   "outputs": [
    {
     "data": {
      "text/html": [
       "<style>\n",
       ".list-inline {list-style: none; margin:0; padding: 0}\n",
       ".list-inline>li {display: inline-block}\n",
       ".list-inline>li:not(:last-child)::after {content: \"\\00b7\"; padding: 0 .5ex}\n",
       "</style>\n",
       "<ol class=list-inline><li>'Hydrochlorothiazide 25 q.d.'</li><li>'Prednisone 60 mg, 50 mg, 40 mg, 20 mg.'</li><li>'Levofloxacin 500 mg q.d.'</li><li>'Imdur 60 mg q.d.'</li><li>'Synthroid 75 mcg q.d.'</li><li>'Pulmicort nebulizer b.i.d.'</li><li>'Albuterol nebulizer q.4. prn.'</li><li>'Lexapro 10 mg q.d.'</li><li>'Protonix 40 mg q.d.'</li><li>'Aspirin 81 mg q.d.'</li></ol>\n"
      ],
      "text/latex": [
       "\\begin{enumerate*}\n",
       "\\item 'Hydrochlorothiazide 25 q.d.'\n",
       "\\item 'Prednisone 60 mg, 50 mg, 40 mg, 20 mg.'\n",
       "\\item 'Levofloxacin 500 mg q.d.'\n",
       "\\item 'Imdur 60 mg q.d.'\n",
       "\\item 'Synthroid 75 mcg q.d.'\n",
       "\\item 'Pulmicort nebulizer b.i.d.'\n",
       "\\item 'Albuterol nebulizer q.4. prn.'\n",
       "\\item 'Lexapro 10 mg q.d.'\n",
       "\\item 'Protonix 40 mg q.d.'\n",
       "\\item 'Aspirin 81 mg q.d.'\n",
       "\\end{enumerate*}\n"
      ],
      "text/markdown": [
       "1. 'Hydrochlorothiazide 25 q.d.'\n",
       "2. 'Prednisone 60 mg, 50 mg, 40 mg, 20 mg.'\n",
       "3. 'Levofloxacin 500 mg q.d.'\n",
       "4. 'Imdur 60 mg q.d.'\n",
       "5. 'Synthroid 75 mcg q.d.'\n",
       "6. 'Pulmicort nebulizer b.i.d.'\n",
       "7. 'Albuterol nebulizer q.4. prn.'\n",
       "8. 'Lexapro 10 mg q.d.'\n",
       "9. 'Protonix 40 mg q.d.'\n",
       "10. 'Aspirin 81 mg q.d.'\n",
       "\n",
       "\n"
      ],
      "text/plain": [
       " [1] \"Hydrochlorothiazide 25 q.d.\"           \n",
       " [2] \"Prednisone 60 mg, 50 mg, 40 mg, 20 mg.\"\n",
       " [3] \"Levofloxacin 500 mg q.d.\"              \n",
       " [4] \"Imdur 60 mg q.d.\"                      \n",
       " [5] \"Synthroid 75 mcg q.d.\"                 \n",
       " [6] \"Pulmicort nebulizer b.i.d.\"            \n",
       " [7] \"Albuterol nebulizer q.4. prn.\"         \n",
       " [8] \"Lexapro 10 mg q.d.\"                    \n",
       " [9] \"Protonix 40 mg q.d.\"                   \n",
       "[10] \"Aspirin 81 mg q.d.\"                    "
      ]
     },
     "metadata": {},
     "output_type": "display_data"
    }
   ],
   "source": [
    "# DO NOT MODIFY THIS CELL\n",
    "medications_admission"
   ]
  },
  {
   "cell_type": "markdown",
   "metadata": {},
   "source": [
    "### Medications data frame (1 point)"
   ]
  },
  {
   "cell_type": "markdown",
   "metadata": {},
   "source": [
    "Now that you have extracted the medication information, you need to **put this information in a structured object**. Specifically, you must generate a data.frame `medications` with the following columns, using regular expressions to segment the previously generated strings:\n",
    "\n",
    "-   `medication`: name of the product\n",
    "-   `dosage`: numerical value with the prescribed dosage\n",
    "-   `units`: units on which the dossage is specified\n",
    "\n",
    "Do it as precise as possible, given the variety of formats in the original text.\n"
   ]
  },
  {
   "cell_type": "code",
   "execution_count": 18,
   "metadata": {
    "vscode": {
     "languageId": "r"
    }
   },
   "outputs": [],
   "source": [
    "# extract units of medications\n",
    "units <- str_split_fixed(medications_admission, pattern = '\\\\s(?=\\\\w\\\\.)', n = 2)\n",
    "# extract doses\n",
    "doses <- str_split_fixed(units[,1], pattern = '\\\\s(?=\\\\d)', n = 2)\n",
    "# make dataframe from lists\n",
    "medications <- data.frame(doses[,1], doses[,2], units[,2])\n",
    "colnames(medications) <- c(\"Medication\", \"Dose\", \"Unit\")"
   ]
  },
  {
   "cell_type": "code",
   "execution_count": 59,
   "metadata": {
    "vscode": {
     "languageId": "r"
    }
   },
   "outputs": [
    {
     "name": "stdout",
     "output_type": "stream",
     "text": [
      "            Medication                        Dose      Unit\n",
      "1  Hydrochlorothiazide                          25      q.d.\n",
      "2           Prednisone 60 mg, 50 mg, 40 mg, 20 mg.          \n",
      "3         Levofloxacin                      500 mg      q.d.\n",
      "4                Imdur                       60 mg      q.d.\n",
      "5            Synthroid                      75 mcg      q.d.\n",
      "6  Pulmicort nebulizer                                b.i.d.\n",
      "7  Albuterol nebulizer                             q.4. prn.\n",
      "8              Lexapro                       10 mg      q.d.\n",
      "9             Protonix                       40 mg      q.d.\n",
      "10             Aspirin                       81 mg      q.d.\n"
     ]
    }
   ],
   "source": [
    "# DO NOT MODIFY THIS CELL\n",
    "print(medications)"
   ]
  },
  {
   "cell_type": "markdown",
   "metadata": {},
   "source": [
    "#### Questions\n",
    "\n"
   ]
  },
  {
   "cell_type": "markdown",
   "metadata": {},
   "source": [
    "**Explain the limitations of your method**: which formats are going to be recognized correctly and which are going to fail; in case of failure, explain how do they fail; undesired flaws (e.g., the appearance of additional characters, such as commas or blank spaces, in any of the fields); explain how do you handle the absence of quantity and/or units, or the presence of multiple quantities and/or units.\n",
    "\n"
   ]
  },
  {
   "cell_type": "raw",
   "metadata": {},
   "source": [
    "The format present in the example can be correctly recognized. Even the presence of multiple units, and dosages can be quantified. But the extraction would fail is the dosages and unit are mixed, eg. dosage, unit, dosage, unit. The absence of dosage and units have be quantified correctly as visible in line 2 and 6, 7."
   ]
  },
  {
   "cell_type": "markdown",
   "metadata": {},
   "source": [
    "As you know, medications are already stored on an structured table in MIMIC-III. Compare the results obtained in this exercise with the ones stored for this particular admission in MIMIC-III:\n",
    "\n"
   ]
  },
  {
   "cell_type": "code",
   "execution_count": 19,
   "metadata": {
    "vscode": {
     "languageId": "r"
    }
   },
   "outputs": [
    {
     "data": {
      "text/html": [
       "<table class=\"dataframe\">\n",
       "<caption>A data.frame: 10 × 4</caption>\n",
       "<thead>\n",
       "\t<tr><th></th><th scope=col>DRUG</th><th scope=col>DOSE_VAL_RX</th><th scope=col>DOSE_UNIT_RX</th><th scope=col>STARTDATE</th></tr>\n",
       "\t<tr><th></th><th scope=col>&lt;chr&gt;</th><th scope=col>&lt;chr&gt;</th><th scope=col>&lt;chr&gt;</th><th scope=col>&lt;dttm&gt;</th></tr>\n",
       "</thead>\n",
       "<tbody>\n",
       "\t<tr><th scope=row>1</th><td>Albuterol Neb Soln                       </td><td>1   </td><td>NEB </td><td>2118-06-02</td></tr>\n",
       "\t<tr><th scope=row>2</th><td>Aspirin                                  </td><td>81  </td><td>mg  </td><td>2118-06-02</td></tr>\n",
       "\t<tr><th scope=row>3</th><td>Escitalopram Oxalate                     </td><td>10  </td><td>mg  </td><td>2118-06-02</td></tr>\n",
       "\t<tr><th scope=row>4</th><td>Heparin                                  </td><td>5000</td><td>UNIT</td><td>2118-06-02</td></tr>\n",
       "\t<tr><th scope=row>5</th><td>Insulin                                  </td><td>0   </td><td>UNIT</td><td>2118-06-02</td></tr>\n",
       "\t<tr><th scope=row>6</th><td>Ipratropium Bromide Neb                  </td><td>1   </td><td>NEB </td><td>2118-06-02</td></tr>\n",
       "\t<tr><th scope=row>7</th><td>Isosorbide Mononitrate (Extended Release)</td><td>60  </td><td>mg  </td><td>2118-06-02</td></tr>\n",
       "\t<tr><th scope=row>8</th><td>Levofloxacin                             </td><td>500 </td><td>mg  </td><td>2118-06-02</td></tr>\n",
       "\t<tr><th scope=row>9</th><td>Levothyroxine Sodium                     </td><td>75  </td><td>mcg </td><td>2118-06-02</td></tr>\n",
       "\t<tr><th scope=row>10</th><td>Methylprednisolone Na Succ.              </td><td>80  </td><td>mg  </td><td>2118-06-02</td></tr>\n",
       "</tbody>\n",
       "</table>\n"
      ],
      "text/latex": [
       "A data.frame: 10 × 4\n",
       "\\begin{tabular}{r|llll}\n",
       "  & DRUG & DOSE\\_VAL\\_RX & DOSE\\_UNIT\\_RX & STARTDATE\\\\\n",
       "  & <chr> & <chr> & <chr> & <dttm>\\\\\n",
       "\\hline\n",
       "\t1 & Albuterol Neb Soln                        & 1    & NEB  & 2118-06-02\\\\\n",
       "\t2 & Aspirin                                   & 81   & mg   & 2118-06-02\\\\\n",
       "\t3 & Escitalopram Oxalate                      & 10   & mg   & 2118-06-02\\\\\n",
       "\t4 & Heparin                                   & 5000 & UNIT & 2118-06-02\\\\\n",
       "\t5 & Insulin                                   & 0    & UNIT & 2118-06-02\\\\\n",
       "\t6 & Ipratropium Bromide Neb                   & 1    & NEB  & 2118-06-02\\\\\n",
       "\t7 & Isosorbide Mononitrate (Extended Release) & 60   & mg   & 2118-06-02\\\\\n",
       "\t8 & Levofloxacin                              & 500  & mg   & 2118-06-02\\\\\n",
       "\t9 & Levothyroxine Sodium                      & 75   & mcg  & 2118-06-02\\\\\n",
       "\t10 & Methylprednisolone Na Succ.               & 80   & mg   & 2118-06-02\\\\\n",
       "\\end{tabular}\n"
      ],
      "text/markdown": [
       "\n",
       "A data.frame: 10 × 4\n",
       "\n",
       "| <!--/--> | DRUG &lt;chr&gt; | DOSE_VAL_RX &lt;chr&gt; | DOSE_UNIT_RX &lt;chr&gt; | STARTDATE &lt;dttm&gt; |\n",
       "|---|---|---|---|---|\n",
       "| 1 | Albuterol Neb Soln                        | 1    | NEB  | 2118-06-02 |\n",
       "| 2 | Aspirin                                   | 81   | mg   | 2118-06-02 |\n",
       "| 3 | Escitalopram Oxalate                      | 10   | mg   | 2118-06-02 |\n",
       "| 4 | Heparin                                   | 5000 | UNIT | 2118-06-02 |\n",
       "| 5 | Insulin                                   | 0    | UNIT | 2118-06-02 |\n",
       "| 6 | Ipratropium Bromide Neb                   | 1    | NEB  | 2118-06-02 |\n",
       "| 7 | Isosorbide Mononitrate (Extended Release) | 60   | mg   | 2118-06-02 |\n",
       "| 8 | Levofloxacin                              | 500  | mg   | 2118-06-02 |\n",
       "| 9 | Levothyroxine Sodium                      | 75   | mcg  | 2118-06-02 |\n",
       "| 10 | Methylprednisolone Na Succ.               | 80   | mg   | 2118-06-02 |\n",
       "\n"
      ],
      "text/plain": [
       "   DRUG                                      DOSE_VAL_RX DOSE_UNIT_RX\n",
       "1  Albuterol Neb Soln                        1           NEB         \n",
       "2  Aspirin                                   81          mg          \n",
       "3  Escitalopram Oxalate                      10          mg          \n",
       "4  Heparin                                   5000        UNIT        \n",
       "5  Insulin                                   0           UNIT        \n",
       "6  Ipratropium Bromide Neb                   1           NEB         \n",
       "7  Isosorbide Mononitrate (Extended Release) 60          mg          \n",
       "8  Levofloxacin                              500         mg          \n",
       "9  Levothyroxine Sodium                      75          mcg         \n",
       "10 Methylprednisolone Na Succ.               80          mg          \n",
       "   STARTDATE \n",
       "1  2118-06-02\n",
       "2  2118-06-02\n",
       "3  2118-06-02\n",
       "4  2118-06-02\n",
       "5  2118-06-02\n",
       "6  2118-06-02\n",
       "7  2118-06-02\n",
       "8  2118-06-02\n",
       "9  2118-06-02\n",
       "10 2118-06-02"
      ]
     },
     "metadata": {},
     "output_type": "display_data"
    }
   ],
   "source": [
    "sql <- \"\n",
    "SELECT DISTINCT(p.DRUG), p.DOSE_VAL_RX, p.DOSE_UNIT_RX, p.STARTDATE \n",
    "FROM PRESCRIPTIONS p \n",
    "WHERE p.SUBJECT_ID = 13702\n",
    "ORDER BY p.STARTDATE ASC\n",
    "\"\n",
    "dbGetQuery(con, sql) %>% head(10)"
   ]
  },
  {
   "cell_type": "raw",
   "metadata": {},
   "source": [
    "The formatting of the prescription table is different and not cleary split into admission and discharge medication, but based on date it mostly overlapped with what we extracted using regex."
   ]
  },
  {
   "cell_type": "markdown",
   "metadata": {},
   "source": [
    "## Bringing everything together (3 points)"
   ]
  },
  {
   "cell_type": "markdown",
   "metadata": {},
   "source": [
    "The **ejection fraction measures the volumetric fraction of fluid ejected from a chamber with each contraction**. As you may imagine, this metric is deeply connected with the heart functionality. Doctors typically measure the ejection fraction **using an echocardiogram**, which is an ultrasound imaging test that uses sound waves to create a picture of the heart. The test allows the doctor to see the size and shape of the heart and how well it is functioning. Doctors can measure both, the volume of blood in the left ventricle and in the right ventricle. In general, the **left ventricle is responsible for pumping oxygenated blood to the rest of the body**, while the right ventricle pumps blood to the lungs to be oxygenated.\n",
    "\n",
    "It turns out that **left ventricular ejection fraction (LVEF) is closely related with the diagnosis of heart failure** since it can be used to further **classify the disease**. According to the European Society of Cardiology those can be:\n",
    "\n",
    "-   Heart failure with preserved LVEF (HFpEF) [LVEF > 50%]\n",
    "-   Heart failure with moderated reduced LVEF (HFmrEF) [41% < LVEF < 50%]\n",
    "-   Heart failure with reduced LVEF (HFrEF) [LVEF < 41%]\n",
    "\n",
    "**Treatment for these types of heart failure may differ**, depending on the underlying cause and the specific symptoms a person is experiencing. In general, managing heart failure involves a combination of medications, lifestyle changes, and in some cases, medical procedures or surgeries.\n",
    "\n"
   ]
  },
  {
   "cell_type": "markdown",
   "metadata": {},
   "source": [
    "### Heart Failure: Ejection Fraction (1.5 points)"
   ]
  },
  {
   "cell_type": "markdown",
   "metadata": {},
   "source": [
    "In this exercise, you must **extract using regular expressions the LVEF from the `NOTEEVENTS`** using the echocardiogram reports associated with admissions where the primary diagnosis is heart failure. Be aware that they are **many different ways how this information can be recorded** (LV ejection fraction, LVEF, L.V.E.F&#x2026;). **You must analyze those different scenarios** when you design the extraction strategy. You must provide a data frame with the following content:\n",
    "\n",
    "-   `HADM_ID`: admission number\n",
    "-   `LVEF`: Left ventricular ejection fraction (if there are more than one measurement per admission you must provide the average)\n",
    "\n",
    "In this activity you **may use any of the techniques taught in this course**. You can organize the code in as many cells as you need. You must properly describe any decision made either using markdown cells or code comments.\n",
    "\n"
   ]
  },
  {
   "cell_type": "code",
   "execution_count": 16,
   "metadata": {
    "vscode": {
     "languageId": "r"
    }
   },
   "outputs": [],
   "source": [
    "sql_lvef = \"\n",
    "SELECT di.SUBJECT_ID, di.HADM_ID, n.TEXT \n",
    "FROM DIAGNOSES_ICD di\n",
    "INNER JOIN NOTEEVENTS n \n",
    "ON di.HADM_ID = n.HADM_ID \n",
    "WHERE di.ICD9_CODE LIKE \\\"428%\\\" AND di.SEQ_NUM = 1 AND n.Category = \\\"Echo\\\"\n",
    "\"\n",
    "lvef_all <- dbGetQuery(con, sql_lvef)"
   ]
  },
  {
   "cell_type": "code",
   "execution_count": 17,
   "metadata": {
    "vscode": {
     "languageId": "r"
    }
   },
   "outputs": [],
   "source": [
    "text <- lvef_all$TEXT\n",
    "#writeLines(str_c('<', text ,'>'))"
   ]
  },
  {
   "cell_type": "code",
   "execution_count": 18,
   "metadata": {
    "vscode": {
     "languageId": "r"
    }
   },
   "outputs": [],
   "source": [
    "subject_ids <- c()\n",
    "admission_ids <- c()\n",
    "lvef_measurement <- c()\n",
    "# We iterate over each text obtained by the SQL query\n",
    "for (i in 1:length(text)){\n",
    "    # First extract the LVEF information and following digits \n",
    "    match <- str_extract(text[i], \"(L.*V.*E.*F\\\\S*) [0-9 \\\\-]*%\")\n",
    "    # extract only the digits from the lvef information\n",
    "    lvef_value <- str_extract(match, \"[0-9]+\")\n",
    "    # append the data to the empty vectors\n",
    "    subject_ids <- append(subject_ids, lvef_all$SUBJECT_ID[i])\n",
    "    admission_ids <- append(admission_ids, lvef_all$HADM_ID[i])\n",
    "    lvef_measurement <- append(lvef_measurement, lvef_value)\n",
    "}\n",
    "# make the dataframe from the vectors, omitting na rows, where now LVEF information was found\n",
    "lvef_data <- na.omit(data.frame(subject = subject_ids, admission = admission_ids, lvef = as.numeric(lvef_measurement)))\n"
   ]
  },
  {
   "cell_type": "markdown",
   "metadata": {},
   "source": [
    "### Heart Failure: Adding LVEF to our cohort (0.25 points)"
   ]
  },
  {
   "cell_type": "markdown",
   "metadata": {},
   "source": [
    "In order to understand the relation of ejection fraction with other factors, you need to **merge the table `hf_cohort` with the data frame containing LVEF values** that you just obtained. If a patient has associated more than one LVEF you will input the average. Additionally, you will **add a new column `type`**, specifying the type of HF (HFrEF, HFmrEF or HFpEF).\n",
    "\n"
   ]
  },
  {
   "cell_type": "code",
   "execution_count": 20,
   "metadata": {
    "vscode": {
     "languageId": "r"
    }
   },
   "outputs": [],
   "source": [
    "# compile averages of LVEF measurements for each subject if multiple are present.\n",
    "lvef_avg <- aggregate(lvef_data$lvef ~ lvef_data$subject,lvef_data,FUN=mean)\n",
    "colnames(lvef_avg) <- c(\"SUBJECT_ID\", \"lvef\")"
   ]
  },
  {
   "cell_type": "code",
   "execution_count": 21,
   "metadata": {
    "vscode": {
     "languageId": "r"
    }
   },
   "outputs": [],
   "source": [
    "# assing types according to LVEF measurements\n",
    "type <- c()\n",
    "for (i in lvef_avg$lvef){\n",
    "    if (i >= 50){\n",
    "        type <- append(type, \"HFpEF\")\n",
    "    }\n",
    "    if (i >= 41 && i < 50) {\n",
    "        type <- append(type, \"HFmrEF\")\n",
    "    }\n",
    "    if (i < 41) {\n",
    "        type <- append(type, \"HFrEF\")\n",
    "    }\n",
    "}\n",
    "LVEF_type <- cbind(lvef_avg, type)"
   ]
  },
  {
   "cell_type": "code",
   "execution_count": 22,
   "metadata": {
    "vscode": {
     "languageId": "r"
    }
   },
   "outputs": [
    {
     "data": {
      "text/html": [
       "<table class=\"dataframe\">\n",
       "<caption>A data.frame: 222 × 13</caption>\n",
       "<thead>\n",
       "\t<tr><th scope=col>SUBJECT_ID</th><th scope=col>GENDER</th><th scope=col>AGE_FIRST</th><th scope=col>AGE_LAST</th><th scope=col>ETHNICITY</th><th scope=col>DECEASED</th><th scope=col>AVG_LOS</th><th scope=col>DM2</th><th scope=col>CAD</th><th scope=col>CKD</th><th scope=col>HYPERTENSION</th><th scope=col>lvef</th><th scope=col>type</th></tr>\n",
       "\t<tr><th scope=col>&lt;int&gt;</th><th scope=col>&lt;chr&gt;</th><th scope=col>&lt;dbl&gt;</th><th scope=col>&lt;dbl&gt;</th><th scope=col>&lt;chr&gt;</th><th scope=col>&lt;int&gt;</th><th scope=col>&lt;dbl&gt;</th><th scope=col>&lt;int&gt;</th><th scope=col>&lt;int&gt;</th><th scope=col>&lt;int&gt;</th><th scope=col>&lt;int&gt;</th><th scope=col>&lt;dbl&gt;</th><th scope=col>&lt;chr&gt;</th></tr>\n",
       "</thead>\n",
       "<tbody>\n",
       "\t<tr><td>  165</td><td>M</td><td> 86.5397</td><td> 86.5397</td><td>BLACK/AFRICAN AMERICAN</td><td>0</td><td> 2.0000</td><td>0</td><td>0</td><td>0</td><td>0</td><td>35.0</td><td>HFrEF </td></tr>\n",
       "\t<tr><td>  176</td><td>M</td><td> 78.9123</td><td> 78.9123</td><td>WHITE                 </td><td>0</td><td> 2.0000</td><td>0</td><td>0</td><td>0</td><td>0</td><td>50.0</td><td>HFpEF </td></tr>\n",
       "\t<tr><td>  422</td><td>M</td><td> 57.6849</td><td> 57.6849</td><td>WHITE                 </td><td>0</td><td>15.0000</td><td>0</td><td>0</td><td>0</td><td>0</td><td>70.0</td><td>HFpEF </td></tr>\n",
       "\t<tr><td>  679</td><td>F</td><td> 82.0110</td><td> 85.4082</td><td>WHITE                 </td><td>1</td><td> 6.0000</td><td>0</td><td>0</td><td>0</td><td>0</td><td>70.0</td><td>HFpEF </td></tr>\n",
       "\t<tr><td> 1036</td><td>F</td><td> 79.0630</td><td> 79.0630</td><td>HISPANIC OR LATINO    </td><td>0</td><td>25.0000</td><td>1</td><td>0</td><td>0</td><td>0</td><td>40.0</td><td>HFrEF </td></tr>\n",
       "\t<tr><td> 1283</td><td>M</td><td> 59.5288</td><td> 69.2192</td><td>WHITE                 </td><td>0</td><td> 7.7500</td><td>1</td><td>0</td><td>0</td><td>0</td><td>45.0</td><td>HFmrEF</td></tr>\n",
       "\t<tr><td> 1354</td><td>M</td><td> 50.4000</td><td> 56.9014</td><td>WHITE                 </td><td>0</td><td> 5.0000</td><td>0</td><td>0</td><td>0</td><td>0</td><td>15.0</td><td>HFrEF </td></tr>\n",
       "\t<tr><td> 1709</td><td>F</td><td> 51.7425</td><td> 57.5041</td><td>WHITE                 </td><td>0</td><td> 8.9091</td><td>0</td><td>0</td><td>1</td><td>0</td><td>40.0</td><td>HFrEF </td></tr>\n",
       "\t<tr><td> 1715</td><td>F</td><td> 86.7863</td><td> 86.7863</td><td>WHITE                 </td><td>0</td><td> 4.0000</td><td>1</td><td>0</td><td>0</td><td>0</td><td>50.0</td><td>HFpEF </td></tr>\n",
       "\t<tr><td> 1825</td><td>M</td><td> 65.5151</td><td> 65.5151</td><td>UNKNOWN/NOT SPECIFIED </td><td>0</td><td>15.0000</td><td>1</td><td>0</td><td>0</td><td>0</td><td>70.0</td><td>HFpEF </td></tr>\n",
       "\t<tr><td> 3214</td><td>F</td><td> 60.3534</td><td> 60.4055</td><td>WHITE                 </td><td>0</td><td> 9.0000</td><td>0</td><td>1</td><td>0</td><td>0</td><td>50.0</td><td>HFpEF </td></tr>\n",
       "\t<tr><td> 3252</td><td>F</td><td> 67.5534</td><td> 67.5534</td><td>WHITE                 </td><td>0</td><td> 2.0000</td><td>1</td><td>0</td><td>0</td><td>0</td><td>50.0</td><td>HFpEF </td></tr>\n",
       "\t<tr><td> 4326</td><td>F</td><td> 79.6438</td><td> 79.6438</td><td>WHITE                 </td><td>0</td><td>16.0000</td><td>1</td><td>0</td><td>0</td><td>0</td><td>50.0</td><td>HFpEF </td></tr>\n",
       "\t<tr><td> 4453</td><td>F</td><td> 75.1425</td><td> 75.1425</td><td>WHITE                 </td><td>0</td><td>27.0000</td><td>0</td><td>0</td><td>0</td><td>0</td><td>50.0</td><td>HFpEF </td></tr>\n",
       "\t<tr><td> 4784</td><td>M</td><td> 59.6795</td><td> 66.0110</td><td>WHITE                 </td><td>0</td><td>12.5000</td><td>0</td><td>0</td><td>0</td><td>0</td><td>30.0</td><td>HFrEF </td></tr>\n",
       "\t<tr><td> 5679</td><td>M</td><td> 72.0767</td><td> 77.7945</td><td>WHITE                 </td><td>0</td><td> 5.5000</td><td>1</td><td>0</td><td>0</td><td>0</td><td>70.0</td><td>HFpEF </td></tr>\n",
       "\t<tr><td> 6697</td><td>F</td><td>300.2000</td><td>310.3781</td><td>WHITE                 </td><td>1</td><td> 5.0000</td><td>1</td><td>0</td><td>0</td><td>0</td><td>25.0</td><td>HFrEF </td></tr>\n",
       "\t<tr><td> 7326</td><td>F</td><td> 63.1096</td><td> 63.5973</td><td>BLACK/AFRICAN AMERICAN</td><td>0</td><td>17.0000</td><td>0</td><td>0</td><td>0</td><td>0</td><td>35.0</td><td>HFrEF </td></tr>\n",
       "\t<tr><td> 7695</td><td>M</td><td> 60.0137</td><td> 64.7507</td><td>BLACK/AFRICAN AMERICAN</td><td>1</td><td> 8.2857</td><td>1</td><td>0</td><td>0</td><td>0</td><td>22.5</td><td>HFrEF </td></tr>\n",
       "\t<tr><td> 8426</td><td>M</td><td> 71.3178</td><td> 79.0575</td><td>WHITE                 </td><td>1</td><td> 8.3333</td><td>1</td><td>0</td><td>0</td><td>0</td><td>45.0</td><td>HFmrEF</td></tr>\n",
       "\t<tr><td> 8668</td><td>F</td><td> 72.9616</td><td> 81.1041</td><td>WHITE                 </td><td>0</td><td>10.5000</td><td>0</td><td>0</td><td>0</td><td>0</td><td>70.0</td><td>HFpEF </td></tr>\n",
       "\t<tr><td> 8868</td><td>M</td><td> 70.1233</td><td> 70.1233</td><td>UNKNOWN/NOT SPECIFIED </td><td>0</td><td>74.0000</td><td>1</td><td>0</td><td>0</td><td>0</td><td>50.0</td><td>HFpEF </td></tr>\n",
       "\t<tr><td> 9248</td><td>M</td><td> 80.0932</td><td> 82.3644</td><td>WHITE                 </td><td>0</td><td>10.0000</td><td>0</td><td>0</td><td>0</td><td>0</td><td>50.0</td><td>HFpEF </td></tr>\n",
       "\t<tr><td> 9311</td><td>M</td><td> 72.8822</td><td> 77.1205</td><td>WHITE                 </td><td>0</td><td>12.0000</td><td>1</td><td>1</td><td>0</td><td>0</td><td>25.0</td><td>HFrEF </td></tr>\n",
       "\t<tr><td> 9498</td><td>M</td><td> 81.6082</td><td> 85.2082</td><td>BLACK/AFRICAN AMERICAN</td><td>0</td><td>18.3333</td><td>0</td><td>0</td><td>0</td><td>0</td><td>30.0</td><td>HFrEF </td></tr>\n",
       "\t<tr><td> 9867</td><td>F</td><td> 81.6055</td><td> 81.6055</td><td>UNABLE TO OBTAIN      </td><td>0</td><td>20.0000</td><td>0</td><td>0</td><td>0</td><td>0</td><td>70.0</td><td>HFpEF </td></tr>\n",
       "\t<tr><td>10774</td><td>M</td><td> 65.2822</td><td> 73.1397</td><td>WHITE                 </td><td>1</td><td> 8.6667</td><td>0</td><td>0</td><td>0</td><td>0</td><td>20.0</td><td>HFrEF </td></tr>\n",
       "\t<tr><td>10852</td><td>F</td><td> 56.0740</td><td> 62.1534</td><td>BLACK/AFRICAN AMERICAN</td><td>0</td><td> 3.0000</td><td>1</td><td>1</td><td>0</td><td>0</td><td>50.0</td><td>HFpEF </td></tr>\n",
       "\t<tr><td>11442</td><td>M</td><td>300.2000</td><td>309.0466</td><td>WHITE                 </td><td>0</td><td> 9.0000</td><td>1</td><td>0</td><td>0</td><td>0</td><td>15.0</td><td>HFrEF </td></tr>\n",
       "\t<tr><td>11606</td><td>F</td><td> 80.5342</td><td> 80.5342</td><td>WHITE                 </td><td>0</td><td>10.0000</td><td>0</td><td>0</td><td>0</td><td>0</td><td>55.0</td><td>HFpEF </td></tr>\n",
       "\t<tr><td>⋮</td><td>⋮</td><td>⋮</td><td>⋮</td><td>⋮</td><td>⋮</td><td>⋮</td><td>⋮</td><td>⋮</td><td>⋮</td><td>⋮</td><td>⋮</td><td>⋮</td></tr>\n",
       "\t<tr><td>88804</td><td>M</td><td> 75.9589</td><td> 75.9589</td><td>WHITE                 </td><td>0</td><td> 8.0000</td><td>0</td><td>0</td><td>0</td><td>0</td><td>45.00</td><td>HFmrEF</td></tr>\n",
       "\t<tr><td>90142</td><td>F</td><td> 60.9589</td><td> 60.9589</td><td>WHITE                 </td><td>0</td><td>32.0000</td><td>1</td><td>0</td><td>0</td><td>0</td><td>35.00</td><td>HFrEF </td></tr>\n",
       "\t<tr><td>90418</td><td>M</td><td> 38.4959</td><td> 38.5726</td><td>WHITE                 </td><td>0</td><td>12.5000</td><td>0</td><td>0</td><td>0</td><td>0</td><td>17.50</td><td>HFrEF </td></tr>\n",
       "\t<tr><td>90546</td><td>F</td><td> 63.8082</td><td> 64.4000</td><td>BLACK/AFRICAN AMERICAN</td><td>0</td><td> 5.5000</td><td>0</td><td>0</td><td>0</td><td>0</td><td>10.00</td><td>HFrEF </td></tr>\n",
       "\t<tr><td>90755</td><td>F</td><td> 70.1781</td><td> 71.9973</td><td>WHITE                 </td><td>0</td><td> 5.5000</td><td>1</td><td>1</td><td>0</td><td>0</td><td>50.00</td><td>HFpEF </td></tr>\n",
       "\t<tr><td>91090</td><td>M</td><td> 75.4630</td><td> 78.4959</td><td>WHITE                 </td><td>1</td><td>11.3333</td><td>1</td><td>0</td><td>0</td><td>0</td><td>20.00</td><td>HFrEF </td></tr>\n",
       "\t<tr><td>91343</td><td>M</td><td> 85.8164</td><td> 85.8164</td><td>WHITE                 </td><td>1</td><td>16.0000</td><td>0</td><td>0</td><td>0</td><td>0</td><td>30.00</td><td>HFrEF </td></tr>\n",
       "\t<tr><td>91613</td><td>M</td><td> 88.0137</td><td> 88.0137</td><td>WHITE                 </td><td>0</td><td> 7.0000</td><td>0</td><td>0</td><td>0</td><td>0</td><td>20.00</td><td>HFrEF </td></tr>\n",
       "\t<tr><td>92277</td><td>F</td><td> 68.9781</td><td> 69.1288</td><td>WHITE                 </td><td>0</td><td> 7.5000</td><td>0</td><td>0</td><td>0</td><td>0</td><td>35.00</td><td>HFrEF </td></tr>\n",
       "\t<tr><td>92295</td><td>M</td><td>300.2000</td><td>300.2000</td><td>WHITE                 </td><td>0</td><td> 3.0000</td><td>1</td><td>0</td><td>0</td><td>0</td><td>20.00</td><td>HFrEF </td></tr>\n",
       "\t<tr><td>92651</td><td>F</td><td> 75.0904</td><td> 75.1644</td><td>WHITE                 </td><td>0</td><td> 7.5000</td><td>1</td><td>1</td><td>0</td><td>0</td><td>40.00</td><td>HFrEF </td></tr>\n",
       "\t<tr><td>92841</td><td>F</td><td> 82.1452</td><td> 82.1452</td><td>WHITE                 </td><td>0</td><td>11.0000</td><td>0</td><td>0</td><td>0</td><td>0</td><td>50.00</td><td>HFpEF </td></tr>\n",
       "\t<tr><td>93887</td><td>F</td><td> 20.8027</td><td> 20.8027</td><td>HISPANIC OR LATINO    </td><td>0</td><td> 5.0000</td><td>0</td><td>0</td><td>0</td><td>0</td><td>55.00</td><td>HFpEF </td></tr>\n",
       "\t<tr><td>93900</td><td>M</td><td> 82.2164</td><td> 82.7425</td><td>WHITE                 </td><td>1</td><td> 6.2500</td><td>1</td><td>0</td><td>0</td><td>0</td><td>70.00</td><td>HFpEF </td></tr>\n",
       "\t<tr><td>94007</td><td>M</td><td> 77.4493</td><td> 77.4493</td><td>WHITE                 </td><td>0</td><td> 9.0000</td><td>0</td><td>0</td><td>0</td><td>0</td><td>25.00</td><td>HFrEF </td></tr>\n",
       "\t<tr><td>94202</td><td>F</td><td> 63.2795</td><td> 63.2795</td><td>UNABLE TO OBTAIN      </td><td>0</td><td>32.0000</td><td>0</td><td>0</td><td>0</td><td>0</td><td>20.00</td><td>HFrEF </td></tr>\n",
       "\t<tr><td>94297</td><td>F</td><td> 69.3863</td><td> 69.5589</td><td>WHITE                 </td><td>0</td><td>19.5000</td><td>0</td><td>0</td><td>0</td><td>0</td><td>22.50</td><td>HFrEF </td></tr>\n",
       "\t<tr><td>94794</td><td>M</td><td> 53.5425</td><td> 53.5425</td><td>WHITE                 </td><td>0</td><td> 7.0000</td><td>1</td><td>0</td><td>0</td><td>0</td><td>35.00</td><td>HFrEF </td></tr>\n",
       "\t<tr><td>95325</td><td>M</td><td> 71.2384</td><td> 71.2384</td><td>WHITE                 </td><td>0</td><td>10.0000</td><td>0</td><td>0</td><td>0</td><td>0</td><td>32.50</td><td>HFrEF </td></tr>\n",
       "\t<tr><td>95770</td><td>F</td><td> 76.5726</td><td> 76.5726</td><td>WHITE                 </td><td>0</td><td> 5.0000</td><td>1</td><td>0</td><td>0</td><td>0</td><td>15.00</td><td>HFrEF </td></tr>\n",
       "\t<tr><td>97672</td><td>M</td><td> 35.0986</td><td> 35.0986</td><td>UNKNOWN/NOT SPECIFIED </td><td>0</td><td> 6.0000</td><td>0</td><td>0</td><td>0</td><td>0</td><td>50.00</td><td>HFpEF </td></tr>\n",
       "\t<tr><td>98050</td><td>F</td><td> 78.1288</td><td> 78.7699</td><td>WHITE                 </td><td>0</td><td> 4.5000</td><td>1</td><td>0</td><td>0</td><td>0</td><td>50.00</td><td>HFpEF </td></tr>\n",
       "\t<tr><td>98336</td><td>F</td><td> 59.8767</td><td> 60.0438</td><td>WHITE                 </td><td>1</td><td> 5.3333</td><td>1</td><td>0</td><td>0</td><td>0</td><td>20.00</td><td>HFrEF </td></tr>\n",
       "\t<tr><td>98434</td><td>M</td><td> 78.4192</td><td> 78.4192</td><td>WHITE                 </td><td>0</td><td> 9.0000</td><td>0</td><td>0</td><td>0</td><td>0</td><td>20.00</td><td>HFrEF </td></tr>\n",
       "\t<tr><td>99067</td><td>M</td><td> 78.8658</td><td> 78.8658</td><td>WHITE                 </td><td>1</td><td>15.0000</td><td>0</td><td>0</td><td>0</td><td>0</td><td>37.50</td><td>HFrEF </td></tr>\n",
       "\t<tr><td>99102</td><td>M</td><td> 84.7260</td><td> 84.9562</td><td>WHITE                 </td><td>0</td><td> 6.5000</td><td>0</td><td>0</td><td>0</td><td>0</td><td>50.00</td><td>HFpEF </td></tr>\n",
       "\t<tr><td>99439</td><td>M</td><td> 84.1425</td><td> 84.8986</td><td>BLACK/AFRICAN AMERICAN</td><td>0</td><td> 3.8000</td><td>1</td><td>0</td><td>0</td><td>0</td><td>50.00</td><td>HFpEF </td></tr>\n",
       "\t<tr><td>99562</td><td>M</td><td> 62.1370</td><td> 62.2247</td><td>WHITE                 </td><td>0</td><td>15.5000</td><td>1</td><td>0</td><td>0</td><td>0</td><td>20.00</td><td>HFrEF </td></tr>\n",
       "\t<tr><td>99938</td><td>M</td><td> 80.8904</td><td> 80.8904</td><td>WHITE                 </td><td>0</td><td>18.0000</td><td>1</td><td>0</td><td>0</td><td>0</td><td>30.00</td><td>HFrEF </td></tr>\n",
       "\t<tr><td>99982</td><td>M</td><td> 65.2000</td><td> 65.4192</td><td>WHITE                 </td><td>0</td><td> 7.6667</td><td>0</td><td>0</td><td>0</td><td>0</td><td>18.75</td><td>HFrEF </td></tr>\n",
       "</tbody>\n",
       "</table>\n"
      ],
      "text/latex": [
       "A data.frame: 222 × 13\n",
       "\\begin{tabular}{lllllllllllll}\n",
       " SUBJECT\\_ID & GENDER & AGE\\_FIRST & AGE\\_LAST & ETHNICITY & DECEASED & AVG\\_LOS & DM2 & CAD & CKD & HYPERTENSION & lvef & type\\\\\n",
       " <int> & <chr> & <dbl> & <dbl> & <chr> & <int> & <dbl> & <int> & <int> & <int> & <int> & <dbl> & <chr>\\\\\n",
       "\\hline\n",
       "\t   165 & M &  86.5397 &  86.5397 & BLACK/AFRICAN AMERICAN & 0 &  2.0000 & 0 & 0 & 0 & 0 & 35.0 & HFrEF \\\\\n",
       "\t   176 & M &  78.9123 &  78.9123 & WHITE                  & 0 &  2.0000 & 0 & 0 & 0 & 0 & 50.0 & HFpEF \\\\\n",
       "\t   422 & M &  57.6849 &  57.6849 & WHITE                  & 0 & 15.0000 & 0 & 0 & 0 & 0 & 70.0 & HFpEF \\\\\n",
       "\t   679 & F &  82.0110 &  85.4082 & WHITE                  & 1 &  6.0000 & 0 & 0 & 0 & 0 & 70.0 & HFpEF \\\\\n",
       "\t  1036 & F &  79.0630 &  79.0630 & HISPANIC OR LATINO     & 0 & 25.0000 & 1 & 0 & 0 & 0 & 40.0 & HFrEF \\\\\n",
       "\t  1283 & M &  59.5288 &  69.2192 & WHITE                  & 0 &  7.7500 & 1 & 0 & 0 & 0 & 45.0 & HFmrEF\\\\\n",
       "\t  1354 & M &  50.4000 &  56.9014 & WHITE                  & 0 &  5.0000 & 0 & 0 & 0 & 0 & 15.0 & HFrEF \\\\\n",
       "\t  1709 & F &  51.7425 &  57.5041 & WHITE                  & 0 &  8.9091 & 0 & 0 & 1 & 0 & 40.0 & HFrEF \\\\\n",
       "\t  1715 & F &  86.7863 &  86.7863 & WHITE                  & 0 &  4.0000 & 1 & 0 & 0 & 0 & 50.0 & HFpEF \\\\\n",
       "\t  1825 & M &  65.5151 &  65.5151 & UNKNOWN/NOT SPECIFIED  & 0 & 15.0000 & 1 & 0 & 0 & 0 & 70.0 & HFpEF \\\\\n",
       "\t  3214 & F &  60.3534 &  60.4055 & WHITE                  & 0 &  9.0000 & 0 & 1 & 0 & 0 & 50.0 & HFpEF \\\\\n",
       "\t  3252 & F &  67.5534 &  67.5534 & WHITE                  & 0 &  2.0000 & 1 & 0 & 0 & 0 & 50.0 & HFpEF \\\\\n",
       "\t  4326 & F &  79.6438 &  79.6438 & WHITE                  & 0 & 16.0000 & 1 & 0 & 0 & 0 & 50.0 & HFpEF \\\\\n",
       "\t  4453 & F &  75.1425 &  75.1425 & WHITE                  & 0 & 27.0000 & 0 & 0 & 0 & 0 & 50.0 & HFpEF \\\\\n",
       "\t  4784 & M &  59.6795 &  66.0110 & WHITE                  & 0 & 12.5000 & 0 & 0 & 0 & 0 & 30.0 & HFrEF \\\\\n",
       "\t  5679 & M &  72.0767 &  77.7945 & WHITE                  & 0 &  5.5000 & 1 & 0 & 0 & 0 & 70.0 & HFpEF \\\\\n",
       "\t  6697 & F & 300.2000 & 310.3781 & WHITE                  & 1 &  5.0000 & 1 & 0 & 0 & 0 & 25.0 & HFrEF \\\\\n",
       "\t  7326 & F &  63.1096 &  63.5973 & BLACK/AFRICAN AMERICAN & 0 & 17.0000 & 0 & 0 & 0 & 0 & 35.0 & HFrEF \\\\\n",
       "\t  7695 & M &  60.0137 &  64.7507 & BLACK/AFRICAN AMERICAN & 1 &  8.2857 & 1 & 0 & 0 & 0 & 22.5 & HFrEF \\\\\n",
       "\t  8426 & M &  71.3178 &  79.0575 & WHITE                  & 1 &  8.3333 & 1 & 0 & 0 & 0 & 45.0 & HFmrEF\\\\\n",
       "\t  8668 & F &  72.9616 &  81.1041 & WHITE                  & 0 & 10.5000 & 0 & 0 & 0 & 0 & 70.0 & HFpEF \\\\\n",
       "\t  8868 & M &  70.1233 &  70.1233 & UNKNOWN/NOT SPECIFIED  & 0 & 74.0000 & 1 & 0 & 0 & 0 & 50.0 & HFpEF \\\\\n",
       "\t  9248 & M &  80.0932 &  82.3644 & WHITE                  & 0 & 10.0000 & 0 & 0 & 0 & 0 & 50.0 & HFpEF \\\\\n",
       "\t  9311 & M &  72.8822 &  77.1205 & WHITE                  & 0 & 12.0000 & 1 & 1 & 0 & 0 & 25.0 & HFrEF \\\\\n",
       "\t  9498 & M &  81.6082 &  85.2082 & BLACK/AFRICAN AMERICAN & 0 & 18.3333 & 0 & 0 & 0 & 0 & 30.0 & HFrEF \\\\\n",
       "\t  9867 & F &  81.6055 &  81.6055 & UNABLE TO OBTAIN       & 0 & 20.0000 & 0 & 0 & 0 & 0 & 70.0 & HFpEF \\\\\n",
       "\t 10774 & M &  65.2822 &  73.1397 & WHITE                  & 1 &  8.6667 & 0 & 0 & 0 & 0 & 20.0 & HFrEF \\\\\n",
       "\t 10852 & F &  56.0740 &  62.1534 & BLACK/AFRICAN AMERICAN & 0 &  3.0000 & 1 & 1 & 0 & 0 & 50.0 & HFpEF \\\\\n",
       "\t 11442 & M & 300.2000 & 309.0466 & WHITE                  & 0 &  9.0000 & 1 & 0 & 0 & 0 & 15.0 & HFrEF \\\\\n",
       "\t 11606 & F &  80.5342 &  80.5342 & WHITE                  & 0 & 10.0000 & 0 & 0 & 0 & 0 & 55.0 & HFpEF \\\\\n",
       "\t ⋮ & ⋮ & ⋮ & ⋮ & ⋮ & ⋮ & ⋮ & ⋮ & ⋮ & ⋮ & ⋮ & ⋮ & ⋮\\\\\n",
       "\t 88804 & M &  75.9589 &  75.9589 & WHITE                  & 0 &  8.0000 & 0 & 0 & 0 & 0 & 45.00 & HFmrEF\\\\\n",
       "\t 90142 & F &  60.9589 &  60.9589 & WHITE                  & 0 & 32.0000 & 1 & 0 & 0 & 0 & 35.00 & HFrEF \\\\\n",
       "\t 90418 & M &  38.4959 &  38.5726 & WHITE                  & 0 & 12.5000 & 0 & 0 & 0 & 0 & 17.50 & HFrEF \\\\\n",
       "\t 90546 & F &  63.8082 &  64.4000 & BLACK/AFRICAN AMERICAN & 0 &  5.5000 & 0 & 0 & 0 & 0 & 10.00 & HFrEF \\\\\n",
       "\t 90755 & F &  70.1781 &  71.9973 & WHITE                  & 0 &  5.5000 & 1 & 1 & 0 & 0 & 50.00 & HFpEF \\\\\n",
       "\t 91090 & M &  75.4630 &  78.4959 & WHITE                  & 1 & 11.3333 & 1 & 0 & 0 & 0 & 20.00 & HFrEF \\\\\n",
       "\t 91343 & M &  85.8164 &  85.8164 & WHITE                  & 1 & 16.0000 & 0 & 0 & 0 & 0 & 30.00 & HFrEF \\\\\n",
       "\t 91613 & M &  88.0137 &  88.0137 & WHITE                  & 0 &  7.0000 & 0 & 0 & 0 & 0 & 20.00 & HFrEF \\\\\n",
       "\t 92277 & F &  68.9781 &  69.1288 & WHITE                  & 0 &  7.5000 & 0 & 0 & 0 & 0 & 35.00 & HFrEF \\\\\n",
       "\t 92295 & M & 300.2000 & 300.2000 & WHITE                  & 0 &  3.0000 & 1 & 0 & 0 & 0 & 20.00 & HFrEF \\\\\n",
       "\t 92651 & F &  75.0904 &  75.1644 & WHITE                  & 0 &  7.5000 & 1 & 1 & 0 & 0 & 40.00 & HFrEF \\\\\n",
       "\t 92841 & F &  82.1452 &  82.1452 & WHITE                  & 0 & 11.0000 & 0 & 0 & 0 & 0 & 50.00 & HFpEF \\\\\n",
       "\t 93887 & F &  20.8027 &  20.8027 & HISPANIC OR LATINO     & 0 &  5.0000 & 0 & 0 & 0 & 0 & 55.00 & HFpEF \\\\\n",
       "\t 93900 & M &  82.2164 &  82.7425 & WHITE                  & 1 &  6.2500 & 1 & 0 & 0 & 0 & 70.00 & HFpEF \\\\\n",
       "\t 94007 & M &  77.4493 &  77.4493 & WHITE                  & 0 &  9.0000 & 0 & 0 & 0 & 0 & 25.00 & HFrEF \\\\\n",
       "\t 94202 & F &  63.2795 &  63.2795 & UNABLE TO OBTAIN       & 0 & 32.0000 & 0 & 0 & 0 & 0 & 20.00 & HFrEF \\\\\n",
       "\t 94297 & F &  69.3863 &  69.5589 & WHITE                  & 0 & 19.5000 & 0 & 0 & 0 & 0 & 22.50 & HFrEF \\\\\n",
       "\t 94794 & M &  53.5425 &  53.5425 & WHITE                  & 0 &  7.0000 & 1 & 0 & 0 & 0 & 35.00 & HFrEF \\\\\n",
       "\t 95325 & M &  71.2384 &  71.2384 & WHITE                  & 0 & 10.0000 & 0 & 0 & 0 & 0 & 32.50 & HFrEF \\\\\n",
       "\t 95770 & F &  76.5726 &  76.5726 & WHITE                  & 0 &  5.0000 & 1 & 0 & 0 & 0 & 15.00 & HFrEF \\\\\n",
       "\t 97672 & M &  35.0986 &  35.0986 & UNKNOWN/NOT SPECIFIED  & 0 &  6.0000 & 0 & 0 & 0 & 0 & 50.00 & HFpEF \\\\\n",
       "\t 98050 & F &  78.1288 &  78.7699 & WHITE                  & 0 &  4.5000 & 1 & 0 & 0 & 0 & 50.00 & HFpEF \\\\\n",
       "\t 98336 & F &  59.8767 &  60.0438 & WHITE                  & 1 &  5.3333 & 1 & 0 & 0 & 0 & 20.00 & HFrEF \\\\\n",
       "\t 98434 & M &  78.4192 &  78.4192 & WHITE                  & 0 &  9.0000 & 0 & 0 & 0 & 0 & 20.00 & HFrEF \\\\\n",
       "\t 99067 & M &  78.8658 &  78.8658 & WHITE                  & 1 & 15.0000 & 0 & 0 & 0 & 0 & 37.50 & HFrEF \\\\\n",
       "\t 99102 & M &  84.7260 &  84.9562 & WHITE                  & 0 &  6.5000 & 0 & 0 & 0 & 0 & 50.00 & HFpEF \\\\\n",
       "\t 99439 & M &  84.1425 &  84.8986 & BLACK/AFRICAN AMERICAN & 0 &  3.8000 & 1 & 0 & 0 & 0 & 50.00 & HFpEF \\\\\n",
       "\t 99562 & M &  62.1370 &  62.2247 & WHITE                  & 0 & 15.5000 & 1 & 0 & 0 & 0 & 20.00 & HFrEF \\\\\n",
       "\t 99938 & M &  80.8904 &  80.8904 & WHITE                  & 0 & 18.0000 & 1 & 0 & 0 & 0 & 30.00 & HFrEF \\\\\n",
       "\t 99982 & M &  65.2000 &  65.4192 & WHITE                  & 0 &  7.6667 & 0 & 0 & 0 & 0 & 18.75 & HFrEF \\\\\n",
       "\\end{tabular}\n"
      ],
      "text/markdown": [
       "\n",
       "A data.frame: 222 × 13\n",
       "\n",
       "| SUBJECT_ID &lt;int&gt; | GENDER &lt;chr&gt; | AGE_FIRST &lt;dbl&gt; | AGE_LAST &lt;dbl&gt; | ETHNICITY &lt;chr&gt; | DECEASED &lt;int&gt; | AVG_LOS &lt;dbl&gt; | DM2 &lt;int&gt; | CAD &lt;int&gt; | CKD &lt;int&gt; | HYPERTENSION &lt;int&gt; | lvef &lt;dbl&gt; | type &lt;chr&gt; |\n",
       "|---|---|---|---|---|---|---|---|---|---|---|---|---|\n",
       "|   165 | M |  86.5397 |  86.5397 | BLACK/AFRICAN AMERICAN | 0 |  2.0000 | 0 | 0 | 0 | 0 | 35.0 | HFrEF  |\n",
       "|   176 | M |  78.9123 |  78.9123 | WHITE                  | 0 |  2.0000 | 0 | 0 | 0 | 0 | 50.0 | HFpEF  |\n",
       "|   422 | M |  57.6849 |  57.6849 | WHITE                  | 0 | 15.0000 | 0 | 0 | 0 | 0 | 70.0 | HFpEF  |\n",
       "|   679 | F |  82.0110 |  85.4082 | WHITE                  | 1 |  6.0000 | 0 | 0 | 0 | 0 | 70.0 | HFpEF  |\n",
       "|  1036 | F |  79.0630 |  79.0630 | HISPANIC OR LATINO     | 0 | 25.0000 | 1 | 0 | 0 | 0 | 40.0 | HFrEF  |\n",
       "|  1283 | M |  59.5288 |  69.2192 | WHITE                  | 0 |  7.7500 | 1 | 0 | 0 | 0 | 45.0 | HFmrEF |\n",
       "|  1354 | M |  50.4000 |  56.9014 | WHITE                  | 0 |  5.0000 | 0 | 0 | 0 | 0 | 15.0 | HFrEF  |\n",
       "|  1709 | F |  51.7425 |  57.5041 | WHITE                  | 0 |  8.9091 | 0 | 0 | 1 | 0 | 40.0 | HFrEF  |\n",
       "|  1715 | F |  86.7863 |  86.7863 | WHITE                  | 0 |  4.0000 | 1 | 0 | 0 | 0 | 50.0 | HFpEF  |\n",
       "|  1825 | M |  65.5151 |  65.5151 | UNKNOWN/NOT SPECIFIED  | 0 | 15.0000 | 1 | 0 | 0 | 0 | 70.0 | HFpEF  |\n",
       "|  3214 | F |  60.3534 |  60.4055 | WHITE                  | 0 |  9.0000 | 0 | 1 | 0 | 0 | 50.0 | HFpEF  |\n",
       "|  3252 | F |  67.5534 |  67.5534 | WHITE                  | 0 |  2.0000 | 1 | 0 | 0 | 0 | 50.0 | HFpEF  |\n",
       "|  4326 | F |  79.6438 |  79.6438 | WHITE                  | 0 | 16.0000 | 1 | 0 | 0 | 0 | 50.0 | HFpEF  |\n",
       "|  4453 | F |  75.1425 |  75.1425 | WHITE                  | 0 | 27.0000 | 0 | 0 | 0 | 0 | 50.0 | HFpEF  |\n",
       "|  4784 | M |  59.6795 |  66.0110 | WHITE                  | 0 | 12.5000 | 0 | 0 | 0 | 0 | 30.0 | HFrEF  |\n",
       "|  5679 | M |  72.0767 |  77.7945 | WHITE                  | 0 |  5.5000 | 1 | 0 | 0 | 0 | 70.0 | HFpEF  |\n",
       "|  6697 | F | 300.2000 | 310.3781 | WHITE                  | 1 |  5.0000 | 1 | 0 | 0 | 0 | 25.0 | HFrEF  |\n",
       "|  7326 | F |  63.1096 |  63.5973 | BLACK/AFRICAN AMERICAN | 0 | 17.0000 | 0 | 0 | 0 | 0 | 35.0 | HFrEF  |\n",
       "|  7695 | M |  60.0137 |  64.7507 | BLACK/AFRICAN AMERICAN | 1 |  8.2857 | 1 | 0 | 0 | 0 | 22.5 | HFrEF  |\n",
       "|  8426 | M |  71.3178 |  79.0575 | WHITE                  | 1 |  8.3333 | 1 | 0 | 0 | 0 | 45.0 | HFmrEF |\n",
       "|  8668 | F |  72.9616 |  81.1041 | WHITE                  | 0 | 10.5000 | 0 | 0 | 0 | 0 | 70.0 | HFpEF  |\n",
       "|  8868 | M |  70.1233 |  70.1233 | UNKNOWN/NOT SPECIFIED  | 0 | 74.0000 | 1 | 0 | 0 | 0 | 50.0 | HFpEF  |\n",
       "|  9248 | M |  80.0932 |  82.3644 | WHITE                  | 0 | 10.0000 | 0 | 0 | 0 | 0 | 50.0 | HFpEF  |\n",
       "|  9311 | M |  72.8822 |  77.1205 | WHITE                  | 0 | 12.0000 | 1 | 1 | 0 | 0 | 25.0 | HFrEF  |\n",
       "|  9498 | M |  81.6082 |  85.2082 | BLACK/AFRICAN AMERICAN | 0 | 18.3333 | 0 | 0 | 0 | 0 | 30.0 | HFrEF  |\n",
       "|  9867 | F |  81.6055 |  81.6055 | UNABLE TO OBTAIN       | 0 | 20.0000 | 0 | 0 | 0 | 0 | 70.0 | HFpEF  |\n",
       "| 10774 | M |  65.2822 |  73.1397 | WHITE                  | 1 |  8.6667 | 0 | 0 | 0 | 0 | 20.0 | HFrEF  |\n",
       "| 10852 | F |  56.0740 |  62.1534 | BLACK/AFRICAN AMERICAN | 0 |  3.0000 | 1 | 1 | 0 | 0 | 50.0 | HFpEF  |\n",
       "| 11442 | M | 300.2000 | 309.0466 | WHITE                  | 0 |  9.0000 | 1 | 0 | 0 | 0 | 15.0 | HFrEF  |\n",
       "| 11606 | F |  80.5342 |  80.5342 | WHITE                  | 0 | 10.0000 | 0 | 0 | 0 | 0 | 55.0 | HFpEF  |\n",
       "| ⋮ | ⋮ | ⋮ | ⋮ | ⋮ | ⋮ | ⋮ | ⋮ | ⋮ | ⋮ | ⋮ | ⋮ | ⋮ |\n",
       "| 88804 | M |  75.9589 |  75.9589 | WHITE                  | 0 |  8.0000 | 0 | 0 | 0 | 0 | 45.00 | HFmrEF |\n",
       "| 90142 | F |  60.9589 |  60.9589 | WHITE                  | 0 | 32.0000 | 1 | 0 | 0 | 0 | 35.00 | HFrEF  |\n",
       "| 90418 | M |  38.4959 |  38.5726 | WHITE                  | 0 | 12.5000 | 0 | 0 | 0 | 0 | 17.50 | HFrEF  |\n",
       "| 90546 | F |  63.8082 |  64.4000 | BLACK/AFRICAN AMERICAN | 0 |  5.5000 | 0 | 0 | 0 | 0 | 10.00 | HFrEF  |\n",
       "| 90755 | F |  70.1781 |  71.9973 | WHITE                  | 0 |  5.5000 | 1 | 1 | 0 | 0 | 50.00 | HFpEF  |\n",
       "| 91090 | M |  75.4630 |  78.4959 | WHITE                  | 1 | 11.3333 | 1 | 0 | 0 | 0 | 20.00 | HFrEF  |\n",
       "| 91343 | M |  85.8164 |  85.8164 | WHITE                  | 1 | 16.0000 | 0 | 0 | 0 | 0 | 30.00 | HFrEF  |\n",
       "| 91613 | M |  88.0137 |  88.0137 | WHITE                  | 0 |  7.0000 | 0 | 0 | 0 | 0 | 20.00 | HFrEF  |\n",
       "| 92277 | F |  68.9781 |  69.1288 | WHITE                  | 0 |  7.5000 | 0 | 0 | 0 | 0 | 35.00 | HFrEF  |\n",
       "| 92295 | M | 300.2000 | 300.2000 | WHITE                  | 0 |  3.0000 | 1 | 0 | 0 | 0 | 20.00 | HFrEF  |\n",
       "| 92651 | F |  75.0904 |  75.1644 | WHITE                  | 0 |  7.5000 | 1 | 1 | 0 | 0 | 40.00 | HFrEF  |\n",
       "| 92841 | F |  82.1452 |  82.1452 | WHITE                  | 0 | 11.0000 | 0 | 0 | 0 | 0 | 50.00 | HFpEF  |\n",
       "| 93887 | F |  20.8027 |  20.8027 | HISPANIC OR LATINO     | 0 |  5.0000 | 0 | 0 | 0 | 0 | 55.00 | HFpEF  |\n",
       "| 93900 | M |  82.2164 |  82.7425 | WHITE                  | 1 |  6.2500 | 1 | 0 | 0 | 0 | 70.00 | HFpEF  |\n",
       "| 94007 | M |  77.4493 |  77.4493 | WHITE                  | 0 |  9.0000 | 0 | 0 | 0 | 0 | 25.00 | HFrEF  |\n",
       "| 94202 | F |  63.2795 |  63.2795 | UNABLE TO OBTAIN       | 0 | 32.0000 | 0 | 0 | 0 | 0 | 20.00 | HFrEF  |\n",
       "| 94297 | F |  69.3863 |  69.5589 | WHITE                  | 0 | 19.5000 | 0 | 0 | 0 | 0 | 22.50 | HFrEF  |\n",
       "| 94794 | M |  53.5425 |  53.5425 | WHITE                  | 0 |  7.0000 | 1 | 0 | 0 | 0 | 35.00 | HFrEF  |\n",
       "| 95325 | M |  71.2384 |  71.2384 | WHITE                  | 0 | 10.0000 | 0 | 0 | 0 | 0 | 32.50 | HFrEF  |\n",
       "| 95770 | F |  76.5726 |  76.5726 | WHITE                  | 0 |  5.0000 | 1 | 0 | 0 | 0 | 15.00 | HFrEF  |\n",
       "| 97672 | M |  35.0986 |  35.0986 | UNKNOWN/NOT SPECIFIED  | 0 |  6.0000 | 0 | 0 | 0 | 0 | 50.00 | HFpEF  |\n",
       "| 98050 | F |  78.1288 |  78.7699 | WHITE                  | 0 |  4.5000 | 1 | 0 | 0 | 0 | 50.00 | HFpEF  |\n",
       "| 98336 | F |  59.8767 |  60.0438 | WHITE                  | 1 |  5.3333 | 1 | 0 | 0 | 0 | 20.00 | HFrEF  |\n",
       "| 98434 | M |  78.4192 |  78.4192 | WHITE                  | 0 |  9.0000 | 0 | 0 | 0 | 0 | 20.00 | HFrEF  |\n",
       "| 99067 | M |  78.8658 |  78.8658 | WHITE                  | 1 | 15.0000 | 0 | 0 | 0 | 0 | 37.50 | HFrEF  |\n",
       "| 99102 | M |  84.7260 |  84.9562 | WHITE                  | 0 |  6.5000 | 0 | 0 | 0 | 0 | 50.00 | HFpEF  |\n",
       "| 99439 | M |  84.1425 |  84.8986 | BLACK/AFRICAN AMERICAN | 0 |  3.8000 | 1 | 0 | 0 | 0 | 50.00 | HFpEF  |\n",
       "| 99562 | M |  62.1370 |  62.2247 | WHITE                  | 0 | 15.5000 | 1 | 0 | 0 | 0 | 20.00 | HFrEF  |\n",
       "| 99938 | M |  80.8904 |  80.8904 | WHITE                  | 0 | 18.0000 | 1 | 0 | 0 | 0 | 30.00 | HFrEF  |\n",
       "| 99982 | M |  65.2000 |  65.4192 | WHITE                  | 0 |  7.6667 | 0 | 0 | 0 | 0 | 18.75 | HFrEF  |\n",
       "\n"
      ],
      "text/plain": [
       "    SUBJECT_ID GENDER AGE_FIRST AGE_LAST ETHNICITY              DECEASED\n",
       "1     165      M       86.5397   86.5397 BLACK/AFRICAN AMERICAN 0       \n",
       "2     176      M       78.9123   78.9123 WHITE                  0       \n",
       "3     422      M       57.6849   57.6849 WHITE                  0       \n",
       "4     679      F       82.0110   85.4082 WHITE                  1       \n",
       "5    1036      F       79.0630   79.0630 HISPANIC OR LATINO     0       \n",
       "6    1283      M       59.5288   69.2192 WHITE                  0       \n",
       "7    1354      M       50.4000   56.9014 WHITE                  0       \n",
       "8    1709      F       51.7425   57.5041 WHITE                  0       \n",
       "9    1715      F       86.7863   86.7863 WHITE                  0       \n",
       "10   1825      M       65.5151   65.5151 UNKNOWN/NOT SPECIFIED  0       \n",
       "11   3214      F       60.3534   60.4055 WHITE                  0       \n",
       "12   3252      F       67.5534   67.5534 WHITE                  0       \n",
       "13   4326      F       79.6438   79.6438 WHITE                  0       \n",
       "14   4453      F       75.1425   75.1425 WHITE                  0       \n",
       "15   4784      M       59.6795   66.0110 WHITE                  0       \n",
       "16   5679      M       72.0767   77.7945 WHITE                  0       \n",
       "17   6697      F      300.2000  310.3781 WHITE                  1       \n",
       "18   7326      F       63.1096   63.5973 BLACK/AFRICAN AMERICAN 0       \n",
       "19   7695      M       60.0137   64.7507 BLACK/AFRICAN AMERICAN 1       \n",
       "20   8426      M       71.3178   79.0575 WHITE                  1       \n",
       "21   8668      F       72.9616   81.1041 WHITE                  0       \n",
       "22   8868      M       70.1233   70.1233 UNKNOWN/NOT SPECIFIED  0       \n",
       "23   9248      M       80.0932   82.3644 WHITE                  0       \n",
       "24   9311      M       72.8822   77.1205 WHITE                  0       \n",
       "25   9498      M       81.6082   85.2082 BLACK/AFRICAN AMERICAN 0       \n",
       "26   9867      F       81.6055   81.6055 UNABLE TO OBTAIN       0       \n",
       "27  10774      M       65.2822   73.1397 WHITE                  1       \n",
       "28  10852      F       56.0740   62.1534 BLACK/AFRICAN AMERICAN 0       \n",
       "29  11442      M      300.2000  309.0466 WHITE                  0       \n",
       "30  11606      F       80.5342   80.5342 WHITE                  0       \n",
       "⋮   ⋮          ⋮      ⋮         ⋮        ⋮                      ⋮       \n",
       "193 88804      M       75.9589   75.9589 WHITE                  0       \n",
       "194 90142      F       60.9589   60.9589 WHITE                  0       \n",
       "195 90418      M       38.4959   38.5726 WHITE                  0       \n",
       "196 90546      F       63.8082   64.4000 BLACK/AFRICAN AMERICAN 0       \n",
       "197 90755      F       70.1781   71.9973 WHITE                  0       \n",
       "198 91090      M       75.4630   78.4959 WHITE                  1       \n",
       "199 91343      M       85.8164   85.8164 WHITE                  1       \n",
       "200 91613      M       88.0137   88.0137 WHITE                  0       \n",
       "201 92277      F       68.9781   69.1288 WHITE                  0       \n",
       "202 92295      M      300.2000  300.2000 WHITE                  0       \n",
       "203 92651      F       75.0904   75.1644 WHITE                  0       \n",
       "204 92841      F       82.1452   82.1452 WHITE                  0       \n",
       "205 93887      F       20.8027   20.8027 HISPANIC OR LATINO     0       \n",
       "206 93900      M       82.2164   82.7425 WHITE                  1       \n",
       "207 94007      M       77.4493   77.4493 WHITE                  0       \n",
       "208 94202      F       63.2795   63.2795 UNABLE TO OBTAIN       0       \n",
       "209 94297      F       69.3863   69.5589 WHITE                  0       \n",
       "210 94794      M       53.5425   53.5425 WHITE                  0       \n",
       "211 95325      M       71.2384   71.2384 WHITE                  0       \n",
       "212 95770      F       76.5726   76.5726 WHITE                  0       \n",
       "213 97672      M       35.0986   35.0986 UNKNOWN/NOT SPECIFIED  0       \n",
       "214 98050      F       78.1288   78.7699 WHITE                  0       \n",
       "215 98336      F       59.8767   60.0438 WHITE                  1       \n",
       "216 98434      M       78.4192   78.4192 WHITE                  0       \n",
       "217 99067      M       78.8658   78.8658 WHITE                  1       \n",
       "218 99102      M       84.7260   84.9562 WHITE                  0       \n",
       "219 99439      M       84.1425   84.8986 BLACK/AFRICAN AMERICAN 0       \n",
       "220 99562      M       62.1370   62.2247 WHITE                  0       \n",
       "221 99938      M       80.8904   80.8904 WHITE                  0       \n",
       "222 99982      M       65.2000   65.4192 WHITE                  0       \n",
       "    AVG_LOS DM2 CAD CKD HYPERTENSION lvef  type  \n",
       "1    2.0000 0   0   0   0            35.0  HFrEF \n",
       "2    2.0000 0   0   0   0            50.0  HFpEF \n",
       "3   15.0000 0   0   0   0            70.0  HFpEF \n",
       "4    6.0000 0   0   0   0            70.0  HFpEF \n",
       "5   25.0000 1   0   0   0            40.0  HFrEF \n",
       "6    7.7500 1   0   0   0            45.0  HFmrEF\n",
       "7    5.0000 0   0   0   0            15.0  HFrEF \n",
       "8    8.9091 0   0   1   0            40.0  HFrEF \n",
       "9    4.0000 1   0   0   0            50.0  HFpEF \n",
       "10  15.0000 1   0   0   0            70.0  HFpEF \n",
       "11   9.0000 0   1   0   0            50.0  HFpEF \n",
       "12   2.0000 1   0   0   0            50.0  HFpEF \n",
       "13  16.0000 1   0   0   0            50.0  HFpEF \n",
       "14  27.0000 0   0   0   0            50.0  HFpEF \n",
       "15  12.5000 0   0   0   0            30.0  HFrEF \n",
       "16   5.5000 1   0   0   0            70.0  HFpEF \n",
       "17   5.0000 1   0   0   0            25.0  HFrEF \n",
       "18  17.0000 0   0   0   0            35.0  HFrEF \n",
       "19   8.2857 1   0   0   0            22.5  HFrEF \n",
       "20   8.3333 1   0   0   0            45.0  HFmrEF\n",
       "21  10.5000 0   0   0   0            70.0  HFpEF \n",
       "22  74.0000 1   0   0   0            50.0  HFpEF \n",
       "23  10.0000 0   0   0   0            50.0  HFpEF \n",
       "24  12.0000 1   1   0   0            25.0  HFrEF \n",
       "25  18.3333 0   0   0   0            30.0  HFrEF \n",
       "26  20.0000 0   0   0   0            70.0  HFpEF \n",
       "27   8.6667 0   0   0   0            20.0  HFrEF \n",
       "28   3.0000 1   1   0   0            50.0  HFpEF \n",
       "29   9.0000 1   0   0   0            15.0  HFrEF \n",
       "30  10.0000 0   0   0   0            55.0  HFpEF \n",
       "⋮   ⋮       ⋮   ⋮   ⋮   ⋮            ⋮     ⋮     \n",
       "193  8.0000 0   0   0   0            45.00 HFmrEF\n",
       "194 32.0000 1   0   0   0            35.00 HFrEF \n",
       "195 12.5000 0   0   0   0            17.50 HFrEF \n",
       "196  5.5000 0   0   0   0            10.00 HFrEF \n",
       "197  5.5000 1   1   0   0            50.00 HFpEF \n",
       "198 11.3333 1   0   0   0            20.00 HFrEF \n",
       "199 16.0000 0   0   0   0            30.00 HFrEF \n",
       "200  7.0000 0   0   0   0            20.00 HFrEF \n",
       "201  7.5000 0   0   0   0            35.00 HFrEF \n",
       "202  3.0000 1   0   0   0            20.00 HFrEF \n",
       "203  7.5000 1   1   0   0            40.00 HFrEF \n",
       "204 11.0000 0   0   0   0            50.00 HFpEF \n",
       "205  5.0000 0   0   0   0            55.00 HFpEF \n",
       "206  6.2500 1   0   0   0            70.00 HFpEF \n",
       "207  9.0000 0   0   0   0            25.00 HFrEF \n",
       "208 32.0000 0   0   0   0            20.00 HFrEF \n",
       "209 19.5000 0   0   0   0            22.50 HFrEF \n",
       "210  7.0000 1   0   0   0            35.00 HFrEF \n",
       "211 10.0000 0   0   0   0            32.50 HFrEF \n",
       "212  5.0000 1   0   0   0            15.00 HFrEF \n",
       "213  6.0000 0   0   0   0            50.00 HFpEF \n",
       "214  4.5000 1   0   0   0            50.00 HFpEF \n",
       "215  5.3333 1   0   0   0            20.00 HFrEF \n",
       "216  9.0000 0   0   0   0            20.00 HFrEF \n",
       "217 15.0000 0   0   0   0            37.50 HFrEF \n",
       "218  6.5000 0   0   0   0            50.00 HFpEF \n",
       "219  3.8000 1   0   0   0            50.00 HFpEF \n",
       "220 15.5000 1   0   0   0            20.00 HFrEF \n",
       "221 18.0000 1   0   0   0            30.00 HFrEF \n",
       "222  7.6667 0   0   0   0            18.75 HFrEF "
      ]
     },
     "metadata": {},
     "output_type": "display_data"
    }
   ],
   "source": [
    "cohort_LVEF <- merge(hf_cohort, LVEF_type, by = \"SUBJECT_ID\")\n",
    "\n",
    "cohort_LVEF"
   ]
  },
  {
   "cell_type": "markdown",
   "metadata": {},
   "source": [
    "### Heart Failure: LVEF distribution (1.25 points)"
   ]
  },
  {
   "cell_type": "markdown",
   "metadata": {},
   "source": [
    "The distribution of LVEF values offers a nice description of HF. In this exercise, you must provide a **histogram showing the distribution of those values** (you need to take care of outliers, if there are). Moreover, you need also to show this information **based on gender and by the presence of hypertension**.\n",
    "\n"
   ]
  },
  {
   "cell_type": "code",
   "execution_count": 23,
   "metadata": {
    "vscode": {
     "languageId": "r"
    }
   },
   "outputs": [],
   "source": [
    "cohort_clean <- cohort_LVEF[cohort_LVEF$lvef <= 100,]"
   ]
  },
  {
   "cell_type": "code",
   "execution_count": 24,
   "metadata": {
    "vscode": {
     "languageId": "r"
    }
   },
   "outputs": [
    {
     "name": "stderr",
     "output_type": "stream",
     "text": [
      "`stat_bin()` using `bins = 30`. Pick better value with `binwidth`.\n",
      "\n"
     ]
    },
    {
     "data": {
      "application/pdf": "[encoded data removed]",
      "image/jpeg": "[encoded data removed]",
      "image/png": "[encoded data removed]",
      "image/svg+xml": "<?xml version=\"1.0\" encoding=\"UTF-8\"?>\n<svg xmlns=\"http://www.w3.org/2000/svg\" xmlns:xlink=\"http://www.w3.org/1999/xlink\" width=\"504pt\" height=\"504pt\" viewBox=\"0 0 504 504\" version=\"1.1\">\n<defs>\n<g>\n<symbol overflow=\"visible\" id=\"glyph0-0\">\n<path style=\"stroke:none;\" d=\"M 0.296875 0 L 0.296875 -5.859375 L 2.625 -5.859375 L 2.625 0 Z M 0.578125 -0.296875 L 2.34375 -0.296875 L 2.34375 -5.578125 L 0.578125 -5.578125 Z M 0.578125 -0.296875 \"/>\n</symbol>\n<symbol overflow=\"visible\" id=\"glyph0-1\">\n<path style=\"stroke:none;\" d=\"M 4.546875 -3.03125 C 4.546875 -2.445312 4.488281 -1.957031 4.375 -1.5625 C 4.269531 -1.164062 4.117188 -0.84375 3.921875 -0.59375 C 3.734375 -0.351562 3.507812 -0.179688 3.25 -0.078125 C 3 0.0234375 2.726562 0.078125 2.4375 0.078125 C 2.144531 0.078125 1.867188 0.0234375 1.609375 -0.078125 C 1.359375 -0.179688 1.140625 -0.351562 0.953125 -0.59375 C 0.765625 -0.84375 0.613281 -1.164062 0.5 -1.5625 C 0.394531 -1.957031 0.34375 -2.445312 0.34375 -3.03125 C 0.34375 -3.632812 0.394531 -4.132812 0.5 -4.53125 C 0.613281 -4.9375 0.765625 -5.257812 0.953125 -5.5 C 1.140625 -5.738281 1.359375 -5.90625 1.609375 -6 C 1.867188 -6.09375 2.15625 -6.140625 2.46875 -6.140625 C 2.75 -6.140625 3.015625 -6.09375 3.265625 -6 C 3.523438 -5.90625 3.75 -5.738281 3.9375 -5.5 C 4.125 -5.257812 4.269531 -4.9375 4.375 -4.53125 C 4.488281 -4.132812 4.546875 -3.632812 4.546875 -3.03125 Z M 3.765625 -3.03125 C 3.765625 -3.507812 3.734375 -3.90625 3.671875 -4.21875 C 3.617188 -4.539062 3.535156 -4.796875 3.421875 -4.984375 C 3.304688 -5.179688 3.164062 -5.316406 3 -5.390625 C 2.84375 -5.472656 2.664062 -5.515625 2.46875 -5.515625 C 2.25 -5.515625 2.054688 -5.472656 1.890625 -5.390625 C 1.722656 -5.316406 1.582031 -5.179688 1.46875 -4.984375 C 1.351562 -4.796875 1.265625 -4.539062 1.203125 -4.21875 C 1.148438 -3.90625 1.125 -3.507812 1.125 -3.03125 C 1.125 -2.5625 1.148438 -2.164062 1.203125 -1.84375 C 1.265625 -1.53125 1.351562 -1.273438 1.46875 -1.078125 C 1.582031 -0.890625 1.71875 -0.753906 1.875 -0.671875 C 2.039062 -0.585938 2.226562 -0.546875 2.4375 -0.546875 C 2.644531 -0.546875 2.828125 -0.585938 2.984375 -0.671875 C 3.148438 -0.753906 3.289062 -0.890625 3.40625 -1.078125 C 3.519531 -1.273438 3.609375 -1.53125 3.671875 -1.84375 C 3.734375 -2.164062 3.765625 -2.5625 3.765625 -3.03125 Z M 3.765625 -3.03125 \"/>\n</symbol>\n<symbol overflow=\"visible\" id=\"glyph0-2\">\n<path style=\"stroke:none;\" d=\"M 0.671875 0 L 0.671875 -0.65625 L 2.21875 -0.65625 L 2.21875 -5.3125 L 0.84375 -4.34375 L 0.84375 -5.0625 L 2.28125 -6.046875 L 2.984375 -6.046875 L 2.984375 -0.65625 L 4.46875 -0.65625 L 4.46875 0 Z M 0.671875 0 \"/>\n</symbol>\n<symbol overflow=\"visible\" id=\"glyph0-3\">\n<path style=\"stroke:none;\" d=\"M 0.4375 0 L 0.4375 -0.546875 C 0.582031 -0.878906 0.757812 -1.171875 0.96875 -1.421875 C 1.1875 -1.679688 1.410156 -1.914062 1.640625 -2.125 C 1.867188 -2.332031 2.097656 -2.523438 2.328125 -2.703125 C 2.554688 -2.878906 2.757812 -3.054688 2.9375 -3.234375 C 3.125 -3.410156 3.273438 -3.597656 3.390625 -3.796875 C 3.503906 -3.992188 3.5625 -4.210938 3.5625 -4.453125 C 3.5625 -4.628906 3.535156 -4.78125 3.484375 -4.90625 C 3.429688 -5.039062 3.351562 -5.148438 3.25 -5.234375 C 3.15625 -5.328125 3.039062 -5.394531 2.90625 -5.4375 C 2.769531 -5.476562 2.617188 -5.5 2.453125 -5.5 C 2.296875 -5.5 2.148438 -5.476562 2.015625 -5.4375 C 1.878906 -5.394531 1.757812 -5.332031 1.65625 -5.25 C 1.550781 -5.164062 1.460938 -5.054688 1.390625 -4.921875 C 1.328125 -4.796875 1.285156 -4.648438 1.265625 -4.484375 L 0.484375 -4.5625 C 0.503906 -4.78125 0.5625 -4.984375 0.65625 -5.171875 C 0.75 -5.359375 0.878906 -5.523438 1.046875 -5.671875 C 1.210938 -5.816406 1.410156 -5.929688 1.640625 -6.015625 C 1.878906 -6.097656 2.148438 -6.140625 2.453125 -6.140625 C 2.753906 -6.140625 3.019531 -6.101562 3.25 -6.03125 C 3.488281 -5.957031 3.6875 -5.847656 3.84375 -5.703125 C 4.007812 -5.566406 4.132812 -5.394531 4.21875 -5.1875 C 4.3125 -4.988281 4.359375 -4.753906 4.359375 -4.484375 C 4.359375 -4.273438 4.320312 -4.078125 4.25 -3.890625 C 4.175781 -3.710938 4.078125 -3.539062 3.953125 -3.375 C 3.828125 -3.207031 3.6875 -3.046875 3.53125 -2.890625 C 3.375 -2.742188 3.207031 -2.59375 3.03125 -2.4375 C 2.851562 -2.289062 2.675781 -2.144531 2.5 -2 C 2.320312 -1.863281 2.15625 -1.722656 2 -1.578125 C 1.84375 -1.429688 1.703125 -1.28125 1.578125 -1.125 C 1.453125 -0.976562 1.359375 -0.820312 1.296875 -0.65625 L 4.453125 -0.65625 L 4.453125 0 Z M 0.4375 0 \"/>\n</symbol>\n<symbol overflow=\"visible\" id=\"glyph0-4\">\n<path style=\"stroke:none;\" d=\"M 4.5 -1.671875 C 4.5 -1.390625 4.453125 -1.140625 4.359375 -0.921875 C 4.273438 -0.703125 4.144531 -0.519531 3.96875 -0.375 C 3.800781 -0.226562 3.585938 -0.113281 3.328125 -0.03125 C 3.078125 0.0390625 2.785156 0.078125 2.453125 0.078125 C 2.078125 0.078125 1.757812 0.0351562 1.5 -0.046875 C 1.25 -0.140625 1.039062 -0.265625 0.875 -0.421875 C 0.707031 -0.578125 0.582031 -0.75 0.5 -0.9375 C 0.414062 -1.132812 0.359375 -1.34375 0.328125 -1.5625 L 1.140625 -1.625 C 1.160156 -1.46875 1.203125 -1.320312 1.265625 -1.1875 C 1.328125 -1.0625 1.410156 -0.945312 1.515625 -0.84375 C 1.617188 -0.75 1.75 -0.675781 1.90625 -0.625 C 2.0625 -0.570312 2.242188 -0.546875 2.453125 -0.546875 C 2.835938 -0.546875 3.140625 -0.640625 3.359375 -0.828125 C 3.585938 -1.023438 3.703125 -1.316406 3.703125 -1.703125 C 3.703125 -1.921875 3.648438 -2.097656 3.546875 -2.234375 C 3.453125 -2.367188 3.332031 -2.472656 3.1875 -2.546875 C 3.039062 -2.628906 2.878906 -2.679688 2.703125 -2.703125 C 2.523438 -2.734375 2.363281 -2.75 2.21875 -2.75 L 1.78125 -2.75 L 1.78125 -3.421875 L 2.203125 -3.421875 C 2.347656 -3.421875 2.5 -3.429688 2.65625 -3.453125 C 2.820312 -3.484375 2.96875 -3.535156 3.09375 -3.609375 C 3.226562 -3.691406 3.335938 -3.800781 3.421875 -3.9375 C 3.503906 -4.070312 3.546875 -4.242188 3.546875 -4.453125 C 3.546875 -4.773438 3.445312 -5.03125 3.25 -5.21875 C 3.0625 -5.40625 2.78125 -5.5 2.40625 -5.5 C 2.070312 -5.5 1.796875 -5.410156 1.578125 -5.234375 C 1.367188 -5.066406 1.25 -4.820312 1.21875 -4.5 L 0.4375 -4.5625 C 0.46875 -4.832031 0.539062 -5.066406 0.65625 -5.265625 C 0.769531 -5.460938 0.914062 -5.625 1.09375 -5.75 C 1.269531 -5.882812 1.46875 -5.984375 1.6875 -6.046875 C 1.914062 -6.109375 2.160156 -6.140625 2.421875 -6.140625 C 2.753906 -6.140625 3.039062 -6.097656 3.28125 -6.015625 C 3.53125 -5.929688 3.734375 -5.816406 3.890625 -5.671875 C 4.046875 -5.523438 4.160156 -5.351562 4.234375 -5.15625 C 4.304688 -4.96875 4.34375 -4.765625 4.34375 -4.546875 C 4.34375 -4.367188 4.316406 -4.203125 4.265625 -4.046875 C 4.210938 -3.890625 4.132812 -3.75 4.03125 -3.625 C 3.9375 -3.5 3.804688 -3.390625 3.640625 -3.296875 C 3.484375 -3.210938 3.296875 -3.148438 3.078125 -3.109375 L 3.078125 -3.09375 C 3.316406 -3.0625 3.523438 -3.003906 3.703125 -2.921875 C 3.890625 -2.835938 4.039062 -2.734375 4.15625 -2.609375 C 4.269531 -2.484375 4.351562 -2.335938 4.40625 -2.171875 C 4.46875 -2.015625 4.5 -1.847656 4.5 -1.671875 Z M 4.5 -1.671875 \"/>\n</symbol>\n<symbol overflow=\"visible\" id=\"glyph0-5\">\n<path style=\"stroke:none;\" d=\"M 3.78125 -1.375 L 3.78125 0 L 3.046875 0 L 3.046875 -1.375 L 0.203125 -1.375 L 0.203125 -1.96875 L 2.96875 -6.046875 L 3.78125 -6.046875 L 3.78125 -1.984375 L 4.640625 -1.984375 L 4.640625 -1.375 Z M 3.046875 -5.1875 C 3.046875 -5.164062 3.035156 -5.132812 3.015625 -5.09375 C 2.992188 -5.050781 2.96875 -5.003906 2.9375 -4.953125 C 2.90625 -4.898438 2.875 -4.847656 2.84375 -4.796875 C 2.8125 -4.742188 2.785156 -4.703125 2.765625 -4.671875 L 1.21875 -2.390625 C 1.195312 -2.359375 1.171875 -2.320312 1.140625 -2.28125 C 1.117188 -2.25 1.09375 -2.210938 1.0625 -2.171875 C 1.039062 -2.140625 1.015625 -2.101562 0.984375 -2.0625 C 0.953125 -2.03125 0.929688 -2.003906 0.921875 -1.984375 L 3.046875 -1.984375 Z M 3.046875 -5.1875 \"/>\n</symbol>\n<symbol overflow=\"visible\" id=\"glyph0-6\">\n<path style=\"stroke:none;\" d=\"M 4.5 -1.984375 C 4.5 -1.679688 4.457031 -1.398438 4.375 -1.140625 C 4.289062 -0.890625 4.164062 -0.671875 4 -0.484375 C 3.84375 -0.304688 3.640625 -0.164062 3.390625 -0.0625 C 3.148438 0.03125 2.867188 0.078125 2.546875 0.078125 C 2.191406 0.078125 1.882812 0.015625 1.625 -0.109375 C 1.363281 -0.242188 1.144531 -0.4375 0.96875 -0.6875 C 0.789062 -0.945312 0.660156 -1.257812 0.578125 -1.625 C 0.492188 -2 0.453125 -2.421875 0.453125 -2.890625 C 0.453125 -3.421875 0.5 -3.890625 0.59375 -4.296875 C 0.695312 -4.703125 0.835938 -5.039062 1.015625 -5.3125 C 1.203125 -5.59375 1.429688 -5.800781 1.703125 -5.9375 C 1.972656 -6.070312 2.273438 -6.140625 2.609375 -6.140625 C 2.816406 -6.140625 3.007812 -6.117188 3.1875 -6.078125 C 3.375 -6.035156 3.539062 -5.960938 3.6875 -5.859375 C 3.832031 -5.765625 3.957031 -5.640625 4.0625 -5.484375 C 4.175781 -5.328125 4.269531 -5.132812 4.34375 -4.90625 L 3.59375 -4.78125 C 3.519531 -5.039062 3.394531 -5.226562 3.21875 -5.34375 C 3.039062 -5.457031 2.835938 -5.515625 2.609375 -5.515625 C 2.390625 -5.515625 2.191406 -5.460938 2.015625 -5.359375 C 1.847656 -5.265625 1.703125 -5.117188 1.578125 -4.921875 C 1.460938 -4.722656 1.375 -4.472656 1.3125 -4.171875 C 1.25 -3.867188 1.21875 -3.515625 1.21875 -3.109375 C 1.351562 -3.367188 1.546875 -3.566406 1.796875 -3.703125 C 2.054688 -3.835938 2.351562 -3.90625 2.6875 -3.90625 C 2.957031 -3.90625 3.203125 -3.859375 3.421875 -3.765625 C 3.648438 -3.679688 3.84375 -3.554688 4 -3.390625 C 4.164062 -3.222656 4.289062 -3.019531 4.375 -2.78125 C 4.457031 -2.539062 4.5 -2.273438 4.5 -1.984375 Z M 3.71875 -1.953125 C 3.71875 -2.160156 3.691406 -2.347656 3.640625 -2.515625 C 3.585938 -2.679688 3.507812 -2.820312 3.40625 -2.9375 C 3.300781 -3.0625 3.171875 -3.15625 3.015625 -3.21875 C 2.867188 -3.28125 2.695312 -3.3125 2.5 -3.3125 C 2.363281 -3.3125 2.222656 -3.289062 2.078125 -3.25 C 1.929688 -3.207031 1.800781 -3.140625 1.6875 -3.046875 C 1.570312 -2.953125 1.476562 -2.828125 1.40625 -2.671875 C 1.332031 -2.523438 1.296875 -2.34375 1.296875 -2.125 C 1.296875 -1.90625 1.320312 -1.695312 1.375 -1.5 C 1.4375 -1.3125 1.519531 -1.144531 1.625 -1 C 1.726562 -0.851562 1.851562 -0.738281 2 -0.65625 C 2.15625 -0.570312 2.332031 -0.53125 2.53125 -0.53125 C 2.71875 -0.53125 2.882812 -0.5625 3.03125 -0.625 C 3.175781 -0.695312 3.300781 -0.789062 3.40625 -0.90625 C 3.507812 -1.03125 3.585938 -1.179688 3.640625 -1.359375 C 3.691406 -1.535156 3.71875 -1.734375 3.71875 -1.953125 Z M 3.71875 -1.953125 \"/>\n</symbol>\n<symbol overflow=\"visible\" id=\"glyph0-7\">\n<path style=\"stroke:none;\" d=\"M 1.546875 -5.375 L 1.546875 -3.125 L 4.921875 -3.125 L 4.921875 -2.453125 L 1.546875 -2.453125 L 1.546875 0 L 0.71875 0 L 0.71875 -6.046875 L 5.015625 -6.046875 L 5.015625 -5.375 Z M 1.546875 -5.375 \"/>\n</symbol>\n<symbol overflow=\"visible\" id=\"glyph0-8\">\n<path style=\"stroke:none;\" d=\"M 5.875 0 L 5.875 -4.03125 C 5.875 -4.175781 5.875 -4.328125 5.875 -4.484375 C 5.875 -4.640625 5.878906 -4.78125 5.890625 -4.90625 C 5.890625 -5.050781 5.894531 -5.191406 5.90625 -5.328125 C 5.863281 -5.179688 5.820312 -5.035156 5.78125 -4.890625 C 5.738281 -4.765625 5.695312 -4.632812 5.65625 -4.5 C 5.613281 -4.363281 5.570312 -4.238281 5.53125 -4.125 L 3.96875 0 L 3.390625 0 L 1.796875 -4.125 C 1.785156 -4.164062 1.769531 -4.210938 1.75 -4.265625 C 1.726562 -4.328125 1.707031 -4.390625 1.6875 -4.453125 C 1.664062 -4.515625 1.644531 -4.578125 1.625 -4.640625 C 1.601562 -4.710938 1.582031 -4.785156 1.5625 -4.859375 C 1.507812 -5.003906 1.460938 -5.160156 1.421875 -5.328125 C 1.421875 -5.160156 1.425781 -5 1.4375 -4.84375 C 1.4375 -4.707031 1.4375 -4.566406 1.4375 -4.421875 C 1.445312 -4.273438 1.453125 -4.144531 1.453125 -4.03125 L 1.453125 0 L 0.71875 0 L 0.71875 -6.046875 L 1.796875 -6.046875 L 3.40625 -1.859375 C 3.425781 -1.796875 3.453125 -1.71875 3.484375 -1.625 C 3.515625 -1.539062 3.539062 -1.453125 3.5625 -1.359375 C 3.59375 -1.265625 3.617188 -1.175781 3.640625 -1.09375 C 3.660156 -1.007812 3.675781 -0.941406 3.6875 -0.890625 C 3.6875 -0.941406 3.695312 -1.007812 3.71875 -1.09375 C 3.75 -1.175781 3.78125 -1.265625 3.8125 -1.359375 C 3.84375 -1.453125 3.867188 -1.539062 3.890625 -1.625 C 3.921875 -1.71875 3.945312 -1.796875 3.96875 -1.859375 L 5.546875 -6.046875 L 6.609375 -6.046875 L 6.609375 0 Z M 5.875 0 \"/>\n</symbol>\n<symbol overflow=\"visible\" id=\"glyph1-0\">\n<path style=\"stroke:none;\" d=\"M 0.359375 0 L 0.359375 -7.328125 L 3.28125 -7.328125 L 3.28125 0 Z M 0.734375 -0.359375 L 2.921875 -0.359375 L 2.921875 -6.96875 L 0.734375 -6.96875 Z M 0.734375 -0.359375 \"/>\n</symbol>\n<symbol overflow=\"visible\" id=\"glyph1-1\">\n<path style=\"stroke:none;\" d=\"M 0.734375 0 L 0.734375 -7.96875 L 1.703125 -7.96875 L 1.703125 0 Z M 0.734375 0 \"/>\n</symbol>\n<symbol overflow=\"visible\" id=\"glyph1-2\">\n<path style=\"stroke:none;\" d=\"M 3.296875 0 L 2.15625 0 L 0.03125 -5.8125 L 1.0625 -5.8125 L 2.34375 -2.03125 C 2.375 -1.945312 2.40625 -1.847656 2.4375 -1.734375 C 2.46875 -1.628906 2.5 -1.515625 2.53125 -1.390625 C 2.570312 -1.265625 2.609375 -1.144531 2.640625 -1.03125 C 2.671875 -0.925781 2.695312 -0.832031 2.71875 -0.75 C 2.738281 -0.832031 2.765625 -0.925781 2.796875 -1.03125 C 2.835938 -1.144531 2.875 -1.257812 2.90625 -1.375 C 2.9375 -1.5 2.972656 -1.617188 3.015625 -1.734375 C 3.054688 -1.847656 3.085938 -1.941406 3.109375 -2.015625 L 4.4375 -5.8125 L 5.46875 -5.8125 Z M 3.296875 0 \"/>\n</symbol>\n<symbol overflow=\"visible\" id=\"glyph1-3\">\n<path style=\"stroke:none;\" d=\"M 1.484375 -2.703125 C 1.484375 -2.398438 1.515625 -2.117188 1.578125 -1.859375 C 1.640625 -1.609375 1.734375 -1.390625 1.859375 -1.203125 C 1.992188 -1.015625 2.160156 -0.867188 2.359375 -0.765625 C 2.566406 -0.671875 2.816406 -0.625 3.109375 -0.625 C 3.523438 -0.625 3.859375 -0.707031 4.109375 -0.875 C 4.359375 -1.039062 4.53125 -1.253906 4.625 -1.515625 L 5.46875 -1.265625 C 5.40625 -1.109375 5.316406 -0.945312 5.203125 -0.78125 C 5.097656 -0.613281 4.953125 -0.460938 4.765625 -0.328125 C 4.585938 -0.203125 4.363281 -0.0976562 4.09375 -0.015625 C 3.820312 0.0664062 3.492188 0.109375 3.109375 0.109375 C 2.242188 0.109375 1.585938 -0.144531 1.140625 -0.65625 C 0.691406 -1.164062 0.46875 -1.925781 0.46875 -2.9375 C 0.46875 -3.488281 0.535156 -3.953125 0.671875 -4.328125 C 0.804688 -4.703125 0.988281 -5.007812 1.21875 -5.25 C 1.457031 -5.488281 1.734375 -5.660156 2.046875 -5.765625 C 2.367188 -5.867188 2.707031 -5.921875 3.0625 -5.921875 C 3.550781 -5.921875 3.957031 -5.84375 4.28125 -5.6875 C 4.613281 -5.53125 4.878906 -5.3125 5.078125 -5.03125 C 5.273438 -4.75 5.414062 -4.421875 5.5 -4.046875 C 5.582031 -3.671875 5.625 -3.265625 5.625 -2.828125 L 5.625 -2.703125 Z M 4.625 -3.4375 C 4.570312 -4.050781 4.414062 -4.5 4.15625 -4.78125 C 3.90625 -5.0625 3.535156 -5.203125 3.046875 -5.203125 C 2.890625 -5.203125 2.722656 -5.175781 2.546875 -5.125 C 2.367188 -5.070312 2.203125 -4.976562 2.046875 -4.84375 C 1.898438 -4.71875 1.773438 -4.539062 1.671875 -4.3125 C 1.566406 -4.082031 1.507812 -3.789062 1.5 -3.4375 Z M 4.625 -3.4375 \"/>\n</symbol>\n<symbol overflow=\"visible\" id=\"glyph1-4\">\n<path style=\"stroke:none;\" d=\"M 1.9375 -5.109375 L 1.9375 0 L 0.96875 0 L 0.96875 -5.109375 L 0.15625 -5.109375 L 0.15625 -5.8125 L 0.96875 -5.8125 L 0.96875 -6.46875 C 0.96875 -6.675781 0.988281 -6.867188 1.03125 -7.046875 C 1.070312 -7.234375 1.144531 -7.394531 1.25 -7.53125 C 1.351562 -7.664062 1.492188 -7.769531 1.671875 -7.84375 C 1.859375 -7.914062 2.097656 -7.953125 2.390625 -7.953125 C 2.503906 -7.953125 2.625 -7.945312 2.75 -7.9375 C 2.875 -7.925781 2.984375 -7.910156 3.078125 -7.890625 L 3.078125 -7.15625 C 3.015625 -7.164062 2.941406 -7.175781 2.859375 -7.1875 C 2.773438 -7.195312 2.703125 -7.203125 2.640625 -7.203125 C 2.492188 -7.203125 2.375 -7.179688 2.28125 -7.140625 C 2.195312 -7.097656 2.128906 -7.039062 2.078125 -6.96875 C 2.023438 -6.894531 1.988281 -6.804688 1.96875 -6.703125 C 1.945312 -6.597656 1.9375 -6.472656 1.9375 -6.328125 L 1.9375 -5.8125 L 3.078125 -5.8125 L 3.078125 -5.109375 Z M 1.9375 -5.109375 \"/>\n</symbol>\n<symbol overflow=\"visible\" id=\"glyph1-5\">\n<path style=\"stroke:none;\" d=\"M 0.546875 -3.8125 C 0.546875 -4.40625 0.625 -4.941406 0.78125 -5.421875 C 0.945312 -5.898438 1.1875 -6.304688 1.5 -6.640625 C 1.820312 -6.972656 2.21875 -7.226562 2.6875 -7.40625 C 3.15625 -7.59375 3.695312 -7.6875 4.3125 -7.6875 C 4.78125 -7.6875 5.1875 -7.644531 5.53125 -7.5625 C 5.882812 -7.476562 6.191406 -7.359375 6.453125 -7.203125 C 6.710938 -7.046875 6.929688 -6.859375 7.109375 -6.640625 C 7.285156 -6.421875 7.4375 -6.171875 7.5625 -5.890625 L 6.59375 -5.609375 C 6.5 -5.796875 6.382812 -5.960938 6.25 -6.109375 C 6.125 -6.265625 5.96875 -6.394531 5.78125 -6.5 C 5.59375 -6.613281 5.375 -6.695312 5.125 -6.75 C 4.882812 -6.8125 4.609375 -6.84375 4.296875 -6.84375 C 3.835938 -6.84375 3.4375 -6.769531 3.09375 -6.625 C 2.757812 -6.476562 2.476562 -6.273438 2.25 -6.015625 C 2.03125 -5.753906 1.863281 -5.4375 1.75 -5.0625 C 1.644531 -4.6875 1.59375 -4.269531 1.59375 -3.8125 C 1.59375 -3.363281 1.648438 -2.945312 1.765625 -2.5625 C 1.890625 -2.1875 2.066406 -1.863281 2.296875 -1.59375 C 2.523438 -1.320312 2.8125 -1.109375 3.15625 -0.953125 C 3.507812 -0.796875 3.910156 -0.71875 4.359375 -0.71875 C 4.660156 -0.71875 4.9375 -0.742188 5.1875 -0.796875 C 5.4375 -0.847656 5.660156 -0.914062 5.859375 -1 C 6.066406 -1.082031 6.25 -1.171875 6.40625 -1.265625 C 6.5625 -1.359375 6.691406 -1.457031 6.796875 -1.5625 L 6.796875 -2.921875 L 4.53125 -2.921875 L 4.53125 -3.78125 L 7.734375 -3.78125 L 7.734375 -1.171875 C 7.566406 -1.003906 7.367188 -0.84375 7.140625 -0.6875 C 6.910156 -0.53125 6.65625 -0.390625 6.375 -0.265625 C 6.09375 -0.148438 5.78125 -0.0625 5.4375 0 C 5.101562 0.0703125 4.742188 0.109375 4.359375 0.109375 C 3.722656 0.109375 3.164062 0.0078125 2.6875 -0.1875 C 2.21875 -0.382812 1.820312 -0.65625 1.5 -1 C 1.1875 -1.351562 0.945312 -1.769531 0.78125 -2.25 C 0.625 -2.726562 0.546875 -3.25 0.546875 -3.8125 Z M 0.546875 -3.8125 \"/>\n</symbol>\n<symbol overflow=\"visible\" id=\"glyph1-6\">\n<path style=\"stroke:none;\" d=\"M 0.90625 0 L 0.90625 -7.5625 L 6.640625 -7.5625 L 6.640625 -6.734375 L 1.921875 -6.734375 L 1.921875 -4.296875 L 6.328125 -4.296875 L 6.328125 -3.46875 L 1.921875 -3.46875 L 1.921875 -0.84375 L 6.859375 -0.84375 L 6.859375 0 Z M 0.90625 0 \"/>\n</symbol>\n<symbol overflow=\"visible\" id=\"glyph1-7\">\n<path style=\"stroke:none;\" d=\"M 5.8125 0 L 1.765625 -6.453125 C 1.765625 -6.273438 1.769531 -6.097656 1.78125 -5.921875 C 1.789062 -5.773438 1.796875 -5.617188 1.796875 -5.453125 C 1.804688 -5.296875 1.8125 -5.15625 1.8125 -5.03125 L 1.8125 0 L 0.90625 0 L 0.90625 -7.5625 L 2.09375 -7.5625 L 6.1875 -1.078125 C 6.175781 -1.253906 6.164062 -1.429688 6.15625 -1.609375 C 6.144531 -1.753906 6.132812 -1.914062 6.125 -2.09375 C 6.125 -2.269531 6.125 -2.441406 6.125 -2.609375 L 6.125 -7.5625 L 7.046875 -7.5625 L 7.046875 0 Z M 5.8125 0 \"/>\n</symbol>\n<symbol overflow=\"visible\" id=\"glyph1-8\">\n<path style=\"stroke:none;\" d=\"M 7.421875 -3.859375 C 7.421875 -3.234375 7.320312 -2.675781 7.125 -2.1875 C 6.9375 -1.707031 6.675781 -1.304688 6.34375 -0.984375 C 6.019531 -0.660156 5.632812 -0.414062 5.1875 -0.25 C 4.738281 -0.0820312 4.253906 0 3.734375 0 L 0.90625 0 L 0.90625 -7.5625 L 3.40625 -7.5625 C 3.988281 -7.5625 4.523438 -7.488281 5.015625 -7.34375 C 5.515625 -7.207031 5.941406 -6.984375 6.296875 -6.671875 C 6.648438 -6.367188 6.925781 -5.984375 7.125 -5.515625 C 7.320312 -5.054688 7.421875 -4.503906 7.421875 -3.859375 Z M 6.390625 -3.859375 C 6.390625 -4.367188 6.316406 -4.804688 6.171875 -5.171875 C 6.023438 -5.535156 5.816406 -5.832031 5.546875 -6.0625 C 5.285156 -6.300781 4.96875 -6.472656 4.59375 -6.578125 C 4.226562 -6.691406 3.828125 -6.75 3.390625 -6.75 L 1.921875 -6.75 L 1.921875 -0.828125 L 3.609375 -0.828125 C 4.015625 -0.828125 4.382812 -0.890625 4.71875 -1.015625 C 5.050781 -1.140625 5.34375 -1.328125 5.59375 -1.578125 C 5.84375 -1.835938 6.035156 -2.15625 6.171875 -2.53125 C 6.316406 -2.914062 6.390625 -3.359375 6.390625 -3.859375 Z M 6.390625 -3.859375 \"/>\n</symbol>\n<symbol overflow=\"visible\" id=\"glyph1-9\">\n<path style=\"stroke:none;\" d=\"M 6.25 0 L 4.28125 -3.140625 L 1.921875 -3.140625 L 1.921875 0 L 0.90625 0 L 0.90625 -7.5625 L 4.46875 -7.5625 C 4.894531 -7.5625 5.273438 -7.507812 5.609375 -7.40625 C 5.941406 -7.3125 6.21875 -7.171875 6.4375 -6.984375 C 6.664062 -6.804688 6.835938 -6.582031 6.953125 -6.3125 C 7.078125 -6.039062 7.140625 -5.738281 7.140625 -5.40625 C 7.140625 -5.164062 7.101562 -4.925781 7.03125 -4.6875 C 6.957031 -4.457031 6.84375 -4.242188 6.6875 -4.046875 C 6.539062 -3.859375 6.351562 -3.691406 6.125 -3.546875 C 5.894531 -3.410156 5.613281 -3.316406 5.28125 -3.265625 L 7.4375 0 Z M 6.109375 -5.390625 C 6.109375 -5.617188 6.066406 -5.816406 5.984375 -5.984375 C 5.898438 -6.148438 5.785156 -6.289062 5.640625 -6.40625 C 5.492188 -6.519531 5.3125 -6.601562 5.09375 -6.65625 C 4.875 -6.71875 4.628906 -6.75 4.359375 -6.75 L 1.921875 -6.75 L 1.921875 -3.953125 L 4.40625 -3.953125 C 4.695312 -3.953125 4.945312 -3.988281 5.15625 -4.0625 C 5.375 -4.132812 5.550781 -4.234375 5.6875 -4.359375 C 5.832031 -4.492188 5.9375 -4.648438 6 -4.828125 C 6.070312 -5.003906 6.109375 -5.191406 6.109375 -5.390625 Z M 6.109375 -5.390625 \"/>\n</symbol>\n<symbol overflow=\"visible\" id=\"glyph2-0\">\n<path style=\"stroke:none;\" d=\"M 0 -0.359375 L -7.328125 -0.359375 L -7.328125 -3.28125 L 0 -3.28125 Z M -0.359375 -0.734375 L -0.359375 -2.921875 L -6.96875 -2.921875 L -6.96875 -0.734375 Z M -0.359375 -0.734375 \"/>\n</symbol>\n<symbol overflow=\"visible\" id=\"glyph2-1\">\n<path style=\"stroke:none;\" d=\"M -2.9375 -1.484375 C -2.601562 -1.484375 -2.296875 -1.503906 -2.015625 -1.546875 C -1.734375 -1.597656 -1.488281 -1.679688 -1.28125 -1.796875 C -1.082031 -1.910156 -0.925781 -2.0625 -0.8125 -2.25 C -0.707031 -2.4375 -0.65625 -2.664062 -0.65625 -2.9375 C -0.65625 -3.28125 -0.75 -3.566406 -0.9375 -3.796875 C -1.125 -4.035156 -1.410156 -4.179688 -1.796875 -4.234375 L -1.734375 -5.203125 C -1.492188 -5.171875 -1.257812 -5.101562 -1.03125 -5 C -0.8125 -4.894531 -0.617188 -4.75 -0.453125 -4.5625 C -0.285156 -4.375 -0.148438 -4.144531 -0.046875 -3.875 C 0.0546875 -3.613281 0.109375 -3.3125 0.109375 -2.96875 C 0.109375 -2.507812 0.03125 -2.117188 -0.125 -1.796875 C -0.28125 -1.484375 -0.492188 -1.226562 -0.765625 -1.03125 C -1.035156 -0.832031 -1.351562 -0.6875 -1.71875 -0.59375 C -2.082031 -0.507812 -2.476562 -0.46875 -2.90625 -0.46875 C -3.300781 -0.46875 -3.644531 -0.5 -3.9375 -0.5625 C -4.238281 -0.625 -4.5 -0.710938 -4.71875 -0.828125 C -4.945312 -0.953125 -5.132812 -1.09375 -5.28125 -1.25 C -5.4375 -1.40625 -5.5625 -1.570312 -5.65625 -1.75 C -5.75 -1.9375 -5.816406 -2.128906 -5.859375 -2.328125 C -5.898438 -2.535156 -5.921875 -2.742188 -5.921875 -2.953125 C -5.921875 -3.285156 -5.875 -3.578125 -5.78125 -3.828125 C -5.695312 -4.085938 -5.578125 -4.304688 -5.421875 -4.484375 C -5.265625 -4.671875 -5.078125 -4.820312 -4.859375 -4.9375 C -4.648438 -5.050781 -4.425781 -5.128906 -4.1875 -5.171875 L -4.109375 -4.1875 C -4.429688 -4.132812 -4.6875 -4.003906 -4.875 -3.796875 C -5.0625 -3.597656 -5.15625 -3.3125 -5.15625 -2.9375 C -5.15625 -2.65625 -5.109375 -2.421875 -5.015625 -2.234375 C -4.929688 -2.054688 -4.796875 -1.910156 -4.609375 -1.796875 C -4.421875 -1.679688 -4.1875 -1.597656 -3.90625 -1.546875 C -3.632812 -1.503906 -3.3125 -1.484375 -2.9375 -1.484375 Z M -2.9375 -1.484375 \"/>\n</symbol>\n<symbol overflow=\"visible\" id=\"glyph2-2\">\n<path style=\"stroke:none;\" d=\"M -2.90625 -5.65625 C -1.894531 -5.65625 -1.140625 -5.429688 -0.640625 -4.984375 C -0.140625 -4.535156 0.109375 -3.882812 0.109375 -3.03125 C 0.109375 -2.625 0.046875 -2.257812 -0.078125 -1.9375 C -0.203125 -1.625 -0.390625 -1.359375 -0.640625 -1.140625 C -0.890625 -0.921875 -1.203125 -0.753906 -1.578125 -0.640625 C -1.953125 -0.523438 -2.394531 -0.46875 -2.90625 -0.46875 C -4.914062 -0.46875 -5.921875 -1.332031 -5.921875 -3.0625 C -5.921875 -3.519531 -5.859375 -3.910156 -5.734375 -4.234375 C -5.609375 -4.566406 -5.421875 -4.835938 -5.171875 -5.046875 C -4.921875 -5.253906 -4.601562 -5.40625 -4.21875 -5.5 C -3.84375 -5.601562 -3.40625 -5.65625 -2.90625 -5.65625 Z M -2.90625 -4.640625 C -3.363281 -4.640625 -3.738281 -4.601562 -4.03125 -4.53125 C -4.320312 -4.46875 -4.554688 -4.367188 -4.734375 -4.234375 C -4.910156 -4.097656 -5.03125 -3.929688 -5.09375 -3.734375 C -5.164062 -3.546875 -5.203125 -3.328125 -5.203125 -3.078125 C -5.203125 -2.835938 -5.164062 -2.613281 -5.09375 -2.40625 C -5.019531 -2.207031 -4.894531 -2.039062 -4.71875 -1.90625 C -4.539062 -1.769531 -4.304688 -1.664062 -4.015625 -1.59375 C -3.722656 -1.519531 -3.351562 -1.484375 -2.90625 -1.484375 C -2.457031 -1.484375 -2.082031 -1.519531 -1.78125 -1.59375 C -1.488281 -1.675781 -1.253906 -1.785156 -1.078125 -1.921875 C -0.910156 -2.054688 -0.789062 -2.21875 -0.71875 -2.40625 C -0.644531 -2.59375 -0.609375 -2.800781 -0.609375 -3.03125 C -0.609375 -3.269531 -0.640625 -3.488281 -0.703125 -3.6875 C -0.773438 -3.894531 -0.898438 -4.066406 -1.078125 -4.203125 C -1.253906 -4.347656 -1.488281 -4.457031 -1.78125 -4.53125 C -2.082031 -4.601562 -2.457031 -4.640625 -2.90625 -4.640625 Z M -2.90625 -4.640625 \"/>\n</symbol>\n<symbol overflow=\"visible\" id=\"glyph2-3\">\n<path style=\"stroke:none;\" d=\"M -5.8125 -1.6875 L -2.125 -1.6875 C -1.84375 -1.6875 -1.609375 -1.707031 -1.421875 -1.75 C -1.234375 -1.789062 -1.078125 -1.859375 -0.953125 -1.953125 C -0.835938 -2.046875 -0.753906 -2.164062 -0.703125 -2.3125 C -0.660156 -2.46875 -0.640625 -2.660156 -0.640625 -2.890625 C -0.640625 -3.117188 -0.675781 -3.320312 -0.75 -3.5 C -0.832031 -3.6875 -0.953125 -3.84375 -1.109375 -3.96875 C -1.265625 -4.101562 -1.453125 -4.207031 -1.671875 -4.28125 C -1.898438 -4.351562 -2.15625 -4.390625 -2.4375 -4.390625 L -5.8125 -4.390625 L -5.8125 -5.359375 L -1.234375 -5.359375 C -1.117188 -5.359375 -0.992188 -5.359375 -0.859375 -5.359375 C -0.722656 -5.359375 -0.59375 -5.359375 -0.46875 -5.359375 C -0.351562 -5.367188 -0.25 -5.375 -0.15625 -5.375 C -0.0703125 -5.375 -0.0195312 -5.378906 0 -5.390625 L 0 -4.46875 C -0.0195312 -4.46875 -0.0664062 -4.460938 -0.140625 -4.453125 C -0.222656 -4.453125 -0.3125 -4.445312 -0.40625 -4.4375 C -0.507812 -4.4375 -0.613281 -4.4375 -0.71875 -4.4375 C -0.832031 -4.4375 -0.925781 -4.4375 -1 -4.4375 L -1 -4.421875 C -0.820312 -4.328125 -0.664062 -4.222656 -0.53125 -4.109375 C -0.394531 -3.992188 -0.28125 -3.863281 -0.1875 -3.71875 C -0.09375 -3.570312 -0.0195312 -3.40625 0.03125 -3.21875 C 0.0820312 -3.03125 0.109375 -2.8125 0.109375 -2.5625 C 0.109375 -2.238281 0.0703125 -1.957031 0 -1.71875 C -0.0820312 -1.488281 -0.207031 -1.296875 -0.375 -1.140625 C -0.539062 -0.992188 -0.75 -0.882812 -1 -0.8125 C -1.257812 -0.75 -1.570312 -0.71875 -1.9375 -0.71875 L -5.8125 -0.71875 Z M -5.8125 -1.6875 \"/>\n</symbol>\n<symbol overflow=\"visible\" id=\"glyph2-4\">\n<path style=\"stroke:none;\" d=\"M 0 -4.4375 L -3.6875 -4.4375 C -3.96875 -4.4375 -4.203125 -4.414062 -4.390625 -4.375 C -4.578125 -4.332031 -4.726562 -4.265625 -4.84375 -4.171875 C -4.96875 -4.078125 -5.050781 -3.953125 -5.09375 -3.796875 C -5.144531 -3.648438 -5.171875 -3.460938 -5.171875 -3.234375 C -5.171875 -3.003906 -5.128906 -2.796875 -5.046875 -2.609375 C -4.972656 -2.429688 -4.859375 -2.273438 -4.703125 -2.140625 C -4.546875 -2.003906 -4.351562 -1.898438 -4.125 -1.828125 C -3.90625 -1.765625 -3.65625 -1.734375 -3.375 -1.734375 L 0 -1.734375 L 0 -0.765625 L -4.578125 -0.765625 C -4.691406 -0.765625 -4.816406 -0.757812 -4.953125 -0.75 C -5.085938 -0.75 -5.210938 -0.75 -5.328125 -0.75 C -5.453125 -0.75 -5.554688 -0.742188 -5.640625 -0.734375 C -5.734375 -0.734375 -5.789062 -0.734375 -5.8125 -0.734375 L -5.8125 -1.640625 C -5.789062 -1.648438 -5.738281 -1.65625 -5.65625 -1.65625 C -5.582031 -1.65625 -5.492188 -1.65625 -5.390625 -1.65625 C -5.296875 -1.664062 -5.191406 -1.671875 -5.078125 -1.671875 C -4.972656 -1.679688 -4.882812 -1.6875 -4.8125 -1.6875 L -4.8125 -1.703125 C -4.988281 -1.796875 -5.144531 -1.894531 -5.28125 -2 C -5.414062 -2.113281 -5.53125 -2.242188 -5.625 -2.390625 C -5.71875 -2.535156 -5.789062 -2.703125 -5.84375 -2.890625 C -5.894531 -3.085938 -5.921875 -3.3125 -5.921875 -3.5625 C -5.921875 -3.882812 -5.878906 -4.160156 -5.796875 -4.390625 C -5.722656 -4.628906 -5.601562 -4.820312 -5.4375 -4.96875 C -5.269531 -5.113281 -5.054688 -5.222656 -4.796875 -5.296875 C -4.535156 -5.367188 -4.226562 -5.40625 -3.875 -5.40625 L 0 -5.40625 Z M 0 -4.4375 \"/>\n</symbol>\n<symbol overflow=\"visible\" id=\"glyph2-5\">\n<path style=\"stroke:none;\" d=\"M -0.046875 -2.96875 C -0.00390625 -2.820312 0.0234375 -2.671875 0.046875 -2.515625 C 0.078125 -2.367188 0.09375 -2.195312 0.09375 -2 C 0.09375 -1.226562 -0.347656 -0.84375 -1.234375 -0.84375 L -5.109375 -0.84375 L -5.109375 -0.171875 L -5.8125 -0.171875 L -5.8125 -0.875 L -7.109375 -1.15625 L -7.109375 -1.8125 L -5.8125 -1.8125 L -5.8125 -2.875 L -5.109375 -2.875 L -5.109375 -1.8125 L -1.4375 -1.8125 C -1.15625 -1.8125 -0.957031 -1.851562 -0.84375 -1.9375 C -0.738281 -2.03125 -0.6875 -2.191406 -0.6875 -2.421875 C -0.6875 -2.515625 -0.691406 -2.601562 -0.703125 -2.6875 C -0.710938 -2.769531 -0.726562 -2.863281 -0.75 -2.96875 Z M -0.046875 -2.96875 \"/>\n</symbol>\n</g>\n<clipPath id=\"clip1\">\n  <path d=\"M 33.152344 5.480469 L 429.605469 5.480469 L 429.605469 471.851562 L 33.152344 471.851562 Z M 33.152344 5.480469 \"/>\n</clipPath>\n<clipPath id=\"clip2\">\n  <path d=\"M 33.152344 401 L 429.605469 401 L 429.605469 402 L 33.152344 402 Z M 33.152344 401 \"/>\n</clipPath>\n<clipPath id=\"clip3\">\n  <path d=\"M 33.152344 302 L 429.605469 302 L 429.605469 304 L 33.152344 304 Z M 33.152344 302 \"/>\n</clipPath>\n<clipPath id=\"clip4\">\n  <path d=\"M 33.152344 203 L 429.605469 203 L 429.605469 205 L 33.152344 205 Z M 33.152344 203 \"/>\n</clipPath>\n<clipPath id=\"clip5\">\n  <path d=\"M 33.152344 105 L 429.605469 105 L 429.605469 106 L 33.152344 106 Z M 33.152344 105 \"/>\n</clipPath>\n<clipPath id=\"clip6\">\n  <path d=\"M 33.152344 6 L 429.605469 6 L 429.605469 8 L 33.152344 8 Z M 33.152344 6 \"/>\n</clipPath>\n<clipPath id=\"clip7\">\n  <path d=\"M 82 5.480469 L 84 5.480469 L 84 471.851562 L 82 471.851562 Z M 82 5.480469 \"/>\n</clipPath>\n<clipPath id=\"clip8\">\n  <path d=\"M 182 5.480469 L 183 5.480469 L 183 471.851562 L 182 471.851562 Z M 182 5.480469 \"/>\n</clipPath>\n<clipPath id=\"clip9\">\n  <path d=\"M 281 5.480469 L 283 5.480469 L 283 471.851562 L 281 471.851562 Z M 281 5.480469 \"/>\n</clipPath>\n<clipPath id=\"clip10\">\n  <path d=\"M 381 5.480469 L 382 5.480469 L 382 471.851562 L 381 471.851562 Z M 381 5.480469 \"/>\n</clipPath>\n<clipPath id=\"clip11\">\n  <path d=\"M 33.152344 450 L 429.605469 450 L 429.605469 452 L 33.152344 452 Z M 33.152344 450 \"/>\n</clipPath>\n<clipPath id=\"clip12\">\n  <path d=\"M 33.152344 351 L 429.605469 351 L 429.605469 353 L 33.152344 353 Z M 33.152344 351 \"/>\n</clipPath>\n<clipPath id=\"clip13\">\n  <path d=\"M 33.152344 252 L 429.605469 252 L 429.605469 254 L 33.152344 254 Z M 33.152344 252 \"/>\n</clipPath>\n<clipPath id=\"clip14\">\n  <path d=\"M 33.152344 154 L 429.605469 154 L 429.605469 156 L 33.152344 156 Z M 33.152344 154 \"/>\n</clipPath>\n<clipPath id=\"clip15\">\n  <path d=\"M 33.152344 55 L 429.605469 55 L 429.605469 57 L 33.152344 57 Z M 33.152344 55 \"/>\n</clipPath>\n<clipPath id=\"clip16\">\n  <path d=\"M 132 5.480469 L 134 5.480469 L 134 471.851562 L 132 471.851562 Z M 132 5.480469 \"/>\n</clipPath>\n<clipPath id=\"clip17\">\n  <path d=\"M 231 5.480469 L 233 5.480469 L 233 471.851562 L 231 471.851562 Z M 231 5.480469 \"/>\n</clipPath>\n<clipPath id=\"clip18\">\n  <path d=\"M 331 5.480469 L 333 5.480469 L 333 471.851562 L 331 471.851562 Z M 331 5.480469 \"/>\n</clipPath>\n</defs>\n<g id=\"surface134\">\n<rect x=\"0\" y=\"0\" width=\"504\" height=\"504\" style=\"fill:rgb(100%,100%,100%);fill-opacity:1;stroke:none;\"/>\n<rect x=\"0\" y=\"0\" width=\"504\" height=\"504\" style=\"fill:rgb(100%,100%,100%);fill-opacity:1;stroke:none;\"/>\n<path style=\"fill:none;stroke-width:1.066978;stroke-linecap:round;stroke-linejoin:round;stroke:rgb(100%,100%,100%);stroke-opacity:1;stroke-miterlimit:10;\" d=\"M 0 504 L 504 504 L 504 0 L 0 0 Z M 0 504 \"/>\n<g clip-path=\"url(#clip1)\" clip-rule=\"nonzero\">\n<path style=\" stroke:none;fill-rule:nonzero;fill:rgb(92.156863%,92.156863%,92.156863%);fill-opacity:1;\" d=\"M 33.152344 471.847656 L 429.605469 471.847656 L 429.605469 5.476562 L 33.152344 5.476562 Z M 33.152344 471.847656 \"/>\n</g>\n<g clip-path=\"url(#clip2)\" clip-rule=\"nonzero\">\n<path style=\"fill:none;stroke-width:0.533489;stroke-linecap:butt;stroke-linejoin:round;stroke:rgb(100%,100%,100%);stroke-opacity:1;stroke-miterlimit:10;\" d=\"M 33.152344 401.351562 L 429.601562 401.351562 \"/>\n</g>\n<g clip-path=\"url(#clip3)\" clip-rule=\"nonzero\">\n<path style=\"fill:none;stroke-width:0.533489;stroke-linecap:butt;stroke-linejoin:round;stroke:rgb(100%,100%,100%);stroke-opacity:1;stroke-miterlimit:10;\" d=\"M 33.152344 302.753906 L 429.601562 302.753906 \"/>\n</g>\n<g clip-path=\"url(#clip4)\" clip-rule=\"nonzero\">\n<path style=\"fill:none;stroke-width:0.533489;stroke-linecap:butt;stroke-linejoin:round;stroke:rgb(100%,100%,100%);stroke-opacity:1;stroke-miterlimit:10;\" d=\"M 33.152344 204.15625 L 429.601562 204.15625 \"/>\n</g>\n<g clip-path=\"url(#clip5)\" clip-rule=\"nonzero\">\n<path style=\"fill:none;stroke-width:0.533489;stroke-linecap:butt;stroke-linejoin:round;stroke:rgb(100%,100%,100%);stroke-opacity:1;stroke-miterlimit:10;\" d=\"M 33.152344 105.558594 L 429.601562 105.558594 \"/>\n</g>\n<g clip-path=\"url(#clip6)\" clip-rule=\"nonzero\">\n<path style=\"fill:none;stroke-width:0.533489;stroke-linecap:butt;stroke-linejoin:round;stroke:rgb(100%,100%,100%);stroke-opacity:1;stroke-miterlimit:10;\" d=\"M 33.152344 6.957031 L 429.601562 6.957031 \"/>\n</g>\n<g clip-path=\"url(#clip7)\" clip-rule=\"nonzero\">\n<path style=\"fill:none;stroke-width:0.533489;stroke-linecap:butt;stroke-linejoin:round;stroke:rgb(100%,100%,100%);stroke-opacity:1;stroke-miterlimit:10;\" d=\"M 82.921875 471.847656 L 82.921875 5.480469 \"/>\n</g>\n<g clip-path=\"url(#clip8)\" clip-rule=\"nonzero\">\n<path style=\"fill:none;stroke-width:0.533489;stroke-linecap:butt;stroke-linejoin:round;stroke:rgb(100%,100%,100%);stroke-opacity:1;stroke-miterlimit:10;\" d=\"M 182.464844 471.847656 L 182.464844 5.480469 \"/>\n</g>\n<g clip-path=\"url(#clip9)\" clip-rule=\"nonzero\">\n<path style=\"fill:none;stroke-width:0.533489;stroke-linecap:butt;stroke-linejoin:round;stroke:rgb(100%,100%,100%);stroke-opacity:1;stroke-miterlimit:10;\" d=\"M 282.007812 471.847656 L 282.007812 5.480469 \"/>\n</g>\n<g clip-path=\"url(#clip10)\" clip-rule=\"nonzero\">\n<path style=\"fill:none;stroke-width:0.533489;stroke-linecap:butt;stroke-linejoin:round;stroke:rgb(100%,100%,100%);stroke-opacity:1;stroke-miterlimit:10;\" d=\"M 381.546875 471.847656 L 381.546875 5.480469 \"/>\n</g>\n<g clip-path=\"url(#clip11)\" clip-rule=\"nonzero\">\n<path style=\"fill:none;stroke-width:1.066978;stroke-linecap:butt;stroke-linejoin:round;stroke:rgb(100%,100%,100%);stroke-opacity:1;stroke-miterlimit:10;\" d=\"M 33.152344 450.652344 L 429.601562 450.652344 \"/>\n</g>\n<g clip-path=\"url(#clip12)\" clip-rule=\"nonzero\">\n<path style=\"fill:none;stroke-width:1.066978;stroke-linecap:butt;stroke-linejoin:round;stroke:rgb(100%,100%,100%);stroke-opacity:1;stroke-miterlimit:10;\" d=\"M 33.152344 352.050781 L 429.601562 352.050781 \"/>\n</g>\n<g clip-path=\"url(#clip13)\" clip-rule=\"nonzero\">\n<path style=\"fill:none;stroke-width:1.066978;stroke-linecap:butt;stroke-linejoin:round;stroke:rgb(100%,100%,100%);stroke-opacity:1;stroke-miterlimit:10;\" d=\"M 33.152344 253.453125 L 429.601562 253.453125 \"/>\n</g>\n<g clip-path=\"url(#clip14)\" clip-rule=\"nonzero\">\n<path style=\"fill:none;stroke-width:1.066978;stroke-linecap:butt;stroke-linejoin:round;stroke:rgb(100%,100%,100%);stroke-opacity:1;stroke-miterlimit:10;\" d=\"M 33.152344 154.855469 L 429.601562 154.855469 \"/>\n</g>\n<g clip-path=\"url(#clip15)\" clip-rule=\"nonzero\">\n<path style=\"fill:none;stroke-width:1.066978;stroke-linecap:butt;stroke-linejoin:round;stroke:rgb(100%,100%,100%);stroke-opacity:1;stroke-miterlimit:10;\" d=\"M 33.152344 56.257812 L 429.601562 56.257812 \"/>\n</g>\n<g clip-path=\"url(#clip16)\" clip-rule=\"nonzero\">\n<path style=\"fill:none;stroke-width:1.066978;stroke-linecap:butt;stroke-linejoin:round;stroke:rgb(100%,100%,100%);stroke-opacity:1;stroke-miterlimit:10;\" d=\"M 132.691406 471.847656 L 132.691406 5.480469 \"/>\n</g>\n<g clip-path=\"url(#clip17)\" clip-rule=\"nonzero\">\n<path style=\"fill:none;stroke-width:1.066978;stroke-linecap:butt;stroke-linejoin:round;stroke:rgb(100%,100%,100%);stroke-opacity:1;stroke-miterlimit:10;\" d=\"M 232.234375 471.847656 L 232.234375 5.480469 \"/>\n</g>\n<g clip-path=\"url(#clip18)\" clip-rule=\"nonzero\">\n<path style=\"fill:none;stroke-width:1.066978;stroke-linecap:butt;stroke-linejoin:round;stroke:rgb(100%,100%,100%);stroke-opacity:1;stroke-miterlimit:10;\" d=\"M 331.777344 471.847656 L 331.777344 5.480469 \"/>\n</g>\n<path style=\"fill-rule:nonzero;fill:rgb(100%,100%,100%);fill-opacity:1;stroke-width:1.066978;stroke-linecap:square;stroke-linejoin:miter;stroke:rgb(97.254902%,46.27451%,42.745098%);stroke-opacity:1;stroke-miterlimit:10;\" d=\"M 51.171875 450.652344 L 63.1875 450.652344 L 63.1875 440.792969 L 51.171875 440.792969 Z M 51.171875 450.652344 \"/>\n<path style=\"fill:none;stroke-width:1.066978;stroke-linecap:square;stroke-linejoin:miter;stroke:rgb(97.254902%,46.27451%,42.745098%);stroke-opacity:1;stroke-miterlimit:10;\" d=\"M 63.183594 450.652344 L 75.199219 450.652344 Z M 63.183594 450.652344 \"/>\n<path style=\"fill-rule:nonzero;fill:rgb(100%,100%,100%);fill-opacity:1;stroke-width:1.066978;stroke-linecap:square;stroke-linejoin:miter;stroke:rgb(97.254902%,46.27451%,42.745098%);stroke-opacity:1;stroke-miterlimit:10;\" d=\"M 75.199219 440.789062 L 87.214844 440.789062 L 87.214844 430.929688 L 75.199219 430.929688 Z M 75.199219 440.789062 \"/>\n<path style=\"fill:none;stroke-width:1.066978;stroke-linecap:square;stroke-linejoin:miter;stroke:rgb(97.254902%,46.27451%,42.745098%);stroke-opacity:1;stroke-miterlimit:10;\" d=\"M 87.210938 450.652344 L 99.226562 450.652344 Z M 87.210938 450.652344 \"/>\n<path style=\"fill-rule:nonzero;fill:rgb(100%,100%,100%);fill-opacity:1;stroke-width:1.066978;stroke-linecap:square;stroke-linejoin:miter;stroke:rgb(97.254902%,46.27451%,42.745098%);stroke-opacity:1;stroke-miterlimit:10;\" d=\"M 99.226562 302.753906 L 111.242188 302.753906 L 111.242188 273.175781 L 99.226562 273.175781 Z M 99.226562 302.753906 \"/>\n<path style=\"fill:none;stroke-width:1.066978;stroke-linecap:square;stroke-linejoin:miter;stroke:rgb(97.254902%,46.27451%,42.745098%);stroke-opacity:1;stroke-miterlimit:10;\" d=\"M 111.238281 430.929688 L 123.253906 430.929688 Z M 111.238281 430.929688 \"/>\n<path style=\"fill-rule:nonzero;fill:rgb(100%,100%,100%);fill-opacity:1;stroke-width:1.066978;stroke-linecap:square;stroke-linejoin:miter;stroke:rgb(97.254902%,46.27451%,42.745098%);stroke-opacity:1;stroke-miterlimit:10;\" d=\"M 123.253906 204.15625 L 135.269531 204.15625 L 135.269531 105.558594 L 123.253906 105.558594 Z M 123.253906 204.15625 \"/>\n<path style=\"fill-rule:nonzero;fill:rgb(100%,100%,100%);fill-opacity:1;stroke-width:1.066978;stroke-linecap:square;stroke-linejoin:miter;stroke:rgb(97.254902%,46.27451%,42.745098%);stroke-opacity:1;stroke-miterlimit:10;\" d=\"M 135.265625 411.210938 L 147.28125 411.210938 L 147.28125 401.351562 L 135.265625 401.351562 Z M 135.265625 411.210938 \"/>\n<path style=\"fill-rule:nonzero;fill:rgb(100%,100%,100%);fill-opacity:1;stroke-width:1.066978;stroke-linecap:square;stroke-linejoin:miter;stroke:rgb(97.254902%,46.27451%,42.745098%);stroke-opacity:1;stroke-miterlimit:10;\" d=\"M 147.28125 322.472656 L 159.296875 322.472656 L 159.296875 273.171875 L 147.28125 273.171875 Z M 147.28125 322.472656 \"/>\n<path style=\"fill:none;stroke-width:1.066978;stroke-linecap:square;stroke-linejoin:miter;stroke:rgb(97.254902%,46.27451%,42.745098%);stroke-opacity:1;stroke-miterlimit:10;\" d=\"M 159.292969 421.070312 L 171.308594 421.070312 Z M 159.292969 421.070312 \"/>\n<path style=\"fill-rule:nonzero;fill:rgb(100%,100%,100%);fill-opacity:1;stroke-width:1.066978;stroke-linecap:square;stroke-linejoin:miter;stroke:rgb(97.254902%,46.27451%,42.745098%);stroke-opacity:1;stroke-miterlimit:10;\" d=\"M 171.308594 342.191406 L 183.324219 342.191406 L 183.324219 302.753906 L 171.308594 302.753906 Z M 171.308594 342.191406 \"/>\n<path style=\"fill:none;stroke-width:1.066978;stroke-linecap:square;stroke-linejoin:miter;stroke:rgb(97.254902%,46.27451%,42.745098%);stroke-opacity:1;stroke-miterlimit:10;\" d=\"M 183.320312 440.789062 L 195.335938 440.789062 Z M 183.320312 440.789062 \"/>\n<path style=\"fill-rule:nonzero;fill:rgb(100%,100%,100%);fill-opacity:1;stroke-width:1.066978;stroke-linecap:square;stroke-linejoin:miter;stroke:rgb(97.254902%,46.27451%,42.745098%);stroke-opacity:1;stroke-miterlimit:10;\" d=\"M 195.335938 322.472656 L 207.351562 322.472656 L 207.351562 263.3125 L 195.335938 263.3125 Z M 195.335938 322.472656 \"/>\n<path style=\"fill:none;stroke-width:1.066978;stroke-linecap:square;stroke-linejoin:miter;stroke:rgb(97.254902%,46.27451%,42.745098%);stroke-opacity:1;stroke-miterlimit:10;\" d=\"M 207.347656 450.652344 L 219.363281 450.652344 Z M 207.347656 450.652344 \"/>\n<path style=\"fill:none;stroke-width:1.066978;stroke-linecap:square;stroke-linejoin:miter;stroke:rgb(97.254902%,46.27451%,42.745098%);stroke-opacity:1;stroke-miterlimit:10;\" d=\"M 219.363281 430.929688 L 231.378906 430.929688 Z M 219.363281 430.929688 \"/>\n<path style=\"fill-rule:nonzero;fill:rgb(100%,100%,100%);fill-opacity:1;stroke-width:1.066978;stroke-linecap:square;stroke-linejoin:miter;stroke:rgb(97.254902%,46.27451%,42.745098%);stroke-opacity:1;stroke-miterlimit:10;\" d=\"M 231.375 391.492188 L 243.390625 391.492188 L 243.390625 342.191406 L 231.375 342.191406 Z M 231.375 391.492188 \"/>\n<path style=\"fill:none;stroke-width:1.066978;stroke-linecap:square;stroke-linejoin:miter;stroke:rgb(97.254902%,46.27451%,42.745098%);stroke-opacity:1;stroke-miterlimit:10;\" d=\"M 243.390625 450.652344 L 255.40625 450.652344 Z M 243.390625 450.652344 \"/>\n<path style=\"fill-rule:nonzero;fill:rgb(100%,100%,100%);fill-opacity:1;stroke-width:1.066978;stroke-linecap:square;stroke-linejoin:miter;stroke:rgb(97.254902%,46.27451%,42.745098%);stroke-opacity:1;stroke-miterlimit:10;\" d=\"M 255.402344 361.914062 L 267.417969 361.914062 L 267.417969 322.476562 L 255.402344 322.476562 Z M 255.402344 361.914062 \"/>\n<path style=\"fill:none;stroke-width:1.066978;stroke-linecap:square;stroke-linejoin:miter;stroke:rgb(97.254902%,46.27451%,42.745098%);stroke-opacity:1;stroke-miterlimit:10;\" d=\"M 267.417969 450.652344 L 279.433594 450.652344 Z M 267.417969 450.652344 \"/>\n<path style=\"fill-rule:nonzero;fill:rgb(100%,100%,100%);fill-opacity:1;stroke-width:1.066978;stroke-linecap:square;stroke-linejoin:miter;stroke:rgb(97.254902%,46.27451%,42.745098%);stroke-opacity:1;stroke-miterlimit:10;\" d=\"M 279.429688 283.035156 L 291.445312 283.035156 L 291.445312 26.679688 L 279.429688 26.679688 Z M 279.429688 283.035156 \"/>\n<path style=\"fill:none;stroke-width:1.066978;stroke-linecap:square;stroke-linejoin:miter;stroke:rgb(97.254902%,46.27451%,42.745098%);stroke-opacity:1;stroke-miterlimit:10;\" d=\"M 291.445312 440.789062 L 303.460938 440.789062 Z M 291.445312 440.789062 \"/>\n<path style=\"fill-rule:nonzero;fill:rgb(100%,100%,100%);fill-opacity:1;stroke-width:1.066978;stroke-linecap:square;stroke-linejoin:miter;stroke:rgb(97.254902%,46.27451%,42.745098%);stroke-opacity:1;stroke-miterlimit:10;\" d=\"M 303.457031 411.210938 L 315.472656 411.210938 L 315.472656 371.773438 L 303.457031 371.773438 Z M 303.457031 411.210938 \"/>\n<path style=\"fill-rule:nonzero;fill:rgb(100%,100%,100%);fill-opacity:1;stroke-width:1.066978;stroke-linecap:square;stroke-linejoin:miter;stroke:rgb(97.254902%,46.27451%,42.745098%);stroke-opacity:1;stroke-miterlimit:10;\" d=\"M 315.472656 450.652344 L 327.488281 450.652344 L 327.488281 440.792969 L 315.472656 440.792969 Z M 315.472656 450.652344 \"/>\n<path style=\"fill:none;stroke-width:1.066978;stroke-linecap:square;stroke-linejoin:miter;stroke:rgb(97.254902%,46.27451%,42.745098%);stroke-opacity:1;stroke-miterlimit:10;\" d=\"M 327.484375 401.351562 L 339.5 401.351562 Z M 327.484375 401.351562 \"/>\n<path style=\"fill:none;stroke-width:1.066978;stroke-linecap:square;stroke-linejoin:miter;stroke:rgb(97.254902%,46.27451%,42.745098%);stroke-opacity:1;stroke-miterlimit:10;\" d=\"M 339.5 450.652344 L 351.515625 450.652344 Z M 339.5 450.652344 \"/>\n<path style=\"fill:none;stroke-width:1.066978;stroke-linecap:square;stroke-linejoin:miter;stroke:rgb(97.254902%,46.27451%,42.745098%);stroke-opacity:1;stroke-miterlimit:10;\" d=\"M 351.515625 440.789062 L 363.53125 440.789062 Z M 351.515625 440.789062 \"/>\n<path style=\"fill:none;stroke-width:1.066978;stroke-linecap:square;stroke-linejoin:miter;stroke:rgb(97.254902%,46.27451%,42.745098%);stroke-opacity:1;stroke-miterlimit:10;\" d=\"M 363.527344 450.652344 L 375.542969 450.652344 Z M 363.527344 450.652344 \"/>\n<path style=\"fill-rule:nonzero;fill:rgb(100%,100%,100%);fill-opacity:1;stroke-width:1.066978;stroke-linecap:square;stroke-linejoin:miter;stroke:rgb(97.254902%,46.27451%,42.745098%);stroke-opacity:1;stroke-miterlimit:10;\" d=\"M 375.542969 381.632812 L 387.558594 381.632812 L 387.558594 292.894531 L 375.542969 292.894531 Z M 375.542969 381.632812 \"/>\n<path style=\"fill:none;stroke-width:1.066978;stroke-linecap:square;stroke-linejoin:miter;stroke:rgb(97.254902%,46.27451%,42.745098%);stroke-opacity:1;stroke-miterlimit:10;\" d=\"M 387.554688 450.652344 L 399.570312 450.652344 Z M 387.554688 450.652344 \"/>\n<path style=\"fill-rule:nonzero;fill:rgb(100%,100%,100%);fill-opacity:1;stroke-width:1.066978;stroke-linecap:square;stroke-linejoin:miter;stroke:rgb(97.254902%,46.27451%,42.745098%);stroke-opacity:1;stroke-miterlimit:10;\" d=\"M 399.570312 450.652344 L 411.585938 450.652344 L 411.585938 440.792969 L 399.570312 440.792969 Z M 399.570312 450.652344 \"/>\n<path style=\"fill:none;stroke-width:1.066978;stroke-linecap:square;stroke-linejoin:miter;stroke:rgb(0%,74.901961%,76.862745%);stroke-opacity:1;stroke-miterlimit:10;\" d=\"M 51.171875 450.652344 L 63.1875 450.652344 Z M 51.171875 450.652344 \"/>\n<path style=\"fill:none;stroke-width:1.066978;stroke-linecap:square;stroke-linejoin:miter;stroke:rgb(0%,74.901961%,76.862745%);stroke-opacity:1;stroke-miterlimit:10;\" d=\"M 63.183594 450.652344 L 75.199219 450.652344 Z M 63.183594 450.652344 \"/>\n<path style=\"fill-rule:nonzero;fill:rgb(100%,100%,100%);fill-opacity:1;stroke-width:1.066978;stroke-linecap:square;stroke-linejoin:miter;stroke:rgb(0%,74.901961%,76.862745%);stroke-opacity:1;stroke-miterlimit:10;\" d=\"M 75.199219 450.652344 L 87.214844 450.652344 L 87.214844 440.792969 L 75.199219 440.792969 Z M 75.199219 450.652344 \"/>\n<path style=\"fill:none;stroke-width:1.066978;stroke-linecap:square;stroke-linejoin:miter;stroke:rgb(0%,74.901961%,76.862745%);stroke-opacity:1;stroke-miterlimit:10;\" d=\"M 87.210938 450.652344 L 99.226562 450.652344 Z M 87.210938 450.652344 \"/>\n<path style=\"fill-rule:nonzero;fill:rgb(100%,100%,100%);fill-opacity:1;stroke-width:1.066978;stroke-linecap:square;stroke-linejoin:miter;stroke:rgb(0%,74.901961%,76.862745%);stroke-opacity:1;stroke-miterlimit:10;\" d=\"M 99.226562 450.652344 L 111.242188 450.652344 L 111.242188 302.753906 L 99.226562 302.753906 Z M 99.226562 450.652344 \"/>\n<path style=\"fill-rule:nonzero;fill:rgb(100%,100%,100%);fill-opacity:1;stroke-width:1.066978;stroke-linecap:square;stroke-linejoin:miter;stroke:rgb(0%,74.901961%,76.862745%);stroke-opacity:1;stroke-miterlimit:10;\" d=\"M 111.238281 450.652344 L 123.253906 450.652344 L 123.253906 430.933594 L 111.238281 430.933594 Z M 111.238281 450.652344 \"/>\n<path style=\"fill-rule:nonzero;fill:rgb(100%,100%,100%);fill-opacity:1;stroke-width:1.066978;stroke-linecap:square;stroke-linejoin:miter;stroke:rgb(0%,74.901961%,76.862745%);stroke-opacity:1;stroke-miterlimit:10;\" d=\"M 123.253906 450.652344 L 135.269531 450.652344 L 135.269531 204.15625 L 123.253906 204.15625 Z M 123.253906 450.652344 \"/>\n<path style=\"fill-rule:nonzero;fill:rgb(100%,100%,100%);fill-opacity:1;stroke-width:1.066978;stroke-linecap:square;stroke-linejoin:miter;stroke:rgb(0%,74.901961%,76.862745%);stroke-opacity:1;stroke-miterlimit:10;\" d=\"M 135.265625 450.652344 L 147.28125 450.652344 L 147.28125 411.214844 L 135.265625 411.214844 Z M 135.265625 450.652344 \"/>\n<path style=\"fill-rule:nonzero;fill:rgb(100%,100%,100%);fill-opacity:1;stroke-width:1.066978;stroke-linecap:square;stroke-linejoin:miter;stroke:rgb(0%,74.901961%,76.862745%);stroke-opacity:1;stroke-miterlimit:10;\" d=\"M 147.28125 450.652344 L 159.296875 450.652344 L 159.296875 322.472656 L 147.28125 322.472656 Z M 147.28125 450.652344 \"/>\n<path style=\"fill-rule:nonzero;fill:rgb(100%,100%,100%);fill-opacity:1;stroke-width:1.066978;stroke-linecap:square;stroke-linejoin:miter;stroke:rgb(0%,74.901961%,76.862745%);stroke-opacity:1;stroke-miterlimit:10;\" d=\"M 159.292969 450.652344 L 171.308594 450.652344 L 171.308594 421.074219 L 159.292969 421.074219 Z M 159.292969 450.652344 \"/>\n<path style=\"fill-rule:nonzero;fill:rgb(100%,100%,100%);fill-opacity:1;stroke-width:1.066978;stroke-linecap:square;stroke-linejoin:miter;stroke:rgb(0%,74.901961%,76.862745%);stroke-opacity:1;stroke-miterlimit:10;\" d=\"M 171.308594 450.652344 L 183.324219 450.652344 L 183.324219 342.195312 L 171.308594 342.195312 Z M 171.308594 450.652344 \"/>\n<path style=\"fill-rule:nonzero;fill:rgb(100%,100%,100%);fill-opacity:1;stroke-width:1.066978;stroke-linecap:square;stroke-linejoin:miter;stroke:rgb(0%,74.901961%,76.862745%);stroke-opacity:1;stroke-miterlimit:10;\" d=\"M 183.320312 450.652344 L 195.335938 450.652344 L 195.335938 440.792969 L 183.320312 440.792969 Z M 183.320312 450.652344 \"/>\n<path style=\"fill-rule:nonzero;fill:rgb(100%,100%,100%);fill-opacity:1;stroke-width:1.066978;stroke-linecap:square;stroke-linejoin:miter;stroke:rgb(0%,74.901961%,76.862745%);stroke-opacity:1;stroke-miterlimit:10;\" d=\"M 195.335938 450.652344 L 207.351562 450.652344 L 207.351562 322.472656 L 195.335938 322.472656 Z M 195.335938 450.652344 \"/>\n<path style=\"fill:none;stroke-width:1.066978;stroke-linecap:square;stroke-linejoin:miter;stroke:rgb(0%,74.901961%,76.862745%);stroke-opacity:1;stroke-miterlimit:10;\" d=\"M 207.347656 450.652344 L 219.363281 450.652344 Z M 207.347656 450.652344 \"/>\n<path style=\"fill-rule:nonzero;fill:rgb(100%,100%,100%);fill-opacity:1;stroke-width:1.066978;stroke-linecap:square;stroke-linejoin:miter;stroke:rgb(0%,74.901961%,76.862745%);stroke-opacity:1;stroke-miterlimit:10;\" d=\"M 219.363281 450.652344 L 231.378906 450.652344 L 231.378906 430.933594 L 219.363281 430.933594 Z M 219.363281 450.652344 \"/>\n<path style=\"fill-rule:nonzero;fill:rgb(100%,100%,100%);fill-opacity:1;stroke-width:1.066978;stroke-linecap:square;stroke-linejoin:miter;stroke:rgb(0%,74.901961%,76.862745%);stroke-opacity:1;stroke-miterlimit:10;\" d=\"M 231.375 450.652344 L 243.390625 450.652344 L 243.390625 391.492188 L 231.375 391.492188 Z M 231.375 450.652344 \"/>\n<path style=\"fill:none;stroke-width:1.066978;stroke-linecap:square;stroke-linejoin:miter;stroke:rgb(0%,74.901961%,76.862745%);stroke-opacity:1;stroke-miterlimit:10;\" d=\"M 243.390625 450.652344 L 255.40625 450.652344 Z M 243.390625 450.652344 \"/>\n<path style=\"fill-rule:nonzero;fill:rgb(100%,100%,100%);fill-opacity:1;stroke-width:1.066978;stroke-linecap:square;stroke-linejoin:miter;stroke:rgb(0%,74.901961%,76.862745%);stroke-opacity:1;stroke-miterlimit:10;\" d=\"M 255.402344 450.652344 L 267.417969 450.652344 L 267.417969 361.914062 L 255.402344 361.914062 Z M 255.402344 450.652344 \"/>\n<path style=\"fill:none;stroke-width:1.066978;stroke-linecap:square;stroke-linejoin:miter;stroke:rgb(0%,74.901961%,76.862745%);stroke-opacity:1;stroke-miterlimit:10;\" d=\"M 267.417969 450.652344 L 279.433594 450.652344 Z M 267.417969 450.652344 \"/>\n<path style=\"fill-rule:nonzero;fill:rgb(100%,100%,100%);fill-opacity:1;stroke-width:1.066978;stroke-linecap:square;stroke-linejoin:miter;stroke:rgb(0%,74.901961%,76.862745%);stroke-opacity:1;stroke-miterlimit:10;\" d=\"M 279.429688 450.652344 L 291.445312 450.652344 L 291.445312 283.035156 L 279.429688 283.035156 Z M 279.429688 450.652344 \"/>\n<path style=\"fill-rule:nonzero;fill:rgb(100%,100%,100%);fill-opacity:1;stroke-width:1.066978;stroke-linecap:square;stroke-linejoin:miter;stroke:rgb(0%,74.901961%,76.862745%);stroke-opacity:1;stroke-miterlimit:10;\" d=\"M 291.445312 450.652344 L 303.460938 450.652344 L 303.460938 440.792969 L 291.445312 440.792969 Z M 291.445312 450.652344 \"/>\n<path style=\"fill-rule:nonzero;fill:rgb(100%,100%,100%);fill-opacity:1;stroke-width:1.066978;stroke-linecap:square;stroke-linejoin:miter;stroke:rgb(0%,74.901961%,76.862745%);stroke-opacity:1;stroke-miterlimit:10;\" d=\"M 303.457031 450.652344 L 315.472656 450.652344 L 315.472656 411.214844 L 303.457031 411.214844 Z M 303.457031 450.652344 \"/>\n<path style=\"fill:none;stroke-width:1.066978;stroke-linecap:square;stroke-linejoin:miter;stroke:rgb(0%,74.901961%,76.862745%);stroke-opacity:1;stroke-miterlimit:10;\" d=\"M 315.472656 450.652344 L 327.488281 450.652344 Z M 315.472656 450.652344 \"/>\n<path style=\"fill-rule:nonzero;fill:rgb(100%,100%,100%);fill-opacity:1;stroke-width:1.066978;stroke-linecap:square;stroke-linejoin:miter;stroke:rgb(0%,74.901961%,76.862745%);stroke-opacity:1;stroke-miterlimit:10;\" d=\"M 327.484375 450.652344 L 339.5 450.652344 L 339.5 401.351562 L 327.484375 401.351562 Z M 327.484375 450.652344 \"/>\n<path style=\"fill:none;stroke-width:1.066978;stroke-linecap:square;stroke-linejoin:miter;stroke:rgb(0%,74.901961%,76.862745%);stroke-opacity:1;stroke-miterlimit:10;\" d=\"M 339.5 450.652344 L 351.515625 450.652344 Z M 339.5 450.652344 \"/>\n<path style=\"fill-rule:nonzero;fill:rgb(100%,100%,100%);fill-opacity:1;stroke-width:1.066978;stroke-linecap:square;stroke-linejoin:miter;stroke:rgb(0%,74.901961%,76.862745%);stroke-opacity:1;stroke-miterlimit:10;\" d=\"M 351.515625 450.652344 L 363.53125 450.652344 L 363.53125 440.792969 L 351.515625 440.792969 Z M 351.515625 450.652344 \"/>\n<path style=\"fill:none;stroke-width:1.066978;stroke-linecap:square;stroke-linejoin:miter;stroke:rgb(0%,74.901961%,76.862745%);stroke-opacity:1;stroke-miterlimit:10;\" d=\"M 363.527344 450.652344 L 375.542969 450.652344 Z M 363.527344 450.652344 \"/>\n<path style=\"fill-rule:nonzero;fill:rgb(100%,100%,100%);fill-opacity:1;stroke-width:1.066978;stroke-linecap:square;stroke-linejoin:miter;stroke:rgb(0%,74.901961%,76.862745%);stroke-opacity:1;stroke-miterlimit:10;\" d=\"M 375.542969 450.652344 L 387.558594 450.652344 L 387.558594 381.632812 L 375.542969 381.632812 Z M 375.542969 450.652344 \"/>\n<path style=\"fill:none;stroke-width:1.066978;stroke-linecap:square;stroke-linejoin:miter;stroke:rgb(0%,74.901961%,76.862745%);stroke-opacity:1;stroke-miterlimit:10;\" d=\"M 387.554688 450.652344 L 399.570312 450.652344 Z M 387.554688 450.652344 \"/>\n<path style=\"fill:none;stroke-width:1.066978;stroke-linecap:square;stroke-linejoin:miter;stroke:rgb(0%,74.901961%,76.862745%);stroke-opacity:1;stroke-miterlimit:10;\" d=\"M 399.570312 450.652344 L 411.585938 450.652344 Z M 399.570312 450.652344 \"/>\n<g style=\"fill:rgb(30.196078%,30.196078%,30.196078%);fill-opacity:1;\">\n  <use xlink:href=\"#glyph0-1\" x=\"23.21875\" y=\"454.118164\"/>\n</g>\n<g style=\"fill:rgb(30.196078%,30.196078%,30.196078%);fill-opacity:1;\">\n  <use xlink:href=\"#glyph0-2\" x=\"18.21875\" y=\"355.516602\"/>\n  <use xlink:href=\"#glyph0-1\" x=\"23.21875\" y=\"355.516602\"/>\n</g>\n<g style=\"fill:rgb(30.196078%,30.196078%,30.196078%);fill-opacity:1;\">\n  <use xlink:href=\"#glyph0-3\" x=\"18.21875\" y=\"256.918945\"/>\n  <use xlink:href=\"#glyph0-1\" x=\"23.21875\" y=\"256.918945\"/>\n</g>\n<g style=\"fill:rgb(30.196078%,30.196078%,30.196078%);fill-opacity:1;\">\n  <use xlink:href=\"#glyph0-4\" x=\"18.21875\" y=\"158.321289\"/>\n  <use xlink:href=\"#glyph0-1\" x=\"23.21875\" y=\"158.321289\"/>\n</g>\n<g style=\"fill:rgb(30.196078%,30.196078%,30.196078%);fill-opacity:1;\">\n  <use xlink:href=\"#glyph0-5\" x=\"18.21875\" y=\"59.723633\"/>\n  <use xlink:href=\"#glyph0-1\" x=\"23.21875\" y=\"59.723633\"/>\n</g>\n<path style=\"fill:none;stroke-width:1.066978;stroke-linecap:butt;stroke-linejoin:round;stroke:rgb(20%,20%,20%);stroke-opacity:1;stroke-miterlimit:10;\" d=\"M 30.410156 450.652344 L 33.152344 450.652344 \"/>\n<path style=\"fill:none;stroke-width:1.066978;stroke-linecap:butt;stroke-linejoin:round;stroke:rgb(20%,20%,20%);stroke-opacity:1;stroke-miterlimit:10;\" d=\"M 30.410156 352.050781 L 33.152344 352.050781 \"/>\n<path style=\"fill:none;stroke-width:1.066978;stroke-linecap:butt;stroke-linejoin:round;stroke:rgb(20%,20%,20%);stroke-opacity:1;stroke-miterlimit:10;\" d=\"M 30.410156 253.453125 L 33.152344 253.453125 \"/>\n<path style=\"fill:none;stroke-width:1.066978;stroke-linecap:butt;stroke-linejoin:round;stroke:rgb(20%,20%,20%);stroke-opacity:1;stroke-miterlimit:10;\" d=\"M 30.410156 154.855469 L 33.152344 154.855469 \"/>\n<path style=\"fill:none;stroke-width:1.066978;stroke-linecap:butt;stroke-linejoin:round;stroke:rgb(20%,20%,20%);stroke-opacity:1;stroke-miterlimit:10;\" d=\"M 30.410156 56.257812 L 33.152344 56.257812 \"/>\n<path style=\"fill:none;stroke-width:1.066978;stroke-linecap:butt;stroke-linejoin:round;stroke:rgb(20%,20%,20%);stroke-opacity:1;stroke-miterlimit:10;\" d=\"M 132.691406 474.589844 L 132.691406 471.847656 \"/>\n<path style=\"fill:none;stroke-width:1.066978;stroke-linecap:butt;stroke-linejoin:round;stroke:rgb(20%,20%,20%);stroke-opacity:1;stroke-miterlimit:10;\" d=\"M 232.234375 474.589844 L 232.234375 471.847656 \"/>\n<path style=\"fill:none;stroke-width:1.066978;stroke-linecap:butt;stroke-linejoin:round;stroke:rgb(20%,20%,20%);stroke-opacity:1;stroke-miterlimit:10;\" d=\"M 331.777344 474.589844 L 331.777344 471.847656 \"/>\n<g style=\"fill:rgb(30.196078%,30.196078%,30.196078%);fill-opacity:1;\">\n  <use xlink:href=\"#glyph0-3\" x=\"127.691406\" y=\"483.74707\"/>\n  <use xlink:href=\"#glyph0-1\" x=\"132.691406\" y=\"483.74707\"/>\n</g>\n<g style=\"fill:rgb(30.196078%,30.196078%,30.196078%);fill-opacity:1;\">\n  <use xlink:href=\"#glyph0-5\" x=\"227.234375\" y=\"483.74707\"/>\n  <use xlink:href=\"#glyph0-1\" x=\"232.234375\" y=\"483.74707\"/>\n</g>\n<g style=\"fill:rgb(30.196078%,30.196078%,30.196078%);fill-opacity:1;\">\n  <use xlink:href=\"#glyph0-6\" x=\"326.777344\" y=\"483.74707\"/>\n  <use xlink:href=\"#glyph0-1\" x=\"331.777344\" y=\"483.74707\"/>\n</g>\n<g style=\"fill:rgb(0%,0%,0%);fill-opacity:1;\">\n  <use xlink:href=\"#glyph1-1\" x=\"222.875\" y=\"496.477539\"/>\n  <use xlink:href=\"#glyph1-2\" x=\"224.875\" y=\"496.477539\"/>\n  <use xlink:href=\"#glyph1-3\" x=\"230.875\" y=\"496.477539\"/>\n  <use xlink:href=\"#glyph1-4\" x=\"236.875\" y=\"496.477539\"/>\n</g>\n<g style=\"fill:rgb(0%,0%,0%);fill-opacity:1;\">\n  <use xlink:href=\"#glyph2-1\" x=\"13.438477\" y=\"252.164062\"/>\n  <use xlink:href=\"#glyph2-2\" x=\"13.438477\" y=\"246.164062\"/>\n  <use xlink:href=\"#glyph2-3\" x=\"13.438477\" y=\"240.164062\"/>\n  <use xlink:href=\"#glyph2-4\" x=\"13.438477\" y=\"234.164062\"/>\n  <use xlink:href=\"#glyph2-5\" x=\"13.438477\" y=\"228.164062\"/>\n</g>\n<path style=\" stroke:none;fill-rule:nonzero;fill:rgb(100%,100%,100%);fill-opacity:1;\" d=\"M 440.5625 269.164062 L 498.519531 269.164062 L 498.519531 208.164062 L 440.5625 208.164062 Z M 440.5625 269.164062 \"/>\n<g style=\"fill:rgb(0%,0%,0%);fill-opacity:1;\">\n  <use xlink:href=\"#glyph1-5\" x=\"446.042969\" y=\"222.602539\"/>\n  <use xlink:href=\"#glyph1-6\" x=\"455.042969\" y=\"222.602539\"/>\n  <use xlink:href=\"#glyph1-7\" x=\"462.042969\" y=\"222.602539\"/>\n  <use xlink:href=\"#glyph1-8\" x=\"470.042969\" y=\"222.602539\"/>\n  <use xlink:href=\"#glyph1-6\" x=\"478.042969\" y=\"222.602539\"/>\n  <use xlink:href=\"#glyph1-9\" x=\"485.042969\" y=\"222.602539\"/>\n</g>\n<path style=\" stroke:none;fill-rule:nonzero;fill:rgb(94.901961%,94.901961%,94.901961%);fill-opacity:1;\" d=\"M 446.042969 246.402344 L 463.324219 246.402344 L 463.324219 229.121094 L 446.042969 229.121094 Z M 446.042969 246.402344 \"/>\n<path style=\"fill-rule:nonzero;fill:rgb(100%,100%,100%);fill-opacity:1;stroke-width:1.066978;stroke-linecap:square;stroke-linejoin:miter;stroke:rgb(97.254902%,46.27451%,42.745098%);stroke-opacity:1;stroke-miterlimit:10;\" d=\"M 446.75 245.695312 L 462.613281 245.695312 L 462.613281 229.832031 L 446.75 229.832031 Z M 446.75 245.695312 \"/>\n<path style=\" stroke:none;fill-rule:nonzero;fill:rgb(94.901961%,94.901961%,94.901961%);fill-opacity:1;\" d=\"M 446.042969 263.683594 L 463.324219 263.683594 L 463.324219 246.402344 L 446.042969 246.402344 Z M 446.042969 263.683594 \"/>\n<path style=\"fill-rule:nonzero;fill:rgb(100%,100%,100%);fill-opacity:1;stroke-width:1.066978;stroke-linecap:square;stroke-linejoin:miter;stroke:rgb(0%,74.901961%,76.862745%);stroke-opacity:1;stroke-miterlimit:10;\" d=\"M 446.75 262.976562 L 462.613281 262.976562 L 462.613281 247.113281 L 446.75 247.113281 Z M 446.75 262.976562 \"/>\n<g style=\"fill:rgb(0%,0%,0%);fill-opacity:1;\">\n  <use xlink:href=\"#glyph0-7\" x=\"468.800781\" y=\"241.231445\"/>\n</g>\n<g style=\"fill:rgb(0%,0%,0%);fill-opacity:1;\">\n  <use xlink:href=\"#glyph0-8\" x=\"468.800781\" y=\"258.508789\"/>\n</g>\n</g>\n</svg>\n",
      "text/plain": [
       "plot without title"
      ]
     },
     "metadata": {
      "application/pdf": {
       "height": 420,
       "width": 420
      },
      "image/jpeg": {
       "height": 420,
       "width": 420
      },
      "image/png": {
       "height": 420,
       "width": 420
      },
      "image/svg+xml": {
       "height": 420,
       "isolated": true,
       "width": 420
      }
     },
     "output_type": "display_data"
    }
   ],
   "source": [
    "ggplot(cohort_clean, aes(x=lvef, color=GENDER)) + geom_histogram(fill=\"white\")"
   ]
  },
  {
   "cell_type": "code",
   "execution_count": 25,
   "metadata": {
    "vscode": {
     "languageId": "r"
    }
   },
   "outputs": [
    {
     "name": "stderr",
     "output_type": "stream",
     "text": [
      "`stat_bin()` using `bins = 30`. Pick better value with `binwidth`.\n",
      "\n"
     ]
    },
    {
     "data": {
      "application/pdf": "[encoded data removed]",
      "image/jpeg": "[encoded data removed]",
      "image/png": "[encoded data removed]",
      "image/svg+xml": "<?xml version=\"1.0\" encoding=\"UTF-8\"?>\n<svg xmlns=\"http://www.w3.org/2000/svg\" xmlns:xlink=\"http://www.w3.org/1999/xlink\" width=\"504pt\" height=\"504pt\" viewBox=\"0 0 504 504\" version=\"1.1\">\n<defs>\n<g>\n<symbol overflow=\"visible\" id=\"glyph0-0\">\n<path style=\"stroke:none;\" d=\"M 0.296875 0 L 0.296875 -5.859375 L 2.625 -5.859375 L 2.625 0 Z M 0.578125 -0.296875 L 2.34375 -0.296875 L 2.34375 -5.578125 L 0.578125 -5.578125 Z M 0.578125 -0.296875 \"/>\n</symbol>\n<symbol overflow=\"visible\" id=\"glyph0-1\">\n<path style=\"stroke:none;\" d=\"M 4.546875 -3.03125 C 4.546875 -2.445312 4.488281 -1.957031 4.375 -1.5625 C 4.269531 -1.164062 4.117188 -0.84375 3.921875 -0.59375 C 3.734375 -0.351562 3.507812 -0.179688 3.25 -0.078125 C 3 0.0234375 2.726562 0.078125 2.4375 0.078125 C 2.144531 0.078125 1.867188 0.0234375 1.609375 -0.078125 C 1.359375 -0.179688 1.140625 -0.351562 0.953125 -0.59375 C 0.765625 -0.84375 0.613281 -1.164062 0.5 -1.5625 C 0.394531 -1.957031 0.34375 -2.445312 0.34375 -3.03125 C 0.34375 -3.632812 0.394531 -4.132812 0.5 -4.53125 C 0.613281 -4.9375 0.765625 -5.257812 0.953125 -5.5 C 1.140625 -5.738281 1.359375 -5.90625 1.609375 -6 C 1.867188 -6.09375 2.15625 -6.140625 2.46875 -6.140625 C 2.75 -6.140625 3.015625 -6.09375 3.265625 -6 C 3.523438 -5.90625 3.75 -5.738281 3.9375 -5.5 C 4.125 -5.257812 4.269531 -4.9375 4.375 -4.53125 C 4.488281 -4.132812 4.546875 -3.632812 4.546875 -3.03125 Z M 3.765625 -3.03125 C 3.765625 -3.507812 3.734375 -3.90625 3.671875 -4.21875 C 3.617188 -4.539062 3.535156 -4.796875 3.421875 -4.984375 C 3.304688 -5.179688 3.164062 -5.316406 3 -5.390625 C 2.84375 -5.472656 2.664062 -5.515625 2.46875 -5.515625 C 2.25 -5.515625 2.054688 -5.472656 1.890625 -5.390625 C 1.722656 -5.316406 1.582031 -5.179688 1.46875 -4.984375 C 1.351562 -4.796875 1.265625 -4.539062 1.203125 -4.21875 C 1.148438 -3.90625 1.125 -3.507812 1.125 -3.03125 C 1.125 -2.5625 1.148438 -2.164062 1.203125 -1.84375 C 1.265625 -1.53125 1.351562 -1.273438 1.46875 -1.078125 C 1.582031 -0.890625 1.71875 -0.753906 1.875 -0.671875 C 2.039062 -0.585938 2.226562 -0.546875 2.4375 -0.546875 C 2.644531 -0.546875 2.828125 -0.585938 2.984375 -0.671875 C 3.148438 -0.753906 3.289062 -0.890625 3.40625 -1.078125 C 3.519531 -1.273438 3.609375 -1.53125 3.671875 -1.84375 C 3.734375 -2.164062 3.765625 -2.5625 3.765625 -3.03125 Z M 3.765625 -3.03125 \"/>\n</symbol>\n<symbol overflow=\"visible\" id=\"glyph0-2\">\n<path style=\"stroke:none;\" d=\"M 0.671875 0 L 0.671875 -0.65625 L 2.21875 -0.65625 L 2.21875 -5.3125 L 0.84375 -4.34375 L 0.84375 -5.0625 L 2.28125 -6.046875 L 2.984375 -6.046875 L 2.984375 -0.65625 L 4.46875 -0.65625 L 4.46875 0 Z M 0.671875 0 \"/>\n</symbol>\n<symbol overflow=\"visible\" id=\"glyph0-3\">\n<path style=\"stroke:none;\" d=\"M 0.4375 0 L 0.4375 -0.546875 C 0.582031 -0.878906 0.757812 -1.171875 0.96875 -1.421875 C 1.1875 -1.679688 1.410156 -1.914062 1.640625 -2.125 C 1.867188 -2.332031 2.097656 -2.523438 2.328125 -2.703125 C 2.554688 -2.878906 2.757812 -3.054688 2.9375 -3.234375 C 3.125 -3.410156 3.273438 -3.597656 3.390625 -3.796875 C 3.503906 -3.992188 3.5625 -4.210938 3.5625 -4.453125 C 3.5625 -4.628906 3.535156 -4.78125 3.484375 -4.90625 C 3.429688 -5.039062 3.351562 -5.148438 3.25 -5.234375 C 3.15625 -5.328125 3.039062 -5.394531 2.90625 -5.4375 C 2.769531 -5.476562 2.617188 -5.5 2.453125 -5.5 C 2.296875 -5.5 2.148438 -5.476562 2.015625 -5.4375 C 1.878906 -5.394531 1.757812 -5.332031 1.65625 -5.25 C 1.550781 -5.164062 1.460938 -5.054688 1.390625 -4.921875 C 1.328125 -4.796875 1.285156 -4.648438 1.265625 -4.484375 L 0.484375 -4.5625 C 0.503906 -4.78125 0.5625 -4.984375 0.65625 -5.171875 C 0.75 -5.359375 0.878906 -5.523438 1.046875 -5.671875 C 1.210938 -5.816406 1.410156 -5.929688 1.640625 -6.015625 C 1.878906 -6.097656 2.148438 -6.140625 2.453125 -6.140625 C 2.753906 -6.140625 3.019531 -6.101562 3.25 -6.03125 C 3.488281 -5.957031 3.6875 -5.847656 3.84375 -5.703125 C 4.007812 -5.566406 4.132812 -5.394531 4.21875 -5.1875 C 4.3125 -4.988281 4.359375 -4.753906 4.359375 -4.484375 C 4.359375 -4.273438 4.320312 -4.078125 4.25 -3.890625 C 4.175781 -3.710938 4.078125 -3.539062 3.953125 -3.375 C 3.828125 -3.207031 3.6875 -3.046875 3.53125 -2.890625 C 3.375 -2.742188 3.207031 -2.59375 3.03125 -2.4375 C 2.851562 -2.289062 2.675781 -2.144531 2.5 -2 C 2.320312 -1.863281 2.15625 -1.722656 2 -1.578125 C 1.84375 -1.429688 1.703125 -1.28125 1.578125 -1.125 C 1.453125 -0.976562 1.359375 -0.820312 1.296875 -0.65625 L 4.453125 -0.65625 L 4.453125 0 Z M 0.4375 0 \"/>\n</symbol>\n<symbol overflow=\"visible\" id=\"glyph0-4\">\n<path style=\"stroke:none;\" d=\"M 4.5 -1.671875 C 4.5 -1.390625 4.453125 -1.140625 4.359375 -0.921875 C 4.273438 -0.703125 4.144531 -0.519531 3.96875 -0.375 C 3.800781 -0.226562 3.585938 -0.113281 3.328125 -0.03125 C 3.078125 0.0390625 2.785156 0.078125 2.453125 0.078125 C 2.078125 0.078125 1.757812 0.0351562 1.5 -0.046875 C 1.25 -0.140625 1.039062 -0.265625 0.875 -0.421875 C 0.707031 -0.578125 0.582031 -0.75 0.5 -0.9375 C 0.414062 -1.132812 0.359375 -1.34375 0.328125 -1.5625 L 1.140625 -1.625 C 1.160156 -1.46875 1.203125 -1.320312 1.265625 -1.1875 C 1.328125 -1.0625 1.410156 -0.945312 1.515625 -0.84375 C 1.617188 -0.75 1.75 -0.675781 1.90625 -0.625 C 2.0625 -0.570312 2.242188 -0.546875 2.453125 -0.546875 C 2.835938 -0.546875 3.140625 -0.640625 3.359375 -0.828125 C 3.585938 -1.023438 3.703125 -1.316406 3.703125 -1.703125 C 3.703125 -1.921875 3.648438 -2.097656 3.546875 -2.234375 C 3.453125 -2.367188 3.332031 -2.472656 3.1875 -2.546875 C 3.039062 -2.628906 2.878906 -2.679688 2.703125 -2.703125 C 2.523438 -2.734375 2.363281 -2.75 2.21875 -2.75 L 1.78125 -2.75 L 1.78125 -3.421875 L 2.203125 -3.421875 C 2.347656 -3.421875 2.5 -3.429688 2.65625 -3.453125 C 2.820312 -3.484375 2.96875 -3.535156 3.09375 -3.609375 C 3.226562 -3.691406 3.335938 -3.800781 3.421875 -3.9375 C 3.503906 -4.070312 3.546875 -4.242188 3.546875 -4.453125 C 3.546875 -4.773438 3.445312 -5.03125 3.25 -5.21875 C 3.0625 -5.40625 2.78125 -5.5 2.40625 -5.5 C 2.070312 -5.5 1.796875 -5.410156 1.578125 -5.234375 C 1.367188 -5.066406 1.25 -4.820312 1.21875 -4.5 L 0.4375 -4.5625 C 0.46875 -4.832031 0.539062 -5.066406 0.65625 -5.265625 C 0.769531 -5.460938 0.914062 -5.625 1.09375 -5.75 C 1.269531 -5.882812 1.46875 -5.984375 1.6875 -6.046875 C 1.914062 -6.109375 2.160156 -6.140625 2.421875 -6.140625 C 2.753906 -6.140625 3.039062 -6.097656 3.28125 -6.015625 C 3.53125 -5.929688 3.734375 -5.816406 3.890625 -5.671875 C 4.046875 -5.523438 4.160156 -5.351562 4.234375 -5.15625 C 4.304688 -4.96875 4.34375 -4.765625 4.34375 -4.546875 C 4.34375 -4.367188 4.316406 -4.203125 4.265625 -4.046875 C 4.210938 -3.890625 4.132812 -3.75 4.03125 -3.625 C 3.9375 -3.5 3.804688 -3.390625 3.640625 -3.296875 C 3.484375 -3.210938 3.296875 -3.148438 3.078125 -3.109375 L 3.078125 -3.09375 C 3.316406 -3.0625 3.523438 -3.003906 3.703125 -2.921875 C 3.890625 -2.835938 4.039062 -2.734375 4.15625 -2.609375 C 4.269531 -2.484375 4.351562 -2.335938 4.40625 -2.171875 C 4.46875 -2.015625 4.5 -1.847656 4.5 -1.671875 Z M 4.5 -1.671875 \"/>\n</symbol>\n<symbol overflow=\"visible\" id=\"glyph0-5\">\n<path style=\"stroke:none;\" d=\"M 3.78125 -1.375 L 3.78125 0 L 3.046875 0 L 3.046875 -1.375 L 0.203125 -1.375 L 0.203125 -1.96875 L 2.96875 -6.046875 L 3.78125 -6.046875 L 3.78125 -1.984375 L 4.640625 -1.984375 L 4.640625 -1.375 Z M 3.046875 -5.1875 C 3.046875 -5.164062 3.035156 -5.132812 3.015625 -5.09375 C 2.992188 -5.050781 2.96875 -5.003906 2.9375 -4.953125 C 2.90625 -4.898438 2.875 -4.847656 2.84375 -4.796875 C 2.8125 -4.742188 2.785156 -4.703125 2.765625 -4.671875 L 1.21875 -2.390625 C 1.195312 -2.359375 1.171875 -2.320312 1.140625 -2.28125 C 1.117188 -2.25 1.09375 -2.210938 1.0625 -2.171875 C 1.039062 -2.140625 1.015625 -2.101562 0.984375 -2.0625 C 0.953125 -2.03125 0.929688 -2.003906 0.921875 -1.984375 L 3.046875 -1.984375 Z M 3.046875 -5.1875 \"/>\n</symbol>\n<symbol overflow=\"visible\" id=\"glyph0-6\">\n<path style=\"stroke:none;\" d=\"M 4.5 -1.984375 C 4.5 -1.679688 4.457031 -1.398438 4.375 -1.140625 C 4.289062 -0.890625 4.164062 -0.671875 4 -0.484375 C 3.84375 -0.304688 3.640625 -0.164062 3.390625 -0.0625 C 3.148438 0.03125 2.867188 0.078125 2.546875 0.078125 C 2.191406 0.078125 1.882812 0.015625 1.625 -0.109375 C 1.363281 -0.242188 1.144531 -0.4375 0.96875 -0.6875 C 0.789062 -0.945312 0.660156 -1.257812 0.578125 -1.625 C 0.492188 -2 0.453125 -2.421875 0.453125 -2.890625 C 0.453125 -3.421875 0.5 -3.890625 0.59375 -4.296875 C 0.695312 -4.703125 0.835938 -5.039062 1.015625 -5.3125 C 1.203125 -5.59375 1.429688 -5.800781 1.703125 -5.9375 C 1.972656 -6.070312 2.273438 -6.140625 2.609375 -6.140625 C 2.816406 -6.140625 3.007812 -6.117188 3.1875 -6.078125 C 3.375 -6.035156 3.539062 -5.960938 3.6875 -5.859375 C 3.832031 -5.765625 3.957031 -5.640625 4.0625 -5.484375 C 4.175781 -5.328125 4.269531 -5.132812 4.34375 -4.90625 L 3.59375 -4.78125 C 3.519531 -5.039062 3.394531 -5.226562 3.21875 -5.34375 C 3.039062 -5.457031 2.835938 -5.515625 2.609375 -5.515625 C 2.390625 -5.515625 2.191406 -5.460938 2.015625 -5.359375 C 1.847656 -5.265625 1.703125 -5.117188 1.578125 -4.921875 C 1.460938 -4.722656 1.375 -4.472656 1.3125 -4.171875 C 1.25 -3.867188 1.21875 -3.515625 1.21875 -3.109375 C 1.351562 -3.367188 1.546875 -3.566406 1.796875 -3.703125 C 2.054688 -3.835938 2.351562 -3.90625 2.6875 -3.90625 C 2.957031 -3.90625 3.203125 -3.859375 3.421875 -3.765625 C 3.648438 -3.679688 3.84375 -3.554688 4 -3.390625 C 4.164062 -3.222656 4.289062 -3.019531 4.375 -2.78125 C 4.457031 -2.539062 4.5 -2.273438 4.5 -1.984375 Z M 3.71875 -1.953125 C 3.71875 -2.160156 3.691406 -2.347656 3.640625 -2.515625 C 3.585938 -2.679688 3.507812 -2.820312 3.40625 -2.9375 C 3.300781 -3.0625 3.171875 -3.15625 3.015625 -3.21875 C 2.867188 -3.28125 2.695312 -3.3125 2.5 -3.3125 C 2.363281 -3.3125 2.222656 -3.289062 2.078125 -3.25 C 1.929688 -3.207031 1.800781 -3.140625 1.6875 -3.046875 C 1.570312 -2.953125 1.476562 -2.828125 1.40625 -2.671875 C 1.332031 -2.523438 1.296875 -2.34375 1.296875 -2.125 C 1.296875 -1.90625 1.320312 -1.695312 1.375 -1.5 C 1.4375 -1.3125 1.519531 -1.144531 1.625 -1 C 1.726562 -0.851562 1.851562 -0.738281 2 -0.65625 C 2.15625 -0.570312 2.332031 -0.53125 2.53125 -0.53125 C 2.71875 -0.53125 2.882812 -0.5625 3.03125 -0.625 C 3.175781 -0.695312 3.300781 -0.789062 3.40625 -0.90625 C 3.507812 -1.03125 3.585938 -1.179688 3.640625 -1.359375 C 3.691406 -1.535156 3.71875 -1.734375 3.71875 -1.953125 Z M 3.71875 -1.953125 \"/>\n</symbol>\n<symbol overflow=\"visible\" id=\"glyph1-0\">\n<path style=\"stroke:none;\" d=\"M 0.359375 0 L 0.359375 -7.328125 L 3.28125 -7.328125 L 3.28125 0 Z M 0.734375 -0.359375 L 2.921875 -0.359375 L 2.921875 -6.96875 L 0.734375 -6.96875 Z M 0.734375 -0.359375 \"/>\n</symbol>\n<symbol overflow=\"visible\" id=\"glyph1-1\">\n<path style=\"stroke:none;\" d=\"M 0.734375 0 L 0.734375 -7.96875 L 1.703125 -7.96875 L 1.703125 0 Z M 0.734375 0 \"/>\n</symbol>\n<symbol overflow=\"visible\" id=\"glyph1-2\">\n<path style=\"stroke:none;\" d=\"M 3.296875 0 L 2.15625 0 L 0.03125 -5.8125 L 1.0625 -5.8125 L 2.34375 -2.03125 C 2.375 -1.945312 2.40625 -1.847656 2.4375 -1.734375 C 2.46875 -1.628906 2.5 -1.515625 2.53125 -1.390625 C 2.570312 -1.265625 2.609375 -1.144531 2.640625 -1.03125 C 2.671875 -0.925781 2.695312 -0.832031 2.71875 -0.75 C 2.738281 -0.832031 2.765625 -0.925781 2.796875 -1.03125 C 2.835938 -1.144531 2.875 -1.257812 2.90625 -1.375 C 2.9375 -1.5 2.972656 -1.617188 3.015625 -1.734375 C 3.054688 -1.847656 3.085938 -1.941406 3.109375 -2.015625 L 4.4375 -5.8125 L 5.46875 -5.8125 Z M 3.296875 0 \"/>\n</symbol>\n<symbol overflow=\"visible\" id=\"glyph1-3\">\n<path style=\"stroke:none;\" d=\"M 1.484375 -2.703125 C 1.484375 -2.398438 1.515625 -2.117188 1.578125 -1.859375 C 1.640625 -1.609375 1.734375 -1.390625 1.859375 -1.203125 C 1.992188 -1.015625 2.160156 -0.867188 2.359375 -0.765625 C 2.566406 -0.671875 2.816406 -0.625 3.109375 -0.625 C 3.523438 -0.625 3.859375 -0.707031 4.109375 -0.875 C 4.359375 -1.039062 4.53125 -1.253906 4.625 -1.515625 L 5.46875 -1.265625 C 5.40625 -1.109375 5.316406 -0.945312 5.203125 -0.78125 C 5.097656 -0.613281 4.953125 -0.460938 4.765625 -0.328125 C 4.585938 -0.203125 4.363281 -0.0976562 4.09375 -0.015625 C 3.820312 0.0664062 3.492188 0.109375 3.109375 0.109375 C 2.242188 0.109375 1.585938 -0.144531 1.140625 -0.65625 C 0.691406 -1.164062 0.46875 -1.925781 0.46875 -2.9375 C 0.46875 -3.488281 0.535156 -3.953125 0.671875 -4.328125 C 0.804688 -4.703125 0.988281 -5.007812 1.21875 -5.25 C 1.457031 -5.488281 1.734375 -5.660156 2.046875 -5.765625 C 2.367188 -5.867188 2.707031 -5.921875 3.0625 -5.921875 C 3.550781 -5.921875 3.957031 -5.84375 4.28125 -5.6875 C 4.613281 -5.53125 4.878906 -5.3125 5.078125 -5.03125 C 5.273438 -4.75 5.414062 -4.421875 5.5 -4.046875 C 5.582031 -3.671875 5.625 -3.265625 5.625 -2.828125 L 5.625 -2.703125 Z M 4.625 -3.4375 C 4.570312 -4.050781 4.414062 -4.5 4.15625 -4.78125 C 3.90625 -5.0625 3.535156 -5.203125 3.046875 -5.203125 C 2.890625 -5.203125 2.722656 -5.175781 2.546875 -5.125 C 2.367188 -5.070312 2.203125 -4.976562 2.046875 -4.84375 C 1.898438 -4.71875 1.773438 -4.539062 1.671875 -4.3125 C 1.566406 -4.082031 1.507812 -3.789062 1.5 -3.4375 Z M 4.625 -3.4375 \"/>\n</symbol>\n<symbol overflow=\"visible\" id=\"glyph1-4\">\n<path style=\"stroke:none;\" d=\"M 1.9375 -5.109375 L 1.9375 0 L 0.96875 0 L 0.96875 -5.109375 L 0.15625 -5.109375 L 0.15625 -5.8125 L 0.96875 -5.8125 L 0.96875 -6.46875 C 0.96875 -6.675781 0.988281 -6.867188 1.03125 -7.046875 C 1.070312 -7.234375 1.144531 -7.394531 1.25 -7.53125 C 1.351562 -7.664062 1.492188 -7.769531 1.671875 -7.84375 C 1.859375 -7.914062 2.097656 -7.953125 2.390625 -7.953125 C 2.503906 -7.953125 2.625 -7.945312 2.75 -7.9375 C 2.875 -7.925781 2.984375 -7.910156 3.078125 -7.890625 L 3.078125 -7.15625 C 3.015625 -7.164062 2.941406 -7.175781 2.859375 -7.1875 C 2.773438 -7.195312 2.703125 -7.203125 2.640625 -7.203125 C 2.492188 -7.203125 2.375 -7.179688 2.28125 -7.140625 C 2.195312 -7.097656 2.128906 -7.039062 2.078125 -6.96875 C 2.023438 -6.894531 1.988281 -6.804688 1.96875 -6.703125 C 1.945312 -6.597656 1.9375 -6.472656 1.9375 -6.328125 L 1.9375 -5.8125 L 3.078125 -5.8125 L 3.078125 -5.109375 Z M 1.9375 -5.109375 \"/>\n</symbol>\n<symbol overflow=\"visible\" id=\"glyph1-5\">\n<path style=\"stroke:none;\" d=\"M 6.015625 0 L 6.015625 -3.5 L 1.921875 -3.5 L 1.921875 0 L 0.90625 0 L 0.90625 -7.5625 L 1.921875 -7.5625 L 1.921875 -4.359375 L 6.015625 -4.359375 L 6.015625 -7.5625 L 7.046875 -7.5625 L 7.046875 0 Z M 6.015625 0 \"/>\n</symbol>\n<symbol overflow=\"visible\" id=\"glyph1-6\">\n<path style=\"stroke:none;\" d=\"M 4.171875 -3.140625 L 4.171875 0 L 3.15625 0 L 3.15625 -3.140625 L 0.234375 -7.5625 L 1.375 -7.5625 L 3.671875 -3.96875 L 5.96875 -7.5625 L 7.09375 -7.5625 Z M 4.171875 -3.140625 \"/>\n</symbol>\n<symbol overflow=\"visible\" id=\"glyph1-7\">\n<path style=\"stroke:none;\" d=\"M 6.75 -5.296875 C 6.75 -4.960938 6.691406 -4.648438 6.578125 -4.359375 C 6.472656 -4.078125 6.3125 -3.832031 6.09375 -3.625 C 5.882812 -3.414062 5.613281 -3.25 5.28125 -3.125 C 4.957031 -3.007812 4.582031 -2.953125 4.15625 -2.953125 L 1.921875 -2.953125 L 1.921875 0 L 0.90625 0 L 0.90625 -7.5625 L 4.09375 -7.5625 C 4.539062 -7.5625 4.929688 -7.503906 5.265625 -7.390625 C 5.597656 -7.285156 5.875 -7.132812 6.09375 -6.9375 C 6.3125 -6.738281 6.472656 -6.5 6.578125 -6.21875 C 6.691406 -5.9375 6.75 -5.628906 6.75 -5.296875 Z M 5.71875 -5.28125 C 5.71875 -5.757812 5.570312 -6.125 5.28125 -6.375 C 4.988281 -6.625 4.550781 -6.75 3.96875 -6.75 L 1.921875 -6.75 L 1.921875 -3.765625 L 4 -3.765625 C 4.59375 -3.765625 5.023438 -3.894531 5.296875 -4.15625 C 5.578125 -4.414062 5.71875 -4.789062 5.71875 -5.28125 Z M 5.71875 -5.28125 \"/>\n</symbol>\n<symbol overflow=\"visible\" id=\"glyph1-8\">\n<path style=\"stroke:none;\" d=\"M 0.90625 0 L 0.90625 -7.5625 L 6.640625 -7.5625 L 6.640625 -6.734375 L 1.921875 -6.734375 L 1.921875 -4.296875 L 6.328125 -4.296875 L 6.328125 -3.46875 L 1.921875 -3.46875 L 1.921875 -0.84375 L 6.859375 -0.84375 L 6.859375 0 Z M 0.90625 0 \"/>\n</symbol>\n<symbol overflow=\"visible\" id=\"glyph1-9\">\n<path style=\"stroke:none;\" d=\"M 6.25 0 L 4.28125 -3.140625 L 1.921875 -3.140625 L 1.921875 0 L 0.90625 0 L 0.90625 -7.5625 L 4.46875 -7.5625 C 4.894531 -7.5625 5.273438 -7.507812 5.609375 -7.40625 C 5.941406 -7.3125 6.21875 -7.171875 6.4375 -6.984375 C 6.664062 -6.804688 6.835938 -6.582031 6.953125 -6.3125 C 7.078125 -6.039062 7.140625 -5.738281 7.140625 -5.40625 C 7.140625 -5.164062 7.101562 -4.925781 7.03125 -4.6875 C 6.957031 -4.457031 6.84375 -4.242188 6.6875 -4.046875 C 6.539062 -3.859375 6.351562 -3.691406 6.125 -3.546875 C 5.894531 -3.410156 5.613281 -3.316406 5.28125 -3.265625 L 7.4375 0 Z M 6.109375 -5.390625 C 6.109375 -5.617188 6.066406 -5.816406 5.984375 -5.984375 C 5.898438 -6.148438 5.785156 -6.289062 5.640625 -6.40625 C 5.492188 -6.519531 5.3125 -6.601562 5.09375 -6.65625 C 4.875 -6.71875 4.628906 -6.75 4.359375 -6.75 L 1.921875 -6.75 L 1.921875 -3.953125 L 4.40625 -3.953125 C 4.695312 -3.953125 4.945312 -3.988281 5.15625 -4.0625 C 5.375 -4.132812 5.550781 -4.234375 5.6875 -4.359375 C 5.832031 -4.492188 5.9375 -4.648438 6 -4.828125 C 6.070312 -5.003906 6.109375 -5.191406 6.109375 -5.390625 Z M 6.109375 -5.390625 \"/>\n</symbol>\n<symbol overflow=\"visible\" id=\"glyph1-10\">\n<path style=\"stroke:none;\" d=\"M 3.875 -6.734375 L 3.875 0 L 2.84375 0 L 2.84375 -6.734375 L 0.25 -6.734375 L 0.25 -7.5625 L 6.46875 -7.5625 L 6.46875 -6.734375 Z M 3.875 -6.734375 \"/>\n</symbol>\n<symbol overflow=\"visible\" id=\"glyph1-11\">\n<path style=\"stroke:none;\" d=\"M 5.8125 0 L 1.765625 -6.453125 C 1.765625 -6.273438 1.769531 -6.097656 1.78125 -5.921875 C 1.789062 -5.773438 1.796875 -5.617188 1.796875 -5.453125 C 1.804688 -5.296875 1.8125 -5.15625 1.8125 -5.03125 L 1.8125 0 L 0.90625 0 L 0.90625 -7.5625 L 2.09375 -7.5625 L 6.1875 -1.078125 C 6.175781 -1.253906 6.164062 -1.429688 6.15625 -1.609375 C 6.144531 -1.753906 6.132812 -1.914062 6.125 -2.09375 C 6.125 -2.269531 6.125 -2.441406 6.125 -2.609375 L 6.125 -7.5625 L 7.046875 -7.5625 L 7.046875 0 Z M 5.8125 0 \"/>\n</symbol>\n<symbol overflow=\"visible\" id=\"glyph1-12\">\n<path style=\"stroke:none;\" d=\"M 6.828125 -2.09375 C 6.828125 -1.769531 6.765625 -1.472656 6.640625 -1.203125 C 6.523438 -0.941406 6.335938 -0.710938 6.078125 -0.515625 C 5.816406 -0.316406 5.488281 -0.160156 5.09375 -0.046875 C 4.707031 0.0546875 4.242188 0.109375 3.703125 0.109375 C 2.765625 0.109375 2.03125 -0.0507812 1.5 -0.375 C 0.976562 -0.707031 0.644531 -1.1875 0.5 -1.8125 L 1.5 -2.015625 C 1.539062 -1.816406 1.613281 -1.632812 1.71875 -1.46875 C 1.820312 -1.3125 1.960938 -1.175781 2.140625 -1.0625 C 2.316406 -0.945312 2.535156 -0.851562 2.796875 -0.78125 C 3.066406 -0.71875 3.382812 -0.6875 3.75 -0.6875 C 4.050781 -0.6875 4.328125 -0.710938 4.578125 -0.765625 C 4.835938 -0.816406 5.054688 -0.894531 5.234375 -1 C 5.421875 -1.113281 5.5625 -1.253906 5.65625 -1.421875 C 5.757812 -1.597656 5.8125 -1.800781 5.8125 -2.03125 C 5.8125 -2.28125 5.753906 -2.484375 5.640625 -2.640625 C 5.535156 -2.796875 5.378906 -2.921875 5.171875 -3.015625 C 4.960938 -3.117188 4.71875 -3.203125 4.4375 -3.265625 C 4.15625 -3.335938 3.84375 -3.410156 3.5 -3.484375 C 3.289062 -3.535156 3.078125 -3.585938 2.859375 -3.640625 C 2.648438 -3.703125 2.445312 -3.769531 2.25 -3.84375 C 2.050781 -3.914062 1.863281 -4.003906 1.6875 -4.109375 C 1.519531 -4.210938 1.375 -4.335938 1.25 -4.484375 C 1.125 -4.628906 1.023438 -4.796875 0.953125 -4.984375 C 0.890625 -5.179688 0.859375 -5.40625 0.859375 -5.65625 C 0.859375 -6.007812 0.929688 -6.316406 1.078125 -6.578125 C 1.222656 -6.835938 1.421875 -7.046875 1.671875 -7.203125 C 1.929688 -7.367188 2.234375 -7.488281 2.578125 -7.5625 C 2.929688 -7.644531 3.316406 -7.6875 3.734375 -7.6875 C 4.203125 -7.6875 4.601562 -7.644531 4.9375 -7.5625 C 5.269531 -7.488281 5.550781 -7.378906 5.78125 -7.234375 C 6.007812 -7.085938 6.191406 -6.90625 6.328125 -6.6875 C 6.460938 -6.476562 6.570312 -6.226562 6.65625 -5.9375 L 5.640625 -5.765625 C 5.585938 -5.941406 5.515625 -6.101562 5.421875 -6.25 C 5.328125 -6.394531 5.203125 -6.515625 5.046875 -6.609375 C 4.898438 -6.703125 4.710938 -6.773438 4.484375 -6.828125 C 4.265625 -6.878906 4.007812 -6.90625 3.71875 -6.90625 C 3.363281 -6.90625 3.066406 -6.875 2.828125 -6.8125 C 2.585938 -6.75 2.394531 -6.660156 2.25 -6.546875 C 2.113281 -6.441406 2.015625 -6.316406 1.953125 -6.171875 C 1.890625 -6.035156 1.859375 -5.878906 1.859375 -5.703125 C 1.859375 -5.484375 1.910156 -5.300781 2.015625 -5.15625 C 2.128906 -5.007812 2.28125 -4.882812 2.46875 -4.78125 C 2.664062 -4.6875 2.890625 -4.609375 3.140625 -4.546875 C 3.398438 -4.484375 3.675781 -4.421875 3.96875 -4.359375 C 4.195312 -4.304688 4.425781 -4.25 4.65625 -4.1875 C 4.882812 -4.132812 5.101562 -4.066406 5.3125 -3.984375 C 5.53125 -3.910156 5.726562 -3.820312 5.90625 -3.71875 C 6.09375 -3.613281 6.253906 -3.484375 6.390625 -3.328125 C 6.523438 -3.179688 6.628906 -3.003906 6.703125 -2.796875 C 6.785156 -2.597656 6.828125 -2.363281 6.828125 -2.09375 Z M 6.828125 -2.09375 \"/>\n</symbol>\n<symbol overflow=\"visible\" id=\"glyph1-13\">\n<path style=\"stroke:none;\" d=\"M 1.015625 0 L 1.015625 -7.5625 L 2.046875 -7.5625 L 2.046875 0 Z M 1.015625 0 \"/>\n</symbol>\n<symbol overflow=\"visible\" id=\"glyph1-14\">\n<path style=\"stroke:none;\" d=\"M 8.03125 -3.8125 C 8.03125 -3.226562 7.941406 -2.691406 7.765625 -2.203125 C 7.597656 -1.722656 7.351562 -1.3125 7.03125 -0.96875 C 6.707031 -0.625 6.3125 -0.359375 5.84375 -0.171875 C 5.382812 0.015625 4.859375 0.109375 4.265625 0.109375 C 3.640625 0.109375 3.09375 0.0078125 2.625 -0.1875 C 2.15625 -0.382812 1.765625 -0.65625 1.453125 -1 C 1.148438 -1.351562 0.914062 -1.769531 0.75 -2.25 C 0.59375 -2.726562 0.515625 -3.25 0.515625 -3.8125 C 0.515625 -4.40625 0.597656 -4.941406 0.765625 -5.421875 C 0.929688 -5.898438 1.171875 -6.304688 1.484375 -6.640625 C 1.804688 -6.972656 2.203125 -7.226562 2.671875 -7.40625 C 3.140625 -7.59375 3.675781 -7.6875 4.28125 -7.6875 C 4.882812 -7.6875 5.414062 -7.59375 5.875 -7.40625 C 6.34375 -7.226562 6.734375 -6.96875 7.046875 -6.625 C 7.367188 -6.289062 7.613281 -5.882812 7.78125 -5.40625 C 7.945312 -4.925781 8.03125 -4.394531 8.03125 -3.8125 Z M 6.984375 -3.8125 C 6.984375 -4.269531 6.925781 -4.6875 6.8125 -5.0625 C 6.695312 -5.4375 6.523438 -5.753906 6.296875 -6.015625 C 6.066406 -6.273438 5.78125 -6.476562 5.4375 -6.625 C 5.101562 -6.769531 4.71875 -6.84375 4.28125 -6.84375 C 3.832031 -6.84375 3.4375 -6.769531 3.09375 -6.625 C 2.75 -6.476562 2.460938 -6.273438 2.234375 -6.015625 C 2.015625 -5.753906 1.847656 -5.4375 1.734375 -5.0625 C 1.617188 -4.6875 1.5625 -4.269531 1.5625 -3.8125 C 1.5625 -3.363281 1.617188 -2.945312 1.734375 -2.5625 C 1.847656 -2.1875 2.019531 -1.863281 2.25 -1.59375 C 2.476562 -1.320312 2.757812 -1.109375 3.09375 -0.953125 C 3.4375 -0.796875 3.828125 -0.71875 4.265625 -0.71875 C 4.742188 -0.71875 5.148438 -0.796875 5.484375 -0.953125 C 5.828125 -1.109375 6.109375 -1.320312 6.328125 -1.59375 C 6.554688 -1.875 6.722656 -2.203125 6.828125 -2.578125 C 6.929688 -2.953125 6.984375 -3.363281 6.984375 -3.8125 Z M 6.984375 -3.8125 \"/>\n</symbol>\n<symbol overflow=\"visible\" id=\"glyph2-0\">\n<path style=\"stroke:none;\" d=\"M 0 -0.359375 L -7.328125 -0.359375 L -7.328125 -3.28125 L 0 -3.28125 Z M -0.359375 -0.734375 L -0.359375 -2.921875 L -6.96875 -2.921875 L -6.96875 -0.734375 Z M -0.359375 -0.734375 \"/>\n</symbol>\n<symbol overflow=\"visible\" id=\"glyph2-1\">\n<path style=\"stroke:none;\" d=\"M -2.9375 -1.484375 C -2.601562 -1.484375 -2.296875 -1.503906 -2.015625 -1.546875 C -1.734375 -1.597656 -1.488281 -1.679688 -1.28125 -1.796875 C -1.082031 -1.910156 -0.925781 -2.0625 -0.8125 -2.25 C -0.707031 -2.4375 -0.65625 -2.664062 -0.65625 -2.9375 C -0.65625 -3.28125 -0.75 -3.566406 -0.9375 -3.796875 C -1.125 -4.035156 -1.410156 -4.179688 -1.796875 -4.234375 L -1.734375 -5.203125 C -1.492188 -5.171875 -1.257812 -5.101562 -1.03125 -5 C -0.8125 -4.894531 -0.617188 -4.75 -0.453125 -4.5625 C -0.285156 -4.375 -0.148438 -4.144531 -0.046875 -3.875 C 0.0546875 -3.613281 0.109375 -3.3125 0.109375 -2.96875 C 0.109375 -2.507812 0.03125 -2.117188 -0.125 -1.796875 C -0.28125 -1.484375 -0.492188 -1.226562 -0.765625 -1.03125 C -1.035156 -0.832031 -1.351562 -0.6875 -1.71875 -0.59375 C -2.082031 -0.507812 -2.476562 -0.46875 -2.90625 -0.46875 C -3.300781 -0.46875 -3.644531 -0.5 -3.9375 -0.5625 C -4.238281 -0.625 -4.5 -0.710938 -4.71875 -0.828125 C -4.945312 -0.953125 -5.132812 -1.09375 -5.28125 -1.25 C -5.4375 -1.40625 -5.5625 -1.570312 -5.65625 -1.75 C -5.75 -1.9375 -5.816406 -2.128906 -5.859375 -2.328125 C -5.898438 -2.535156 -5.921875 -2.742188 -5.921875 -2.953125 C -5.921875 -3.285156 -5.875 -3.578125 -5.78125 -3.828125 C -5.695312 -4.085938 -5.578125 -4.304688 -5.421875 -4.484375 C -5.265625 -4.671875 -5.078125 -4.820312 -4.859375 -4.9375 C -4.648438 -5.050781 -4.425781 -5.128906 -4.1875 -5.171875 L -4.109375 -4.1875 C -4.429688 -4.132812 -4.6875 -4.003906 -4.875 -3.796875 C -5.0625 -3.597656 -5.15625 -3.3125 -5.15625 -2.9375 C -5.15625 -2.65625 -5.109375 -2.421875 -5.015625 -2.234375 C -4.929688 -2.054688 -4.796875 -1.910156 -4.609375 -1.796875 C -4.421875 -1.679688 -4.1875 -1.597656 -3.90625 -1.546875 C -3.632812 -1.503906 -3.3125 -1.484375 -2.9375 -1.484375 Z M -2.9375 -1.484375 \"/>\n</symbol>\n<symbol overflow=\"visible\" id=\"glyph2-2\">\n<path style=\"stroke:none;\" d=\"M -2.90625 -5.65625 C -1.894531 -5.65625 -1.140625 -5.429688 -0.640625 -4.984375 C -0.140625 -4.535156 0.109375 -3.882812 0.109375 -3.03125 C 0.109375 -2.625 0.046875 -2.257812 -0.078125 -1.9375 C -0.203125 -1.625 -0.390625 -1.359375 -0.640625 -1.140625 C -0.890625 -0.921875 -1.203125 -0.753906 -1.578125 -0.640625 C -1.953125 -0.523438 -2.394531 -0.46875 -2.90625 -0.46875 C -4.914062 -0.46875 -5.921875 -1.332031 -5.921875 -3.0625 C -5.921875 -3.519531 -5.859375 -3.910156 -5.734375 -4.234375 C -5.609375 -4.566406 -5.421875 -4.835938 -5.171875 -5.046875 C -4.921875 -5.253906 -4.601562 -5.40625 -4.21875 -5.5 C -3.84375 -5.601562 -3.40625 -5.65625 -2.90625 -5.65625 Z M -2.90625 -4.640625 C -3.363281 -4.640625 -3.738281 -4.601562 -4.03125 -4.53125 C -4.320312 -4.46875 -4.554688 -4.367188 -4.734375 -4.234375 C -4.910156 -4.097656 -5.03125 -3.929688 -5.09375 -3.734375 C -5.164062 -3.546875 -5.203125 -3.328125 -5.203125 -3.078125 C -5.203125 -2.835938 -5.164062 -2.613281 -5.09375 -2.40625 C -5.019531 -2.207031 -4.894531 -2.039062 -4.71875 -1.90625 C -4.539062 -1.769531 -4.304688 -1.664062 -4.015625 -1.59375 C -3.722656 -1.519531 -3.351562 -1.484375 -2.90625 -1.484375 C -2.457031 -1.484375 -2.082031 -1.519531 -1.78125 -1.59375 C -1.488281 -1.675781 -1.253906 -1.785156 -1.078125 -1.921875 C -0.910156 -2.054688 -0.789062 -2.21875 -0.71875 -2.40625 C -0.644531 -2.59375 -0.609375 -2.800781 -0.609375 -3.03125 C -0.609375 -3.269531 -0.640625 -3.488281 -0.703125 -3.6875 C -0.773438 -3.894531 -0.898438 -4.066406 -1.078125 -4.203125 C -1.253906 -4.347656 -1.488281 -4.457031 -1.78125 -4.53125 C -2.082031 -4.601562 -2.457031 -4.640625 -2.90625 -4.640625 Z M -2.90625 -4.640625 \"/>\n</symbol>\n<symbol overflow=\"visible\" id=\"glyph2-3\">\n<path style=\"stroke:none;\" d=\"M -5.8125 -1.6875 L -2.125 -1.6875 C -1.84375 -1.6875 -1.609375 -1.707031 -1.421875 -1.75 C -1.234375 -1.789062 -1.078125 -1.859375 -0.953125 -1.953125 C -0.835938 -2.046875 -0.753906 -2.164062 -0.703125 -2.3125 C -0.660156 -2.46875 -0.640625 -2.660156 -0.640625 -2.890625 C -0.640625 -3.117188 -0.675781 -3.320312 -0.75 -3.5 C -0.832031 -3.6875 -0.953125 -3.84375 -1.109375 -3.96875 C -1.265625 -4.101562 -1.453125 -4.207031 -1.671875 -4.28125 C -1.898438 -4.351562 -2.15625 -4.390625 -2.4375 -4.390625 L -5.8125 -4.390625 L -5.8125 -5.359375 L -1.234375 -5.359375 C -1.117188 -5.359375 -0.992188 -5.359375 -0.859375 -5.359375 C -0.722656 -5.359375 -0.59375 -5.359375 -0.46875 -5.359375 C -0.351562 -5.367188 -0.25 -5.375 -0.15625 -5.375 C -0.0703125 -5.375 -0.0195312 -5.378906 0 -5.390625 L 0 -4.46875 C -0.0195312 -4.46875 -0.0664062 -4.460938 -0.140625 -4.453125 C -0.222656 -4.453125 -0.3125 -4.445312 -0.40625 -4.4375 C -0.507812 -4.4375 -0.613281 -4.4375 -0.71875 -4.4375 C -0.832031 -4.4375 -0.925781 -4.4375 -1 -4.4375 L -1 -4.421875 C -0.820312 -4.328125 -0.664062 -4.222656 -0.53125 -4.109375 C -0.394531 -3.992188 -0.28125 -3.863281 -0.1875 -3.71875 C -0.09375 -3.570312 -0.0195312 -3.40625 0.03125 -3.21875 C 0.0820312 -3.03125 0.109375 -2.8125 0.109375 -2.5625 C 0.109375 -2.238281 0.0703125 -1.957031 0 -1.71875 C -0.0820312 -1.488281 -0.207031 -1.296875 -0.375 -1.140625 C -0.539062 -0.992188 -0.75 -0.882812 -1 -0.8125 C -1.257812 -0.75 -1.570312 -0.71875 -1.9375 -0.71875 L -5.8125 -0.71875 Z M -5.8125 -1.6875 \"/>\n</symbol>\n<symbol overflow=\"visible\" id=\"glyph2-4\">\n<path style=\"stroke:none;\" d=\"M 0 -4.4375 L -3.6875 -4.4375 C -3.96875 -4.4375 -4.203125 -4.414062 -4.390625 -4.375 C -4.578125 -4.332031 -4.726562 -4.265625 -4.84375 -4.171875 C -4.96875 -4.078125 -5.050781 -3.953125 -5.09375 -3.796875 C -5.144531 -3.648438 -5.171875 -3.460938 -5.171875 -3.234375 C -5.171875 -3.003906 -5.128906 -2.796875 -5.046875 -2.609375 C -4.972656 -2.429688 -4.859375 -2.273438 -4.703125 -2.140625 C -4.546875 -2.003906 -4.351562 -1.898438 -4.125 -1.828125 C -3.90625 -1.765625 -3.65625 -1.734375 -3.375 -1.734375 L 0 -1.734375 L 0 -0.765625 L -4.578125 -0.765625 C -4.691406 -0.765625 -4.816406 -0.757812 -4.953125 -0.75 C -5.085938 -0.75 -5.210938 -0.75 -5.328125 -0.75 C -5.453125 -0.75 -5.554688 -0.742188 -5.640625 -0.734375 C -5.734375 -0.734375 -5.789062 -0.734375 -5.8125 -0.734375 L -5.8125 -1.640625 C -5.789062 -1.648438 -5.738281 -1.65625 -5.65625 -1.65625 C -5.582031 -1.65625 -5.492188 -1.65625 -5.390625 -1.65625 C -5.296875 -1.664062 -5.191406 -1.671875 -5.078125 -1.671875 C -4.972656 -1.679688 -4.882812 -1.6875 -4.8125 -1.6875 L -4.8125 -1.703125 C -4.988281 -1.796875 -5.144531 -1.894531 -5.28125 -2 C -5.414062 -2.113281 -5.53125 -2.242188 -5.625 -2.390625 C -5.71875 -2.535156 -5.789062 -2.703125 -5.84375 -2.890625 C -5.894531 -3.085938 -5.921875 -3.3125 -5.921875 -3.5625 C -5.921875 -3.882812 -5.878906 -4.160156 -5.796875 -4.390625 C -5.722656 -4.628906 -5.601562 -4.820312 -5.4375 -4.96875 C -5.269531 -5.113281 -5.054688 -5.222656 -4.796875 -5.296875 C -4.535156 -5.367188 -4.226562 -5.40625 -3.875 -5.40625 L 0 -5.40625 Z M 0 -4.4375 \"/>\n</symbol>\n<symbol overflow=\"visible\" id=\"glyph2-5\">\n<path style=\"stroke:none;\" d=\"M -0.046875 -2.96875 C -0.00390625 -2.820312 0.0234375 -2.671875 0.046875 -2.515625 C 0.078125 -2.367188 0.09375 -2.195312 0.09375 -2 C 0.09375 -1.226562 -0.347656 -0.84375 -1.234375 -0.84375 L -5.109375 -0.84375 L -5.109375 -0.171875 L -5.8125 -0.171875 L -5.8125 -0.875 L -7.109375 -1.15625 L -7.109375 -1.8125 L -5.8125 -1.8125 L -5.8125 -2.875 L -5.109375 -2.875 L -5.109375 -1.8125 L -1.4375 -1.8125 C -1.15625 -1.8125 -0.957031 -1.851562 -0.84375 -1.9375 C -0.738281 -2.03125 -0.6875 -2.191406 -0.6875 -2.421875 C -0.6875 -2.515625 -0.691406 -2.601562 -0.703125 -2.6875 C -0.710938 -2.769531 -0.726562 -2.863281 -0.75 -2.96875 Z M -0.046875 -2.96875 \"/>\n</symbol>\n</g>\n<clipPath id=\"clip1\">\n  <path d=\"M 33.152344 5.480469 L 390.605469 5.480469 L 390.605469 471.851562 L 33.152344 471.851562 Z M 33.152344 5.480469 \"/>\n</clipPath>\n<clipPath id=\"clip2\">\n  <path d=\"M 33.152344 401 L 390.605469 401 L 390.605469 402 L 33.152344 402 Z M 33.152344 401 \"/>\n</clipPath>\n<clipPath id=\"clip3\">\n  <path d=\"M 33.152344 302 L 390.605469 302 L 390.605469 304 L 33.152344 304 Z M 33.152344 302 \"/>\n</clipPath>\n<clipPath id=\"clip4\">\n  <path d=\"M 33.152344 203 L 390.605469 203 L 390.605469 205 L 33.152344 205 Z M 33.152344 203 \"/>\n</clipPath>\n<clipPath id=\"clip5\">\n  <path d=\"M 33.152344 105 L 390.605469 105 L 390.605469 106 L 33.152344 106 Z M 33.152344 105 \"/>\n</clipPath>\n<clipPath id=\"clip6\">\n  <path d=\"M 33.152344 6 L 390.605469 6 L 390.605469 8 L 33.152344 8 Z M 33.152344 6 \"/>\n</clipPath>\n<clipPath id=\"clip7\">\n  <path d=\"M 77 5.480469 L 79 5.480469 L 79 471.851562 L 77 471.851562 Z M 77 5.480469 \"/>\n</clipPath>\n<clipPath id=\"clip8\">\n  <path d=\"M 167 5.480469 L 169 5.480469 L 169 471.851562 L 167 471.851562 Z M 167 5.480469 \"/>\n</clipPath>\n<clipPath id=\"clip9\">\n  <path d=\"M 257 5.480469 L 258 5.480469 L 258 471.851562 L 257 471.851562 Z M 257 5.480469 \"/>\n</clipPath>\n<clipPath id=\"clip10\">\n  <path d=\"M 347 5.480469 L 348 5.480469 L 348 471.851562 L 347 471.851562 Z M 347 5.480469 \"/>\n</clipPath>\n<clipPath id=\"clip11\">\n  <path d=\"M 33.152344 450 L 390.605469 450 L 390.605469 452 L 33.152344 452 Z M 33.152344 450 \"/>\n</clipPath>\n<clipPath id=\"clip12\">\n  <path d=\"M 33.152344 351 L 390.605469 351 L 390.605469 353 L 33.152344 353 Z M 33.152344 351 \"/>\n</clipPath>\n<clipPath id=\"clip13\">\n  <path d=\"M 33.152344 252 L 390.605469 252 L 390.605469 254 L 33.152344 254 Z M 33.152344 252 \"/>\n</clipPath>\n<clipPath id=\"clip14\">\n  <path d=\"M 33.152344 154 L 390.605469 154 L 390.605469 156 L 33.152344 156 Z M 33.152344 154 \"/>\n</clipPath>\n<clipPath id=\"clip15\">\n  <path d=\"M 33.152344 55 L 390.605469 55 L 390.605469 57 L 33.152344 57 Z M 33.152344 55 \"/>\n</clipPath>\n<clipPath id=\"clip16\">\n  <path d=\"M 122 5.480469 L 124 5.480469 L 124 471.851562 L 122 471.851562 Z M 122 5.480469 \"/>\n</clipPath>\n<clipPath id=\"clip17\">\n  <path d=\"M 212 5.480469 L 214 5.480469 L 214 471.851562 L 212 471.851562 Z M 212 5.480469 \"/>\n</clipPath>\n<clipPath id=\"clip18\">\n  <path d=\"M 301 5.480469 L 303 5.480469 L 303 471.851562 L 301 471.851562 Z M 301 5.480469 \"/>\n</clipPath>\n<clipPath id=\"clip19\">\n  <path d=\"M 407.042969 203.203125 L 424.324219 203.203125 L 424.324219 289.601562 L 407.042969 289.601562 Z M 407.042969 203.203125 \"/>\n</clipPath>\n<image id=\"image205\" width=\"1\" height=\"300\" xlink:href=\"data:image/png;base64,iVBORw0KGgoAAAANSUhEUgAAAAEAAAEsCAIAAACNMk6CAAAABmJLR0QA/wD/AP+gvaeTAAAAGUlEQVQ4jWMwzprBxMDAMIpH8SgexYMdAwAkhgOM3l5TyAAAAABJRU5ErkJggg==\"/>\n<pattern id=\"pattern0\" patternUnits=\"userSpaceOnUse\" width=\"1\" height=\"300\"  patternTransform=\"matrix(17.28,0,0,0.288,407.041096,203.20411)\">\n  <use xlink:href=\"#image205\"/>\n</pattern>\n</defs>\n<g id=\"surface201\">\n<rect x=\"0\" y=\"0\" width=\"504\" height=\"504\" style=\"fill:rgb(100%,100%,100%);fill-opacity:1;stroke:none;\"/>\n<rect x=\"0\" y=\"0\" width=\"504\" height=\"504\" style=\"fill:rgb(100%,100%,100%);fill-opacity:1;stroke:none;\"/>\n<path style=\"fill:none;stroke-width:1.066978;stroke-linecap:round;stroke-linejoin:round;stroke:rgb(100%,100%,100%);stroke-opacity:1;stroke-miterlimit:10;\" d=\"M 0 504 L 504 504 L 504 0 L 0 0 Z M 0 504 \"/>\n<g clip-path=\"url(#clip1)\" clip-rule=\"nonzero\">\n<path style=\" stroke:none;fill-rule:nonzero;fill:rgb(92.156863%,92.156863%,92.156863%);fill-opacity:1;\" d=\"M 33.152344 471.847656 L 390.605469 471.847656 L 390.605469 5.476562 L 33.152344 5.476562 Z M 33.152344 471.847656 \"/>\n</g>\n<g clip-path=\"url(#clip2)\" clip-rule=\"nonzero\">\n<path style=\"fill:none;stroke-width:0.533489;stroke-linecap:butt;stroke-linejoin:round;stroke:rgb(100%,100%,100%);stroke-opacity:1;stroke-miterlimit:10;\" d=\"M 33.152344 401.351562 L 390.601562 401.351562 \"/>\n</g>\n<g clip-path=\"url(#clip3)\" clip-rule=\"nonzero\">\n<path style=\"fill:none;stroke-width:0.533489;stroke-linecap:butt;stroke-linejoin:round;stroke:rgb(100%,100%,100%);stroke-opacity:1;stroke-miterlimit:10;\" d=\"M 33.152344 302.753906 L 390.601562 302.753906 \"/>\n</g>\n<g clip-path=\"url(#clip4)\" clip-rule=\"nonzero\">\n<path style=\"fill:none;stroke-width:0.533489;stroke-linecap:butt;stroke-linejoin:round;stroke:rgb(100%,100%,100%);stroke-opacity:1;stroke-miterlimit:10;\" d=\"M 33.152344 204.15625 L 390.601562 204.15625 \"/>\n</g>\n<g clip-path=\"url(#clip5)\" clip-rule=\"nonzero\">\n<path style=\"fill:none;stroke-width:0.533489;stroke-linecap:butt;stroke-linejoin:round;stroke:rgb(100%,100%,100%);stroke-opacity:1;stroke-miterlimit:10;\" d=\"M 33.152344 105.558594 L 390.601562 105.558594 \"/>\n</g>\n<g clip-path=\"url(#clip6)\" clip-rule=\"nonzero\">\n<path style=\"fill:none;stroke-width:0.533489;stroke-linecap:butt;stroke-linejoin:round;stroke:rgb(100%,100%,100%);stroke-opacity:1;stroke-miterlimit:10;\" d=\"M 33.152344 6.957031 L 390.601562 6.957031 \"/>\n</g>\n<g clip-path=\"url(#clip7)\" clip-rule=\"nonzero\">\n<path style=\"fill:none;stroke-width:0.533489;stroke-linecap:butt;stroke-linejoin:round;stroke:rgb(100%,100%,100%);stroke-opacity:1;stroke-miterlimit:10;\" d=\"M 78.027344 471.847656 L 78.027344 5.480469 \"/>\n</g>\n<g clip-path=\"url(#clip8)\" clip-rule=\"nonzero\">\n<path style=\"fill:none;stroke-width:0.533489;stroke-linecap:butt;stroke-linejoin:round;stroke:rgb(100%,100%,100%);stroke-opacity:1;stroke-miterlimit:10;\" d=\"M 167.777344 471.847656 L 167.777344 5.480469 \"/>\n</g>\n<g clip-path=\"url(#clip9)\" clip-rule=\"nonzero\">\n<path style=\"fill:none;stroke-width:0.533489;stroke-linecap:butt;stroke-linejoin:round;stroke:rgb(100%,100%,100%);stroke-opacity:1;stroke-miterlimit:10;\" d=\"M 257.523438 471.847656 L 257.523438 5.480469 \"/>\n</g>\n<g clip-path=\"url(#clip10)\" clip-rule=\"nonzero\">\n<path style=\"fill:none;stroke-width:0.533489;stroke-linecap:butt;stroke-linejoin:round;stroke:rgb(100%,100%,100%);stroke-opacity:1;stroke-miterlimit:10;\" d=\"M 347.273438 471.847656 L 347.273438 5.480469 \"/>\n</g>\n<g clip-path=\"url(#clip11)\" clip-rule=\"nonzero\">\n<path style=\"fill:none;stroke-width:1.066978;stroke-linecap:butt;stroke-linejoin:round;stroke:rgb(100%,100%,100%);stroke-opacity:1;stroke-miterlimit:10;\" d=\"M 33.152344 450.652344 L 390.601562 450.652344 \"/>\n</g>\n<g clip-path=\"url(#clip12)\" clip-rule=\"nonzero\">\n<path style=\"fill:none;stroke-width:1.066978;stroke-linecap:butt;stroke-linejoin:round;stroke:rgb(100%,100%,100%);stroke-opacity:1;stroke-miterlimit:10;\" d=\"M 33.152344 352.050781 L 390.601562 352.050781 \"/>\n</g>\n<g clip-path=\"url(#clip13)\" clip-rule=\"nonzero\">\n<path style=\"fill:none;stroke-width:1.066978;stroke-linecap:butt;stroke-linejoin:round;stroke:rgb(100%,100%,100%);stroke-opacity:1;stroke-miterlimit:10;\" d=\"M 33.152344 253.453125 L 390.601562 253.453125 \"/>\n</g>\n<g clip-path=\"url(#clip14)\" clip-rule=\"nonzero\">\n<path style=\"fill:none;stroke-width:1.066978;stroke-linecap:butt;stroke-linejoin:round;stroke:rgb(100%,100%,100%);stroke-opacity:1;stroke-miterlimit:10;\" d=\"M 33.152344 154.855469 L 390.601562 154.855469 \"/>\n</g>\n<g clip-path=\"url(#clip15)\" clip-rule=\"nonzero\">\n<path style=\"fill:none;stroke-width:1.066978;stroke-linecap:butt;stroke-linejoin:round;stroke:rgb(100%,100%,100%);stroke-opacity:1;stroke-miterlimit:10;\" d=\"M 33.152344 56.257812 L 390.601562 56.257812 \"/>\n</g>\n<g clip-path=\"url(#clip16)\" clip-rule=\"nonzero\">\n<path style=\"fill:none;stroke-width:1.066978;stroke-linecap:butt;stroke-linejoin:round;stroke:rgb(100%,100%,100%);stroke-opacity:1;stroke-miterlimit:10;\" d=\"M 122.902344 471.847656 L 122.902344 5.480469 \"/>\n</g>\n<g clip-path=\"url(#clip17)\" clip-rule=\"nonzero\">\n<path style=\"fill:none;stroke-width:1.066978;stroke-linecap:butt;stroke-linejoin:round;stroke:rgb(100%,100%,100%);stroke-opacity:1;stroke-miterlimit:10;\" d=\"M 212.652344 471.847656 L 212.652344 5.480469 \"/>\n</g>\n<g clip-path=\"url(#clip18)\" clip-rule=\"nonzero\">\n<path style=\"fill:none;stroke-width:1.066978;stroke-linecap:butt;stroke-linejoin:round;stroke:rgb(100%,100%,100%);stroke-opacity:1;stroke-miterlimit:10;\" d=\"M 302.398438 471.847656 L 302.398438 5.480469 \"/>\n</g>\n<path style=\"fill-rule:nonzero;fill:rgb(100%,100%,100%);fill-opacity:1;stroke-width:1.066978;stroke-linecap:square;stroke-linejoin:miter;stroke:rgb(20%,41.568627%,59.607843%);stroke-opacity:1;stroke-miterlimit:10;\" d=\"M 49.398438 450.652344 L 60.230469 450.652344 L 60.230469 440.792969 L 49.398438 440.792969 Z M 49.398438 450.652344 \"/>\n<path style=\"fill:none;stroke-width:1.066978;stroke-linecap:square;stroke-linejoin:miter;stroke:rgb(20%,41.568627%,59.607843%);stroke-opacity:1;stroke-miterlimit:10;\" d=\"M 60.230469 450.652344 L 71.0625 450.652344 Z M 60.230469 450.652344 \"/>\n<path style=\"fill-rule:nonzero;fill:rgb(100%,100%,100%);fill-opacity:1;stroke-width:1.066978;stroke-linecap:square;stroke-linejoin:miter;stroke:rgb(20%,41.568627%,59.607843%);stroke-opacity:1;stroke-miterlimit:10;\" d=\"M 71.0625 450.652344 L 81.894531 450.652344 L 81.894531 430.933594 L 71.0625 430.933594 Z M 71.0625 450.652344 \"/>\n<path style=\"fill:none;stroke-width:1.066978;stroke-linecap:square;stroke-linejoin:miter;stroke:rgb(20%,41.568627%,59.607843%);stroke-opacity:1;stroke-miterlimit:10;\" d=\"M 81.894531 450.652344 L 92.726562 450.652344 Z M 81.894531 450.652344 \"/>\n<path style=\"fill-rule:nonzero;fill:rgb(100%,100%,100%);fill-opacity:1;stroke-width:1.066978;stroke-linecap:square;stroke-linejoin:miter;stroke:rgb(20%,41.568627%,59.607843%);stroke-opacity:1;stroke-miterlimit:10;\" d=\"M 92.726562 450.652344 L 103.558594 450.652344 L 103.558594 273.175781 L 92.726562 273.175781 Z M 92.726562 450.652344 \"/>\n<path style=\"fill-rule:nonzero;fill:rgb(100%,100%,100%);fill-opacity:1;stroke-width:1.066978;stroke-linecap:square;stroke-linejoin:miter;stroke:rgb(20%,41.568627%,59.607843%);stroke-opacity:1;stroke-miterlimit:10;\" d=\"M 103.558594 450.652344 L 114.390625 450.652344 L 114.390625 430.933594 L 103.558594 430.933594 Z M 103.558594 450.652344 \"/>\n<path style=\"fill-rule:nonzero;fill:rgb(100%,100%,100%);fill-opacity:1;stroke-width:1.066978;stroke-linecap:square;stroke-linejoin:miter;stroke:rgb(20%,41.568627%,59.607843%);stroke-opacity:1;stroke-miterlimit:10;\" d=\"M 114.390625 450.652344 L 125.222656 450.652344 L 125.222656 105.558594 L 114.390625 105.558594 Z M 114.390625 450.652344 \"/>\n<path style=\"fill-rule:nonzero;fill:rgb(100%,100%,100%);fill-opacity:1;stroke-width:1.066978;stroke-linecap:square;stroke-linejoin:miter;stroke:rgb(20%,41.568627%,59.607843%);stroke-opacity:1;stroke-miterlimit:10;\" d=\"M 125.222656 450.652344 L 136.054688 450.652344 L 136.054688 401.351562 L 125.222656 401.351562 Z M 125.222656 450.652344 \"/>\n<path style=\"fill-rule:nonzero;fill:rgb(100%,100%,100%);fill-opacity:1;stroke-width:1.066978;stroke-linecap:square;stroke-linejoin:miter;stroke:rgb(20%,41.568627%,59.607843%);stroke-opacity:1;stroke-miterlimit:10;\" d=\"M 136.054688 450.652344 L 146.886719 450.652344 L 146.886719 273.175781 L 136.054688 273.175781 Z M 136.054688 450.652344 \"/>\n<path style=\"fill-rule:nonzero;fill:rgb(100%,100%,100%);fill-opacity:1;stroke-width:1.066978;stroke-linecap:square;stroke-linejoin:miter;stroke:rgb(20%,41.568627%,59.607843%);stroke-opacity:1;stroke-miterlimit:10;\" d=\"M 146.886719 450.652344 L 157.71875 450.652344 L 157.71875 421.074219 L 146.886719 421.074219 Z M 146.886719 450.652344 \"/>\n<path style=\"fill-rule:nonzero;fill:rgb(100%,100%,100%);fill-opacity:1;stroke-width:1.066978;stroke-linecap:square;stroke-linejoin:miter;stroke:rgb(20%,41.568627%,59.607843%);stroke-opacity:1;stroke-miterlimit:10;\" d=\"M 157.71875 450.652344 L 168.550781 450.652344 L 168.550781 302.753906 L 157.71875 302.753906 Z M 157.71875 450.652344 \"/>\n<path style=\"fill-rule:nonzero;fill:rgb(100%,100%,100%);fill-opacity:1;stroke-width:1.066978;stroke-linecap:square;stroke-linejoin:miter;stroke:rgb(20%,41.568627%,59.607843%);stroke-opacity:1;stroke-miterlimit:10;\" d=\"M 168.550781 450.652344 L 179.382812 450.652344 L 179.382812 440.792969 L 168.550781 440.792969 Z M 168.550781 450.652344 \"/>\n<path style=\"fill-rule:nonzero;fill:rgb(100%,100%,100%);fill-opacity:1;stroke-width:1.066978;stroke-linecap:square;stroke-linejoin:miter;stroke:rgb(20%,41.568627%,59.607843%);stroke-opacity:1;stroke-miterlimit:10;\" d=\"M 179.382812 450.652344 L 190.214844 450.652344 L 190.214844 263.316406 L 179.382812 263.316406 Z M 179.382812 450.652344 \"/>\n<path style=\"fill:none;stroke-width:1.066978;stroke-linecap:square;stroke-linejoin:miter;stroke:rgb(20%,41.568627%,59.607843%);stroke-opacity:1;stroke-miterlimit:10;\" d=\"M 190.214844 450.652344 L 201.046875 450.652344 Z M 190.214844 450.652344 \"/>\n<path style=\"fill-rule:nonzero;fill:rgb(100%,100%,100%);fill-opacity:1;stroke-width:1.066978;stroke-linecap:square;stroke-linejoin:miter;stroke:rgb(20%,41.568627%,59.607843%);stroke-opacity:1;stroke-miterlimit:10;\" d=\"M 201.042969 450.652344 L 211.875 450.652344 L 211.875 430.933594 L 201.042969 430.933594 Z M 201.042969 450.652344 \"/>\n<path style=\"fill-rule:nonzero;fill:rgb(100%,100%,100%);fill-opacity:1;stroke-width:1.066978;stroke-linecap:square;stroke-linejoin:miter;stroke:rgb(20%,41.568627%,59.607843%);stroke-opacity:1;stroke-miterlimit:10;\" d=\"M 211.875 450.652344 L 222.707031 450.652344 L 222.707031 342.195312 L 211.875 342.195312 Z M 211.875 450.652344 \"/>\n<path style=\"fill:none;stroke-width:1.066978;stroke-linecap:square;stroke-linejoin:miter;stroke:rgb(20%,41.568627%,59.607843%);stroke-opacity:1;stroke-miterlimit:10;\" d=\"M 222.707031 450.652344 L 233.539062 450.652344 Z M 222.707031 450.652344 \"/>\n<path style=\"fill-rule:nonzero;fill:rgb(100%,100%,100%);fill-opacity:1;stroke-width:1.066978;stroke-linecap:square;stroke-linejoin:miter;stroke:rgb(20%,41.568627%,59.607843%);stroke-opacity:1;stroke-miterlimit:10;\" d=\"M 233.539062 450.652344 L 244.371094 450.652344 L 244.371094 322.472656 L 233.539062 322.472656 Z M 233.539062 450.652344 \"/>\n<path style=\"fill:none;stroke-width:1.066978;stroke-linecap:square;stroke-linejoin:miter;stroke:rgb(20%,41.568627%,59.607843%);stroke-opacity:1;stroke-miterlimit:10;\" d=\"M 244.371094 450.652344 L 255.203125 450.652344 Z M 244.371094 450.652344 \"/>\n<path style=\"fill-rule:nonzero;fill:rgb(100%,100%,100%);fill-opacity:1;stroke-width:1.066978;stroke-linecap:square;stroke-linejoin:miter;stroke:rgb(20%,41.568627%,59.607843%);stroke-opacity:1;stroke-miterlimit:10;\" d=\"M 255.203125 450.652344 L 266.035156 450.652344 L 266.035156 26.679688 L 255.203125 26.679688 Z M 255.203125 450.652344 \"/>\n<path style=\"fill-rule:nonzero;fill:rgb(100%,100%,100%);fill-opacity:1;stroke-width:1.066978;stroke-linecap:square;stroke-linejoin:miter;stroke:rgb(20%,41.568627%,59.607843%);stroke-opacity:1;stroke-miterlimit:10;\" d=\"M 266.035156 450.652344 L 276.867188 450.652344 L 276.867188 440.792969 L 266.035156 440.792969 Z M 266.035156 450.652344 \"/>\n<path style=\"fill-rule:nonzero;fill:rgb(100%,100%,100%);fill-opacity:1;stroke-width:1.066978;stroke-linecap:square;stroke-linejoin:miter;stroke:rgb(20%,41.568627%,59.607843%);stroke-opacity:1;stroke-miterlimit:10;\" d=\"M 276.867188 450.652344 L 287.699219 450.652344 L 287.699219 371.773438 L 276.867188 371.773438 Z M 276.867188 450.652344 \"/>\n<path style=\"fill-rule:nonzero;fill:rgb(100%,100%,100%);fill-opacity:1;stroke-width:1.066978;stroke-linecap:square;stroke-linejoin:miter;stroke:rgb(20%,41.568627%,59.607843%);stroke-opacity:1;stroke-miterlimit:10;\" d=\"M 287.699219 450.652344 L 298.53125 450.652344 L 298.53125 440.792969 L 287.699219 440.792969 Z M 287.699219 450.652344 \"/>\n<path style=\"fill-rule:nonzero;fill:rgb(100%,100%,100%);fill-opacity:1;stroke-width:1.066978;stroke-linecap:square;stroke-linejoin:miter;stroke:rgb(20%,41.568627%,59.607843%);stroke-opacity:1;stroke-miterlimit:10;\" d=\"M 298.53125 450.652344 L 309.363281 450.652344 L 309.363281 401.351562 L 298.53125 401.351562 Z M 298.53125 450.652344 \"/>\n<path style=\"fill:none;stroke-width:1.066978;stroke-linecap:square;stroke-linejoin:miter;stroke:rgb(20%,41.568627%,59.607843%);stroke-opacity:1;stroke-miterlimit:10;\" d=\"M 309.363281 450.652344 L 320.195312 450.652344 Z M 309.363281 450.652344 \"/>\n<path style=\"fill-rule:nonzero;fill:rgb(100%,100%,100%);fill-opacity:1;stroke-width:1.066978;stroke-linecap:square;stroke-linejoin:miter;stroke:rgb(20%,41.568627%,59.607843%);stroke-opacity:1;stroke-miterlimit:10;\" d=\"M 320.195312 450.652344 L 331.027344 450.652344 L 331.027344 440.792969 L 320.195312 440.792969 Z M 320.195312 450.652344 \"/>\n<path style=\"fill:none;stroke-width:1.066978;stroke-linecap:square;stroke-linejoin:miter;stroke:rgb(20%,41.568627%,59.607843%);stroke-opacity:1;stroke-miterlimit:10;\" d=\"M 331.027344 450.652344 L 341.859375 450.652344 Z M 331.027344 450.652344 \"/>\n<path style=\"fill-rule:nonzero;fill:rgb(100%,100%,100%);fill-opacity:1;stroke-width:1.066978;stroke-linecap:square;stroke-linejoin:miter;stroke:rgb(20%,41.568627%,59.607843%);stroke-opacity:1;stroke-miterlimit:10;\" d=\"M 341.859375 450.652344 L 352.691406 450.652344 L 352.691406 292.894531 L 341.859375 292.894531 Z M 341.859375 450.652344 \"/>\n<path style=\"fill:none;stroke-width:1.066978;stroke-linecap:square;stroke-linejoin:miter;stroke:rgb(20%,41.568627%,59.607843%);stroke-opacity:1;stroke-miterlimit:10;\" d=\"M 352.691406 450.652344 L 363.523438 450.652344 Z M 352.691406 450.652344 \"/>\n<path style=\"fill-rule:nonzero;fill:rgb(100%,100%,100%);fill-opacity:1;stroke-width:1.066978;stroke-linecap:square;stroke-linejoin:miter;stroke:rgb(20%,41.568627%,59.607843%);stroke-opacity:1;stroke-miterlimit:10;\" d=\"M 363.523438 450.652344 L 374.355469 450.652344 L 374.355469 440.792969 L 363.523438 440.792969 Z M 363.523438 450.652344 \"/>\n<g style=\"fill:rgb(30.196078%,30.196078%,30.196078%);fill-opacity:1;\">\n  <use xlink:href=\"#glyph0-1\" x=\"23.21875\" y=\"454.118164\"/>\n</g>\n<g style=\"fill:rgb(30.196078%,30.196078%,30.196078%);fill-opacity:1;\">\n  <use xlink:href=\"#glyph0-2\" x=\"18.21875\" y=\"355.516602\"/>\n  <use xlink:href=\"#glyph0-1\" x=\"23.21875\" y=\"355.516602\"/>\n</g>\n<g style=\"fill:rgb(30.196078%,30.196078%,30.196078%);fill-opacity:1;\">\n  <use xlink:href=\"#glyph0-3\" x=\"18.21875\" y=\"256.918945\"/>\n  <use xlink:href=\"#glyph0-1\" x=\"23.21875\" y=\"256.918945\"/>\n</g>\n<g style=\"fill:rgb(30.196078%,30.196078%,30.196078%);fill-opacity:1;\">\n  <use xlink:href=\"#glyph0-4\" x=\"18.21875\" y=\"158.321289\"/>\n  <use xlink:href=\"#glyph0-1\" x=\"23.21875\" y=\"158.321289\"/>\n</g>\n<g style=\"fill:rgb(30.196078%,30.196078%,30.196078%);fill-opacity:1;\">\n  <use xlink:href=\"#glyph0-5\" x=\"18.21875\" y=\"59.723633\"/>\n  <use xlink:href=\"#glyph0-1\" x=\"23.21875\" y=\"59.723633\"/>\n</g>\n<path style=\"fill:none;stroke-width:1.066978;stroke-linecap:butt;stroke-linejoin:round;stroke:rgb(20%,20%,20%);stroke-opacity:1;stroke-miterlimit:10;\" d=\"M 30.410156 450.652344 L 33.152344 450.652344 \"/>\n<path style=\"fill:none;stroke-width:1.066978;stroke-linecap:butt;stroke-linejoin:round;stroke:rgb(20%,20%,20%);stroke-opacity:1;stroke-miterlimit:10;\" d=\"M 30.410156 352.050781 L 33.152344 352.050781 \"/>\n<path style=\"fill:none;stroke-width:1.066978;stroke-linecap:butt;stroke-linejoin:round;stroke:rgb(20%,20%,20%);stroke-opacity:1;stroke-miterlimit:10;\" d=\"M 30.410156 253.453125 L 33.152344 253.453125 \"/>\n<path style=\"fill:none;stroke-width:1.066978;stroke-linecap:butt;stroke-linejoin:round;stroke:rgb(20%,20%,20%);stroke-opacity:1;stroke-miterlimit:10;\" d=\"M 30.410156 154.855469 L 33.152344 154.855469 \"/>\n<path style=\"fill:none;stroke-width:1.066978;stroke-linecap:butt;stroke-linejoin:round;stroke:rgb(20%,20%,20%);stroke-opacity:1;stroke-miterlimit:10;\" d=\"M 30.410156 56.257812 L 33.152344 56.257812 \"/>\n<path style=\"fill:none;stroke-width:1.066978;stroke-linecap:butt;stroke-linejoin:round;stroke:rgb(20%,20%,20%);stroke-opacity:1;stroke-miterlimit:10;\" d=\"M 122.902344 474.589844 L 122.902344 471.847656 \"/>\n<path style=\"fill:none;stroke-width:1.066978;stroke-linecap:butt;stroke-linejoin:round;stroke:rgb(20%,20%,20%);stroke-opacity:1;stroke-miterlimit:10;\" d=\"M 212.652344 474.589844 L 212.652344 471.847656 \"/>\n<path style=\"fill:none;stroke-width:1.066978;stroke-linecap:butt;stroke-linejoin:round;stroke:rgb(20%,20%,20%);stroke-opacity:1;stroke-miterlimit:10;\" d=\"M 302.398438 474.589844 L 302.398438 471.847656 \"/>\n<g style=\"fill:rgb(30.196078%,30.196078%,30.196078%);fill-opacity:1;\">\n  <use xlink:href=\"#glyph0-3\" x=\"117.902344\" y=\"483.74707\"/>\n  <use xlink:href=\"#glyph0-1\" x=\"122.902344\" y=\"483.74707\"/>\n</g>\n<g style=\"fill:rgb(30.196078%,30.196078%,30.196078%);fill-opacity:1;\">\n  <use xlink:href=\"#glyph0-5\" x=\"207.652344\" y=\"483.74707\"/>\n  <use xlink:href=\"#glyph0-1\" x=\"212.652344\" y=\"483.74707\"/>\n</g>\n<g style=\"fill:rgb(30.196078%,30.196078%,30.196078%);fill-opacity:1;\">\n  <use xlink:href=\"#glyph0-6\" x=\"297.398438\" y=\"483.74707\"/>\n  <use xlink:href=\"#glyph0-1\" x=\"302.398438\" y=\"483.74707\"/>\n</g>\n<g style=\"fill:rgb(0%,0%,0%);fill-opacity:1;\">\n  <use xlink:href=\"#glyph1-1\" x=\"203.375\" y=\"496.477539\"/>\n  <use xlink:href=\"#glyph1-2\" x=\"205.375\" y=\"496.477539\"/>\n  <use xlink:href=\"#glyph1-3\" x=\"211.375\" y=\"496.477539\"/>\n  <use xlink:href=\"#glyph1-4\" x=\"217.375\" y=\"496.477539\"/>\n</g>\n<g style=\"fill:rgb(0%,0%,0%);fill-opacity:1;\">\n  <use xlink:href=\"#glyph2-1\" x=\"13.438477\" y=\"252.164062\"/>\n  <use xlink:href=\"#glyph2-2\" x=\"13.438477\" y=\"246.164062\"/>\n  <use xlink:href=\"#glyph2-3\" x=\"13.438477\" y=\"240.164062\"/>\n  <use xlink:href=\"#glyph2-4\" x=\"13.438477\" y=\"234.164062\"/>\n  <use xlink:href=\"#glyph2-5\" x=\"13.438477\" y=\"228.164062\"/>\n</g>\n<path style=\" stroke:none;fill-rule:nonzero;fill:rgb(100%,100%,100%);fill-opacity:1;\" d=\"M 401.5625 295.082031 L 498.519531 295.082031 L 498.519531 182.242188 L 401.5625 182.242188 Z M 401.5625 295.082031 \"/>\n<g clip-path=\"url(#clip19)\" clip-rule=\"nonzero\">\n<rect x=\"0\" y=\"0\" width=\"504\" height=\"504\" style=\"fill:url(#pattern0);stroke:none;\"/>\n</g>\n<g style=\"fill:rgb(0%,0%,0%);fill-opacity:1;\">\n  <use xlink:href=\"#glyph0-1\" x=\"429.800781\" y=\"249.868164\"/>\n</g>\n<g style=\"fill:rgb(0%,0%,0%);fill-opacity:1;\">\n  <use xlink:href=\"#glyph1-5\" x=\"407.042969\" y=\"196.68457\"/>\n  <use xlink:href=\"#glyph1-6\" x=\"415.042969\" y=\"196.68457\"/>\n  <use xlink:href=\"#glyph1-7\" x=\"422.042969\" y=\"196.68457\"/>\n  <use xlink:href=\"#glyph1-8\" x=\"429.042969\" y=\"196.68457\"/>\n  <use xlink:href=\"#glyph1-9\" x=\"436.042969\" y=\"196.68457\"/>\n  <use xlink:href=\"#glyph1-10\" x=\"444.042969\" y=\"196.68457\"/>\n  <use xlink:href=\"#glyph1-8\" x=\"451.042969\" y=\"196.68457\"/>\n  <use xlink:href=\"#glyph1-11\" x=\"458.042969\" y=\"196.68457\"/>\n  <use xlink:href=\"#glyph1-12\" x=\"466.042969\" y=\"196.68457\"/>\n  <use xlink:href=\"#glyph1-13\" x=\"473.042969\" y=\"196.68457\"/>\n  <use xlink:href=\"#glyph1-14\" x=\"476.042969\" y=\"196.68457\"/>\n  <use xlink:href=\"#glyph1-11\" x=\"485.042969\" y=\"196.68457\"/>\n</g>\n<path style=\"fill:none;stroke-width:0.375;stroke-linecap:butt;stroke-linejoin:round;stroke:rgb(100%,100%,100%);stroke-opacity:1;stroke-miterlimit:10;\" d=\"M 407.042969 246.402344 L 410.496094 246.402344 \"/>\n<path style=\"fill:none;stroke-width:0.375;stroke-linecap:butt;stroke-linejoin:round;stroke:rgb(100%,100%,100%);stroke-opacity:1;stroke-miterlimit:10;\" d=\"M 420.863281 246.402344 L 424.320312 246.402344 \"/>\n</g>\n</svg>\n",
      "text/plain": [
       "plot without title"
      ]
     },
     "metadata": {
      "application/pdf": {
       "height": 420,
       "width": 420
      },
      "image/jpeg": {
       "height": 420,
       "width": 420
      },
      "image/png": {
       "height": 420,
       "width": 420
      },
      "image/svg+xml": {
       "height": 420,
       "isolated": true,
       "width": 420
      }
     },
     "output_type": "display_data"
    }
   ],
   "source": [
    "ggplot(cohort_clean, aes(x=lvef, color=HYPERTENSION)) + geom_histogram(fill=\"white\")"
   ]
  },
  {
   "cell_type": "markdown",
   "metadata": {},
   "source": [
    "#### Questions:\n",
    "\n"
   ]
  },
  {
   "cell_type": "markdown",
   "metadata": {},
   "source": [
    "Do you observe any appreciable difference? Does these distributions show a remarkable characteristic?\n",
    "\n"
   ]
  },
  {
   "cell_type": "raw",
   "metadata": {},
   "source": [
    "There does not seem to be a significant difference based on gender. As the cohort does not seem to include LVEF data of subjects with hypertension, there is no distribution to be observed."
   ]
  }
 ],
 "metadata": {
  "kernelspec": {
   "display_name": "R",
   "language": "R",
   "name": "ir"
  },
  "language_info": {
   "codemirror_mode": "r",
   "file_extension": ".r",
   "mimetype": "text/x-r-source",
   "name": "R",
   "pygments_lexer": "r",
   "version": "4.2.1"
  },
  "org": null
 },
 "nbformat": 4,
 "nbformat_minor": 4
}
